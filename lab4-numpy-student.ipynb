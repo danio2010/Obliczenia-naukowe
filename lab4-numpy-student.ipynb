{
 "cells": [
  {
   "cell_type": "markdown",
   "id": "3673ff17",
   "metadata": {},
   "source": [
    "# <center> Zajęcia nr 4</center>"
   ]
  },
  {
   "cell_type": "markdown",
   "id": "73a89620",
   "metadata": {},
   "source": [
    "## Plan\n",
    "* obiekty ```numpy.ndarray```\n",
    "* proste wykresy"
   ]
  },
  {
   "cell_type": "code",
   "execution_count": 59,
   "id": "98e84ef7",
   "metadata": {},
   "outputs": [],
   "source": [
    "import numpy as np"
   ]
  },
  {
   "cell_type": "code",
   "execution_count": null,
   "id": "3a6e8a49",
   "metadata": {},
   "outputs": [],
   "source": [
    "#to sprawi, że tablice (czy każde inne obiekty) będą wyświetlane po przypisaniu do zmiennej\n",
    "from IPython.core.interactiveshell import InteractiveShell\n",
    "InteractiveShell.ast_node_interactivity = \"last_expr_or_assign\""
   ]
  },
  {
   "cell_type": "markdown",
   "id": "d1edd814",
   "metadata": {},
   "source": [
    "Podawowy obiekt to ```np.ndarray``` (N-dimensional array)\n",
    "\n",
    "Najważniejsze atrybuty:\n",
    "* ```.shape``` - kształt, czyli długość każdej z osi (dla 2D: (wiersze,kolumny))\n",
    "* ```.ndim``` - liczba osi (wymiarów)\n",
    "* ```.size``` - łączna liczba elementów\n",
    "* ```.dtype``` - typ przechowywanych danych (int,float,bool,complex)\n",
    "* ```.nbytes``` - liczba bajtów wykorzystywana przez dane\n"
   ]
  },
  {
   "cell_type": "markdown",
   "id": "679ad96c",
   "metadata": {},
   "source": [
    "## Tworzenie tablic"
   ]
  },
  {
   "cell_type": "code",
   "execution_count": null,
   "id": "79871ce5",
   "metadata": {},
   "outputs": [],
   "source": []
  },
  {
   "cell_type": "markdown",
   "id": "d15f5acb",
   "metadata": {},
   "source": [
    "---\n",
    "### Zadanie 1\n",
    "Stwórz dowolną tablicę liczb całkowitych ndarray z zagnieżdżonej listy. Sprawdź jej różne atrybuty. Spróbuj zamienić wszystkie liczby całkowite na zmiennoprzecinkowe.\n",
    "\n",
    "---"
   ]
  },
  {
   "cell_type": "code",
   "execution_count": null,
   "id": "85312597",
   "metadata": {},
   "outputs": [],
   "source": []
  },
  {
   "cell_type": "markdown",
   "id": "b58b19a8",
   "metadata": {},
   "source": [
    "**Uwaga** Określanie typu danych w tablicy może być bardzo istotne. Bez tego pewne operacje mogą być niewykonalne."
   ]
  },
  {
   "cell_type": "code",
   "execution_count": null,
   "id": "e9f344c7",
   "metadata": {},
   "outputs": [],
   "source": []
  },
  {
   "cell_type": "markdown",
   "id": "cae099d3",
   "metadata": {},
   "source": [
    "Części rzeczywista i urojona tablic liczb zespolonych są dostępne w atrybutach ```imag``` oraz ```real```"
   ]
  },
  {
   "cell_type": "markdown",
   "id": "8ad7ea1f",
   "metadata": {},
   "source": [
    "### Konstruktory:\n",
    "* ```np.array``` - tworzy z różnych tablicopodobnych typów\n",
    "* ```np.zeros``` - same zera\n",
    "* ```np.ones``` - same jedynki\n",
    "* ```np.eye``` - macierz z jedynkami na przekątnej (niekoniecznie głównej)\n",
    "* ```np.diag``` - macierz z elementami na przekątnej ((niekoniecznie głównej))\n",
    "\n",
    "* **!** ```np.linspace(start,koniec (domknięty),liczba elementów)```\n",
    "* **!** ```np.arange(start,koniec (otwarty),krok)```\n",
    "\n",
    "* ```np.random.radn``` - generuje tablicę liczb z rozkładu njednostajnego na $[0,1)$\n",
    "* ```np.fromfunction``` - wypełnia tablicę wartościami podanej funkcji dla każdej kombinacji indeksów\n",
    "* ```np.fromfile``` oraz ```np.tofile``` - wczytuje tablicę z pliku binarnego lub ją zapisuje\n",
    "* ```np.meshgrid``` - tworzy siatkę punktów z pojedynczych wektorów - zwraca tablice poszczególnych współrzędnych\n",
    "* ```scipy.linalg.block_diag``` - tworzy tablicę zawierającą na przekątnych inne tablice jako bloki\n",
    "\n",
    "Tworzenie tablic o cechach innych tablic:\n",
    "* ```np.ones_like``` - tablica pełna zer o wymiarach pobranych z tablicy w argumencie\n",
    "* ```np.zeros_like```\n"
   ]
  },
  {
   "cell_type": "code",
   "execution_count": null,
   "id": "403f838f",
   "metadata": {},
   "outputs": [],
   "source": []
  },
  {
   "cell_type": "markdown",
   "id": "0f5e702d",
   "metadata": {},
   "source": [
    "---\n",
    "### Zadanie 2\n",
    "Utwórz tablicę o wymiarach $5x3$, która będzie składać się z samych liczb $3.14$.\n",
    "\n",
    "---"
   ]
  },
  {
   "cell_type": "code",
   "execution_count": null,
   "id": "3aa80587",
   "metadata": {},
   "outputs": [],
   "source": []
  },
  {
   "cell_type": "markdown",
   "id": "06e69ef6",
   "metadata": {},
   "source": [
    "---\n",
    "### Zadanie 3\n",
    "Utwórz tablicę $10x10$, która na nad główną przekątną będzie zawierała kolejno liczby $1,2,\\ldots,9$.\n",
    "\n",
    "---"
   ]
  },
  {
   "cell_type": "code",
   "execution_count": null,
   "id": "52161262",
   "metadata": {},
   "outputs": [],
   "source": [
    "\n",
    "\n"
   ]
  },
  {
   "cell_type": "markdown",
   "id": "99fa7a74",
   "metadata": {},
   "source": [
    "---\n",
    "### Zadanie 4\n",
    "Skonstruuj macierz:\n",
    "$$\n",
    "Mat1=\\begin{bmatrix}\n",
    "1 &1 &0&0&0&0&0\\\\\n",
    "1&1&0&0&0&0&0\\\\\n",
    "0&0&0&0&0&0&0 \\\\\n",
    "0&0&0&0&0&0&0 \\\\\n",
    "0&0&0&0&3&0&0 \\\\\n",
    "0&0&0&0&0&2&4 \\\\\n",
    "0&0&0&0&0&4&2 \\\\\n",
    "\\end{bmatrix}\n",
    "$$\n",
    "---"
   ]
  },
  {
   "attachments": {
    "image.png": {
     "image/png": "[encoded data removed]"
    }
   },
   "cell_type": "markdown",
   "id": "b602b50c",
   "metadata": {},
   "source": [
    "## Indeksowanie i zakresy\n",
    "Tablice indeksujemy tak samo jak listy - dla każdej osi oddzielnie.\n",
    "\n",
    "**Uwaga:** indeksując tworzymy **widok** oryginalnej tablicy, czyli tablicę odnoszącą się do tych samych miejsc w pamięci komputera\n",
    "\n",
    "![image.png](attachment:image.png)"
   ]
  },
  {
   "cell_type": "code",
   "execution_count": null,
   "id": "1aab6d8e",
   "metadata": {},
   "outputs": [],
   "source": []
  },
  {
   "cell_type": "markdown",
   "id": "787a6e15",
   "metadata": {},
   "source": [
    "---\n",
    "### Zadanie 5\n",
    "W macierzy Mat1 zamień miejscami lewy górny narożnik 4X4 z prawym dolnym 3x3 (nazwij wynik Mat2)\n",
    "\n",
    "---"
   ]
  },
  {
   "cell_type": "code",
   "execution_count": null,
   "id": "15f8bd68",
   "metadata": {},
   "outputs": [],
   "source": []
  },
  {
   "cell_type": "markdown",
   "id": "5eae6c10",
   "metadata": {},
   "source": [
    "---\n",
    "### Zadanie 6\n",
    "Stwórz macierz Mat3, która będzie zawierała tylko elementy z Mat2 o obu parzystych współrzędnych.\n",
    "\n",
    "---"
   ]
  },
  {
   "cell_type": "code",
   "execution_count": null,
   "id": "8e31d419",
   "metadata": {},
   "outputs": [],
   "source": []
  },
  {
   "cell_type": "markdown",
   "id": "658eebe5",
   "metadata": {},
   "source": [
    "## Fancy indexing\n",
    "Bardzo ważną operacją jest tak zwane *fancy indexing*, które pozwala wydzielić te elementy tablicy, które spełniają jakiś warunek. **Uwaga** to indeksowanie nie tworzy widoku, ale tablicę z nowych danych (automatyczne `.copy()`)\n",
    "\n",
    "#### Indeksowanie listami/tablicami liczb całkowitych"
   ]
  },
  {
   "cell_type": "code",
   "execution_count": null,
   "id": "69674fb3",
   "metadata": {},
   "outputs": [],
   "source": []
  },
  {
   "cell_type": "markdown",
   "id": "0329dc15",
   "metadata": {},
   "source": [
    "#### Indeksowanie tablicami wartości logicznych\n",
    "\n",
    "Najpierw zobaczmy jak działają operacje logiczne na tablicach\n"
   ]
  },
  {
   "cell_type": "code",
   "execution_count": null,
   "id": "5b7df91e",
   "metadata": {},
   "outputs": [],
   "source": []
  },
  {
   "cell_type": "markdown",
   "id": "4a3eaa6f",
   "metadata": {},
   "source": [
    "Nie działają tu proste warunki logiczne `and` czy `or`. Ich odpowiedniki to `&` oraz `|`. Dla wszystkich operacji mamy ich odpowiedniki funkcyjne np. `np.logical_and`, `np.greater` czy `np.equal`."
   ]
  },
  {
   "attachments": {
    "image.png": {
     "image/png": "[encoded data removed]"
    }
   },
   "cell_type": "markdown",
   "id": "0c85e8be",
   "metadata": {},
   "source": [
    "Można mieszać dwa typy indeksowania\n",
    "![image.png](attachment:image.png)"
   ]
  },
  {
   "cell_type": "markdown",
   "id": "76c540d7",
   "metadata": {},
   "source": [
    "---\n",
    "### Zadanie 7\n",
    "Wczytaj dane z pliku *zad4.7.csv* tak jak poniżej. Dane te w pierwszej kolumnie zawierają temperaturę zewnętrzną, a w drugiej temperaturę zasobnika ciepłej wody użytkowej w domu (obie w stopniach Celcjusza). Ile jest rekordów, dla których temperatura zewnętrzna jest większa niż 10 stopni, a temperatura CWU mniejsza niż 35 stopni?\n",
    "\n",
    "---"
   ]
  },
  {
   "cell_type": "code",
   "execution_count": 103,
   "id": "380d8192",
   "metadata": {},
   "outputs": [
    {
     "data": {
      "text/plain": [
       "array([[13.6, 42.3],\n",
       "       [13.6, 42.3],\n",
       "       [13.6, 42.3],\n",
       "       ...,\n",
       "       [ 3.5, 42.3],\n",
       "       [ 3.5, 42.3],\n",
       "       [ 3.5, 42.3]])"
      ]
     },
     "execution_count": 103,
     "metadata": {},
     "output_type": "execute_result"
    }
   ],
   "source": [
    "import pandas as pd\n",
    "dane=np.array(pd.read_csv('zad4.7.csv'))\n"
   ]
  },
  {
   "cell_type": "code",
   "execution_count": null,
   "id": "f5a2bb69",
   "metadata": {},
   "outputs": [],
   "source": []
  },
  {
   "cell_type": "markdown",
   "id": "b1fcab7d",
   "metadata": {},
   "source": [
    "## Zmiana kształtu tablicy\n",
    "* `tablica.reshape()` - zmienia kształt, ale łączna liczba elementów musi się zgadzać\n",
    "* `tablica.flatten()` - tworzy spłaszczoną (jednowymiarową) kopię tablicy\n",
    "* `tablica.ravel()` - widok (nie kopia) spłaszczonej tablicy\n",
    "* `tablica.squeze()` - usuwa osie wymiaru 1\n",
    "* `tablica.transpose` lub `tablica.T` - tranpozycja\n",
    "\n",
    "\n",
    "* `np.hstack` - łączy tablice poziomo np. kolumny skleja w macierz\n",
    "* `np.vstack` - łączy tablice pionowo\n",
    "* `np.resize` - zmienia kształ tablicy, ewentualnie dublując dane lub je obcinając (najpierw spłaszcza `flatten`, a potem obcina i ustala kształt)\n",
    "* `np.split` - rozdziela macierz na kilka w podanych indeksach (wzdłuż podanej osi)"
   ]
  },
  {
   "cell_type": "code",
   "execution_count": null,
   "id": "67972970",
   "metadata": {},
   "outputs": [],
   "source": []
  },
  {
   "cell_type": "markdown",
   "id": "d5f425ee",
   "metadata": {},
   "source": [
    "---\n",
    "### Zadanie 8\n",
    "Utwórz tablicę\n",
    "\n",
    "$$\n",
    "\\begin{bmatrix}\n",
    "1&2&3&4\\\\\n",
    "5&6&7&8 \\\\\n",
    "9&10&11&12\\\\\n",
    "13&14&15&16\n",
    "\\end{bmatrix}\n",
    "$$\n",
    "\n",
    "---"
   ]
  },
  {
   "cell_type": "code",
   "execution_count": null,
   "id": "f4b52823",
   "metadata": {},
   "outputs": [],
   "source": []
  },
  {
   "cell_type": "markdown",
   "id": "4d9dc9a2",
   "metadata": {},
   "source": [
    "## Operacje na tablicach\n",
    "\n",
    "**Najważniejsze do zapamiętania**: operacje wykonywane są element po elemencie\n",
    "\n",
    "Kilka nieoczywistych funkcji:\n",
    "\n",
    "* ```np.remainder``` - reszta z dzielenia\n",
    "* ```np.floor``` - część całkowita\n",
    "* ```np.round``` - zaokrąglanie\n",
    "* ```np.sort``` - sortowanie\n",
    "* ```np.abs``` - wartośc bezwzględna\n",
    "\n",
    "\n",
    "* ```np.where``` - wybiera elementy z jednej lub drugiej tablicy, zależnie od (nie)spełnienia warunku\n",
    "* ```np.select``` - rozbudowane ```where```\n",
    "* ```np.nonzero``` - zwraca indeksy niezerowych elementów w tablicy\n",
    "\n"
   ]
  },
  {
   "cell_type": "code",
   "execution_count": null,
   "id": "1f2b2eaf",
   "metadata": {},
   "outputs": [],
   "source": []
  },
  {
   "cell_type": "markdown",
   "id": "a906959a",
   "metadata": {},
   "source": [
    "## Broadcasting (!)\n",
    "Macierze zmieniają swoje wymiary by dopasować się do innych macierzy w danej operacji."
   ]
  },
  {
   "cell_type": "code",
   "execution_count": null,
   "id": "3f9a3578",
   "metadata": {},
   "outputs": [],
   "source": []
  },
  {
   "attachments": {
    "image.png": {
     "image/png": "[encoded data removed]"
    }
   },
   "cell_type": "markdown",
   "id": "8c3d3ef2",
   "metadata": {},
   "source": [
    "![image.png](attachment:image.png)"
   ]
  },
  {
   "cell_type": "code",
   "execution_count": null,
   "id": "04614e0e",
   "metadata": {},
   "outputs": [],
   "source": []
  },
  {
   "cell_type": "markdown",
   "id": "d93e9abf",
   "metadata": {},
   "source": [
    "## Proste wykresy"
   ]
  },
  {
   "cell_type": "code",
   "execution_count": null,
   "id": "c8aab473",
   "metadata": {},
   "outputs": [],
   "source": []
  },
  {
   "cell_type": "markdown",
   "id": "59a13634",
   "metadata": {},
   "source": [
    "### Zadanie 9\n",
    "Stwórz wykres funkcji $e^x$ na przedziale $(-10,10)$ korzystając z 50 obliczonych punktów."
   ]
  },
  {
   "cell_type": "code",
   "execution_count": null,
   "id": "9c73a0de",
   "metadata": {},
   "outputs": [],
   "source": []
  },
  {
   "cell_type": "markdown",
   "id": "3175a9a0",
   "metadata": {},
   "source": [
    "## Funkcje agregujące\n",
    "* ```np.mean``` - średni\n",
    "* ```np.std``` - odchylenie standardowe\n",
    "* ```np.var``` - wariancja $var=std^2$\n",
    "* ```np.median```\n",
    "* ```np.sum```\n",
    "* ```np.prod```\n",
    "* ```np.cumsum``` - skomulowana suma\n",
    "* ```np.cumprod```\n",
    "* ```np.min, np.max```\n",
    "* ```np.argmin, np.argmax```\n",
    "* ```np.all, np.any``` - sprawdza czy wszystkie lub którykolwiek są True (np. różne od zera)\n",
    "\n",
    "\n",
    "**Uwaga** dla wielowymiarowych tablic możemy określić wzdłuż której z osi chcemy agregować"
   ]
  },
  {
   "cell_type": "markdown",
   "id": "10d419d8",
   "metadata": {},
   "source": [
    "---\n",
    "### Zadanie 10\n",
    "Narysuj wykres i znajdź w przybliżeniu najmniejszą wartość funkcji $f(x)=\\sin(x)\\cdot e^x$ na przedziale $[0,6]$. W jakim (mniej więcej) punkcie to minimum jest przyjmowane?\n",
    "\n",
    "---"
   ]
  },
  {
   "cell_type": "code",
   "execution_count": null,
   "id": "e8767583",
   "metadata": {},
   "outputs": [],
   "source": []
  },
  {
   "cell_type": "markdown",
   "id": "1ef092c6",
   "metadata": {},
   "source": [
    "## Zadania domowe\n",
    "\n",
    "Więcej ćwiczeń z numpy dla chętnych https://github.com/rougier/numpy-100/blob/master/100_Numpy_exercises.ipynb"
   ]
  },
  {
   "cell_type": "markdown",
   "id": "0386beb2",
   "metadata": {},
   "source": [
    "---\n",
    "### Zadanie 1\n",
    "Utwórz tablicę o wymiarach $5x6x3$ i elementach (indeksy $i,j,k$ startują od zera)\n",
    "\n",
    "$$\n",
    "X[i,j,k]=100+60\\cdot i+10\\cdot j+300\\cdot k\n",
    "$$\n",
    "\n",
    "---"
   ]
  },
  {
   "cell_type": "code",
   "execution_count": null,
   "id": "869f7156",
   "metadata": {},
   "outputs": [],
   "source": []
  },
  {
   "cell_type": "markdown",
   "id": "b245b14e",
   "metadata": {},
   "source": [
    "---\n",
    "### Zadanie 2\n",
    "Utwórz w jednej linii kodu następującą tablicę **nie wpisując wszystkich liczb ręcznie**.\n",
    "\n",
    "$$\n",
    "\\begin{bmatrix}\n",
    "10&11&12&13\\\\\n",
    "20&21&22&23\\\\\n",
    "30&31&32&33\n",
    "\\end{bmatrix}\n",
    "$$\n",
    "\n",
    "---"
   ]
  },
  {
   "cell_type": "code",
   "execution_count": null,
   "id": "9dc59eda",
   "metadata": {},
   "outputs": [],
   "source": []
  },
  {
   "cell_type": "markdown",
   "id": "0bb45f19",
   "metadata": {},
   "source": [
    "---\n",
    "### Zadanie 3\n",
    "Dodaj wszystkie liczby naturalne od 1 do 10000, które nie są podzielne przez 7 i nie są podzielne przez 4. Zrób to w jednej linii kodu (poza zdefiniowaniem tablicy liczb.\n",
    "\n",
    "---"
   ]
  },
  {
   "cell_type": "code",
   "execution_count": null,
   "id": "585f85fd",
   "metadata": {},
   "outputs": [],
   "source": []
  }
 ],
 "metadata": {
  "kernelspec": {
   "display_name": "Python 3 (ipykernel)",
   "language": "python",
   "name": "python3"
  },
  "language_info": {
   "codemirror_mode": {
    "name": "ipython",
    "version": 3
   },
   "file_extension": ".py",
   "mimetype": "text/x-python",
   "name": "python",
   "nbconvert_exporter": "python",
   "pygments_lexer": "ipython3",
   "version": "3.9.13"
  }
 },
 "nbformat": 4,
 "nbformat_minor": 5
}
