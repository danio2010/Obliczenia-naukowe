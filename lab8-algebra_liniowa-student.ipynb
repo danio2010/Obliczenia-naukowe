{
 "cells": [
  {
   "cell_type": "markdown",
   "metadata": {
    "id": "hj2coCRoT5Ox"
   },
   "source": [
    "# <center> Zajęcia nr 8 </center>"
   ]
  },
  {
   "cell_type": "markdown",
   "metadata": {},
   "source": [
    "## Plan\n",
    "* macierze jako tablice\n",
    "* wektory i wartości własne\n",
    "* rozkłady macierzy i zastosowania"
   ]
  },
  {
   "cell_type": "code",
   "execution_count": 2,
   "metadata": {
    "executionInfo": {
     "elapsed": 390,
     "status": "ok",
     "timestamp": 1648198990083,
     "user": {
      "displayName": "Daniel Strzelecki",
      "photoUrl": "https://lh3.googleusercontent.com/a-/AOh14GgoLLiNgjJ9e1-ZlcadyWQapT1Oeh_BJ_vC7Jv4wA=s64",
      "userId": "04998061441867974797"
     },
     "user_tz": -60
    },
    "id": "uJYNl_qyUJi3"
   },
   "outputs": [],
   "source": [
    "import numpy as np\n",
    "import scipy.linalg as spl #to nie jest 'globalny' skrót"
   ]
  },
  {
   "cell_type": "markdown",
   "metadata": {
    "id": "-q5_wNfNT7Re"
   },
   "source": [
    "## Algebra liniowa w numpy/scipy\n",
    "\n",
    "Większośc funkcji z `np.linalg` jest też w `scipy.linalg`, ale mogą mieć inne (generalnie bogatsze) możliwości. Korzystamy tu z funkcji pakietu `np.linalg`, a nie metody obiektów `np.ndarray`.\n",
    "\n",
    "* ```np.linalg.inv ``` - odwrotność macierzy\n",
    "* ```np.linalg.det``` - wyznacznik\n",
    "* ```np.linalg.eig``` - wartości i wektory własne\n",
    "* ```np.dot``` - iloczyn macierzowy (porównaj z `np.linalg.multi_dot`). Można też używać `@`\n",
    "* ```np.inner``` - iloczyn skalarny\n",
    "* ```np.cross``` - iloczyn wektorowy\n",
    "\n",
    "* ```np.linalg.norm``` - norma macierzy lub wektora"
   ]
  },
  {
   "cell_type": "markdown",
   "metadata": {
    "id": "gOAiEUa7T9_b"
   },
   "source": [
    "### Zadanie 1\n",
    "Niech $A=\\begin{bmatrix} 2&3\\\\0&2\\end{bmatrix}$ oraz $B=\\begin{bmatrix} 2 & 5 \\\\ 3 & 8 \\end{bmatrix}$. Wyznacz iloczyn $C=BAB^{-1}$. Oblicz wartości własne macierzy $A$ i macierzy $C$."
   ]
  },
  {
   "cell_type": "code",
   "execution_count": null,
   "metadata": {},
   "outputs": [],
   "source": []
  },
  {
   "cell_type": "markdown",
   "metadata": {},
   "source": [
    "### Zadanie 2\n",
    "Stwórz macierz $2x2$ o wartościach własnych 1 i 2."
   ]
  },
  {
   "cell_type": "code",
   "execution_count": null,
   "metadata": {},
   "outputs": [],
   "source": []
  },
  {
   "cell_type": "markdown",
   "metadata": {
    "id": "4_RzdcaWT-IJ"
   },
   "source": [
    "#### Rozkłady macierzy\n",
    "* ```np.linalg.eig``` - to właściwie rozkład Jordana (macierz kwadratowa)\n",
    "* ```np.linalg.svd``` - rozkład SVD (ortogonalna, diagonalna, ortogonalna)\n",
    "* ```np.linalg.qr``` - rozkład QR (ortogonalna, górnotrójkątna)\n",
    "* ```scipy.linalg.lu``` - rozkład LU (dolnotrójkątna, górnotrójkątna)"
   ]
  },
  {
   "cell_type": "markdown",
   "metadata": {
    "id": "TXgc9cA9Ul3b"
   },
   "source": [
    "### Zadanie 3\n",
    "Znajdź rozkład własny i rozkład SVD macierzy $\\begin{bmatrix} 1&2&3\\\\1&2&1\\\\0&1&0\\end{bmatrix}$."
   ]
  },
  {
   "cell_type": "code",
   "execution_count": null,
   "metadata": {},
   "outputs": [],
   "source": []
  },
  {
   "cell_type": "markdown",
   "metadata": {
    "id": "A-HdYw02U2-x"
   },
   "source": [
    "### Zadanie 4\n",
    "Oblicz $A^{20}$ dla \n",
    "\n",
    "$$\n",
    "A=\\begin{bmatrix}\n",
    "4&0&-1&1 \\\\\n",
    "0&3&1&2 \\\\\n",
    "-2&1&1&0 \\\\\n",
    "1&2&0&-1\n",
    "\\end{bmatrix}\n",
    "$$"
   ]
  },
  {
   "cell_type": "code",
   "execution_count": 3,
   "metadata": {
    "executionInfo": {
     "elapsed": 12,
     "status": "ok",
     "timestamp": 1648199248765,
     "user": {
      "displayName": "Daniel Strzelecki",
      "photoUrl": "https://lh3.googleusercontent.com/a-/AOh14GgoLLiNgjJ9e1-ZlcadyWQapT1Oeh_BJ_vC7Jv4wA=s64",
      "userId": "04998061441867974797"
     },
     "user_tz": -60
    },
    "id": "SUksY1MGT7s5"
   },
   "outputs": [],
   "source": [
    "A=np.array([[4,0,-1,1],[0,3,1,2],[-2,1,1,0],[1,2,0,-1]])"
   ]
  },
  {
   "cell_type": "code",
   "execution_count": null,
   "metadata": {},
   "outputs": [],
   "source": []
  },
  {
   "cell_type": "markdown",
   "metadata": {
    "id": "dtS3Cu3MV1uv"
   },
   "source": [
    "### Zadanie 5\n",
    "Użyj rozkładu SVD do kompresji wybranego obrazu czarno-białego (np. tego https://thumbs.dreamstime.com/b/mighty-beautiful-lion-resting-african-savannah-black-white-kenya-96042281.jpg)"
   ]
  },
  {
   "cell_type": "code",
   "execution_count": 18,
   "metadata": {
    "executionInfo": {
     "elapsed": 398,
     "status": "ok",
     "timestamp": 1648205630342,
     "user": {
      "displayName": "Daniel Strzelecki",
      "photoUrl": "https://lh3.googleusercontent.com/a-/AOh14GgoLLiNgjJ9e1-ZlcadyWQapT1Oeh_BJ_vC7Jv4wA=s64",
      "userId": "04998061441867974797"
     },
     "user_tz": -60
    },
    "id": "8uQ9Q5NUVpn_"
   },
   "outputs": [],
   "source": [
    "import numpy as np\n",
    "from skimage.io import imread, imsave #wczytywanie i zapisywanie obrazków\n",
    "import skimage\n",
    "import matplotlib.pyplot as plt #plt.imshow"
   ]
  },
  {
   "cell_type": "code",
   "execution_count": null,
   "metadata": {},
   "outputs": [],
   "source": []
  },
  {
   "cell_type": "code",
   "execution_count": null,
   "metadata": {},
   "outputs": [],
   "source": []
  },
  {
   "cell_type": "markdown",
   "metadata": {
    "id": "24VN4j05vqgE"
   },
   "source": [
    "## Rozwiązywanie równan liniowych\n",
    "\n",
    "* ```np.linalg.cond``` - współczynnik uwarunkowania macierzy\n",
    "* ```np.linalg.solve``` - rozwiązywanie równania macierzowego"
   ]
  },
  {
   "cell_type": "markdown",
   "metadata": {
    "id": "g3Qs0Pohvta1"
   },
   "source": [
    "### Zadanie 6\n",
    "Oblicz współczynnik uwarunkowania i rozwiąż układ równań $Ax=b$. Oblicz iloraz błędów bezwzględnych rozwiązań $x(b)$ i ich argumentów $b$.\n",
    "\n",
    "a)\n",
    "$$\n",
    "A_1=\\begin{bmatrix} 1&0&2\\\\3&2&1\\\\1&1&1 \\end{bmatrix},\\quad b_{11}=\\begin{bmatrix}20.001\\\\-9.9999\\\\ 100.00001\\end{bmatrix},\\quad  b_{12}=\\begin{bmatrix}20\\\\-10\\\\ 100\\end{bmatrix}\n",
    "$$\n",
    "\n",
    "b)\n",
    "$$\n",
    "A_2=\\begin{bmatrix} 1&2\\\\2&3,999 \\end{bmatrix},\\quad b_{21}=\\begin{bmatrix}4 \\\\ 7,999\\end{bmatrix},\\quad  b_{22}=\\begin{bmatrix}4 \\\\ 8\\end{bmatrix}\n",
    "$$"
   ]
  },
  {
   "cell_type": "code",
   "execution_count": 25,
   "metadata": {
    "colab": {
     "base_uri": "https://localhost:8080/"
    },
    "executionInfo": {
     "elapsed": 296,
     "status": "ok",
     "timestamp": 1648206266763,
     "user": {
      "displayName": "Daniel Strzelecki",
      "photoUrl": "https://lh3.googleusercontent.com/a-/AOh14GgoLLiNgjJ9e1-ZlcadyWQapT1Oeh_BJ_vC7Jv4wA=s64",
      "userId": "04998061441867974797"
     },
     "user_tz": -60
    },
    "id": "WkUqMdncvq6J",
    "outputId": "21aafc50-90ff-47b4-bdd7-0cd07bbe5cff"
   },
   "outputs": [],
   "source": [
    "A1=np.array([[1,0,2],[3,2,1],[1,1,1]])\n",
    "b11=np.array([20.001,-9.9999,100.00001])\n",
    "b12=np.array([20,-10,100])\n",
    "\n",
    "A2=np.array([[1,2],[2,3.999]])\n",
    "b21=np.array([4,7.999])\n",
    "b22=np.array([4,8])"
   ]
  },
  {
   "cell_type": "code",
   "execution_count": null,
   "metadata": {},
   "outputs": [],
   "source": []
  },
  {
   "cell_type": "markdown",
   "metadata": {
    "id": "Y7eWhdNCwFaG"
   },
   "source": [
    "### Zadanie 7 (absorbujący łańcuch Markowa)\n",
    "$P=\\begin{bmatrix} 1&0&0&0&0&0\\\\0&1&0&0&0&0\\\\p&q&r&0&0&0\\\\p&0&q&r&0&0\\\\p&0&0&q&r&0\\\\p&0&0&0&q&r \\end{bmatrix}$\n",
    "\n",
    "\n",
    "\n",
    "Macierz P opisuje prawdopodobieństwa przejść między sześcioma stanami: wyrzucony ze studiów, ukończył studia, na 5 roku, na 4 roku, na 3 roku, na 2 roku, na 1 roku. (np. ze stanu nr 6 do stanu nr 5m czyli przejście z pierwszego roku na drugi z prawdop. = q). Przyjmijmy p=0.2, q=0.7, r=0.1.\n",
    "\n",
    "* Oblicz prawdopodobieństwo ukończenia w przyszłości studiów jeśli jest się na drugim roku.\n",
    "\n",
    "* Zauważ w macierzy $P$ blokową strukturę: $P=\\begin{bmatrix} Id & 0 \\\\ R & Q \\end{bmatrix}$. Porównaj poprzedni wynik z wynikiem mnożenia $(Id-Q)^{-1} R$."
   ]
  },
  {
   "cell_type": "code",
   "execution_count": 31,
   "metadata": {
    "executionInfo": {
     "elapsed": 322,
     "status": "ok",
     "timestamp": 1648206502925,
     "user": {
      "displayName": "Daniel Strzelecki",
      "photoUrl": "https://lh3.googleusercontent.com/a-/AOh14GgoLLiNgjJ9e1-ZlcadyWQapT1Oeh_BJ_vC7Jv4wA=s64",
      "userId": "04998061441867974797"
     },
     "user_tz": -60
    },
    "id": "6A_fAc1Yw1LN"
   },
   "outputs": [],
   "source": [
    "p=0.2\n",
    "q=0.7\n",
    "r=0.1\n",
    "P=np.array([[1,0,0,0,0,0],[0,1,0,0,0,0],[p,q,r,0,0,0],[p,0,q,r,0,0],[p,0,0,q,r,0],[p,0,0,0,q,r]])"
   ]
  },
  {
   "cell_type": "code",
   "execution_count": null,
   "metadata": {
    "id": "RNhkZ6UDw4TG"
   },
   "outputs": [],
   "source": []
  },
  {
   "cell_type": "code",
   "execution_count": null,
   "metadata": {
    "id": "-Yrot9s2w4uD"
   },
   "outputs": [],
   "source": []
  },
  {
   "cell_type": "markdown",
   "metadata": {
    "id": "hTHWJVPWwIlB"
   },
   "source": []
  },
  {
   "cell_type": "markdown",
   "metadata": {
    "id": "GkMTlKl6wG78"
   },
   "source": [
    "### Zadanie domowe\n",
    "Stworzyć macierz 3x3 o współczynniku uwarunkowania co najmniej $10000$ i sprawdzić iloraz błędów bezwzglednych (jak na zajęciach) rozwiązania dla $b_{11}$ i $b_{12}$."
   ]
  },
  {
   "cell_type": "code",
   "execution_count": null,
   "metadata": {},
   "outputs": [],
   "source": []
  }
 ],
 "metadata": {
  "colab": {
   "authorship_tag": "ABX9TyOnrmu+O345NLwMOBJLuq+h",
   "collapsed_sections": [],
   "name": "LAB6.ipynb",
   "provenance": []
  },
  "kernelspec": {
   "display_name": "Python 3 (ipykernel)",
   "language": "python",
   "name": "python3"
  },
  "language_info": {
   "codemirror_mode": {
    "name": "ipython",
    "version": 3
   },
   "file_extension": ".py",
   "mimetype": "text/x-python",
   "name": "python",
   "nbconvert_exporter": "python",
   "pygments_lexer": "ipython3",
   "version": "3.9.16"
  }
 },
 "nbformat": 4,
 "nbformat_minor": 1
}
