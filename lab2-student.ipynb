{
 "cells": [
  {
   "cell_type": "markdown",
   "id": "bd962210",
   "metadata": {},
   "source": [
    "# <center> Zajęcia nr 2</center>"
   ]
  },
  {
   "cell_type": "markdown",
   "id": "07f63339",
   "metadata": {},
   "source": [
    "## Plan:\n",
    "* kontynuacja powtórki pythona\n",
    "* przykładowe algorytmy (konstrukcja funkcji)\n",
    "* czytanie dokumentacji"
   ]
  },
  {
   "cell_type": "markdown",
   "id": "52580ece",
   "metadata": {},
   "source": [
    "## Kontynuacja powtórki"
   ]
  },
  {
   "cell_type": "markdown",
   "id": "14ec8b26",
   "metadata": {},
   "source": [
    "### Definiowanie funkcji"
   ]
  },
  {
   "cell_type": "code",
   "execution_count": null,
   "id": "fd8df72d",
   "metadata": {},
   "outputs": [],
   "source": []
  },
  {
   "cell_type": "markdown",
   "id": "bf1a383d",
   "metadata": {
    "id": "DqX7c5e5USTL"
   },
   "source": [
    "### Podstawowe typy danych"
   ]
  },
  {
   "cell_type": "markdown",
   "id": "d4288dbb",
   "metadata": {},
   "source": [
    "#### Napisy"
   ]
  },
  {
   "cell_type": "code",
   "execution_count": 4,
   "id": "2a56a2b2",
   "metadata": {
    "id": "SPzCm-HOT-zd"
   },
   "outputs": [],
   "source": [
    "napis1='Napis pierwszy'\n",
    "napis2=\"Napis drugi\"\n",
    "napis3=\"Powiedział 'nie rób tego'\"\n",
    "napis4='Powiedział \"nie rób tego\"'"
   ]
  },
  {
   "cell_type": "markdown",
   "id": "105da616",
   "metadata": {},
   "source": [
    "#### Wyświetlanie napisów sformatowanych"
   ]
  },
  {
   "cell_type": "markdown",
   "id": "2f50b3be",
   "metadata": {},
   "source": [
    "#### Łączenie napisów"
   ]
  },
  {
   "cell_type": "markdown",
   "id": "39539285",
   "metadata": {
    "id": "eChDEYDgX8Dn"
   },
   "source": [
    "#### Listy"
   ]
  },
  {
   "cell_type": "code",
   "execution_count": 15,
   "id": "a67c8345",
   "metadata": {
    "id": "J5RF2ua0Vy1N"
   },
   "outputs": [],
   "source": [
    "lista=[1,2,3]"
   ]
  },
  {
   "cell_type": "code",
   "execution_count": 16,
   "id": "98b234c0",
   "metadata": {
    "id": "BYwaTEt1WWgb"
   },
   "outputs": [],
   "source": [
    "lista2=[1,2,3.0,\"tak\"]"
   ]
  },
  {
   "cell_type": "code",
   "execution_count": 17,
   "id": "381e8a86",
   "metadata": {
    "id": "4db-JpWIWcch"
   },
   "outputs": [],
   "source": [
    "lista3=[[1,2],3,4,['jeden','dwa']]"
   ]
  },
  {
   "cell_type": "markdown",
   "id": "8a317a64",
   "metadata": {},
   "source": [
    "#### Przydatne metody obiektu typu ```list```"
   ]
  },
  {
   "cell_type": "code",
   "execution_count": null,
   "id": "94d847d6",
   "metadata": {},
   "outputs": [],
   "source": []
  },
  {
   "cell_type": "markdown",
   "id": "5f0a03e1",
   "metadata": {},
   "source": [
    "#### Cięcie listy"
   ]
  },
  {
   "cell_type": "code",
   "execution_count": null,
   "id": "74316f47",
   "metadata": {},
   "outputs": [],
   "source": []
  },
  {
   "cell_type": "markdown",
   "id": "2f7e7513",
   "metadata": {},
   "source": [
    "#### List comprehension\n",
    "```newlist = [[wyrażenie] for [elem] in [coś iterowalnego] if [waruenk logiczny]]```"
   ]
  },
  {
   "cell_type": "markdown",
   "id": "55dd8e4c",
   "metadata": {
    "id": "tbzDJ6SSLBel"
   },
   "source": [
    "---\n",
    "#### Zadanie 1\n",
    "Wygeneruj i wyświetl zawartość listy:\n",
    "* zawierającej liczby całkowite z zakresu od $−3$ do $6$ (z końcami),\n",
    "* zawierającej liczby parzyste z przedziału $[0, 15]$,\n",
    "* zawierającej liczby niedodatnie, podzielne przez $3$ z przedziełu $[-15, 0]$ ustawione w kolejności malejącej.\n",
    "---\n",
    "\n"
   ]
  },
  {
   "cell_type": "code",
   "execution_count": null,
   "id": "f3d363f9",
   "metadata": {},
   "outputs": [],
   "source": []
  },
  {
   "cell_type": "markdown",
   "id": "87e46340",
   "metadata": {},
   "source": [
    "\n",
    "#### Zadanie 2\n",
    "Niech $L = [1, 3, 5, 7, 8, 10, 15, 77, 150]$. Przygotuj program, który wygeneruje listę, która:\n",
    "\n",
    "1. zawiera kwadraty liczb z listy $L$,\n",
    "\n",
    "1. zawiera wartości funkcji $f (x) = x/(x-2)$ dla $x$ z listy $L$ (na dwa sposoby - jeden z wykorzystaniem lambda wyrażenia),\n",
    "\n",
    "1. zawiera tylko liczby podzielne przez $3$ z listy $L$,\n",
    "\n",
    "1. zawiera tylko liczby podzielne przez $3$, ale niepodzielne przez $5$ z listy $L$.\n",
    "---\n"
   ]
  },
  {
   "cell_type": "code",
   "execution_count": null,
   "id": "39db6aaa",
   "metadata": {},
   "outputs": [],
   "source": []
  },
  {
   "cell_type": "markdown",
   "id": "204356ce",
   "metadata": {},
   "source": [
    "\n",
    "#### Zadanie 3 (dodatkowe)\n",
    "Oblicz wartości funkcji $f(x)=x^2$ dla liczb $0.1, 0.2, \\ldots, 0.9, 1$.\n",
    "\n",
    "---\n"
   ]
  },
  {
   "cell_type": "code",
   "execution_count": null,
   "id": "c646d9e7",
   "metadata": {},
   "outputs": [],
   "source": []
  },
  {
   "cell_type": "markdown",
   "id": "4f8ad7b7",
   "metadata": {},
   "source": [
    "#### Zadanie 4\n",
    "Wygeneruj losowo listę $L$ zawierającą $15$ liczb całkowitych z przedziału $[0,10]$. Wypisz jej elementy:\n",
    "\n",
    "1.  oddzielając kolejne wyrazy znakiem nowej linii,\n",
    "\n",
    "2.  oddzielając kolejne wyrazy spacją.\n",
    "\n",
    "---"
   ]
  },
  {
   "cell_type": "code",
   "execution_count": null,
   "id": "bbe8c8a0",
   "metadata": {},
   "outputs": [],
   "source": []
  },
  {
   "cell_type": "markdown",
   "id": "8e42c1a8",
   "metadata": {},
   "source": [
    "\n",
    "#### Zadanie 5 (zadanie domowe 1)\n",
    "Niech\n",
    "``` \n",
    "L1 = [\"1\", \"10\", \"2\", \"15\", \"22\", \"112\"]\n",
    "L2 = [\"0.5\", \"1\", \"15\", \"22.4\", \"22\", \"211\"]\n",
    "```\n",
    "\n",
    "Posortuj listy $L1$ i $L2$ zgodnie z wartościami zapisanych liczb (a nie leksykograficznie). Stwórz Listę $L3$, która będzie zawierała wartości liczbowe utworzone poprzez konkatenację napisów z posortowanych list $L1$ oraz $L2$.\n",
    "\n",
    "---"
   ]
  },
  {
   "cell_type": "code",
   "execution_count": null,
   "id": "887b8a47",
   "metadata": {},
   "outputs": [],
   "source": []
  },
  {
   "cell_type": "markdown",
   "id": "7aae6c9f",
   "metadata": {},
   "source": [
    "#### Krotki\n",
    "Są uporządkowane, ale niezmienialne!\n",
    "\n",
    "```moja_krotka=('pies','kot',1234)```\n",
    "\n",
    "**Uwaga:** składnia ```('coś')``` nie utworzy krotki jednoelementowej. Jeśli w jakimś miejscu wymaganym typem danych jest krotka, a chcemy tam użyć krotki jednoelementowej, to konstruujemy ją ```('coś',)```"
   ]
  },
  {
   "cell_type": "code",
   "execution_count": 107,
   "id": "89d3c7f3",
   "metadata": {},
   "outputs": [],
   "source": [
    "moja_krotka=('pies','kot',1234)"
   ]
  },
  {
   "cell_type": "markdown",
   "id": "45df3baa",
   "metadata": {},
   "source": [
    "---\n",
    "#### Zadanie 6\n",
    "Stwórz krotkę składająca się z tysiąca losowych liczb całkowitych z przedziału $[0,100]$.\n",
    "\n",
    "---"
   ]
  },
  {
   "cell_type": "code",
   "execution_count": null,
   "id": "00c54efd",
   "metadata": {},
   "outputs": [],
   "source": []
  },
  {
   "cell_type": "markdown",
   "id": "bd2d7205",
   "metadata": {},
   "source": [
    "#### Przewaga krotki nad listą"
   ]
  },
  {
   "cell_type": "code",
   "execution_count": null,
   "id": "f9c4c9b1",
   "metadata": {},
   "outputs": [],
   "source": []
  },
  {
   "cell_type": "markdown",
   "id": "9274106c",
   "metadata": {
    "id": "H8iAFTxnnnOZ"
   },
   "source": [
    "### Zbiory"
   ]
  },
  {
   "cell_type": "code",
   "execution_count": null,
   "id": "a2137c61",
   "metadata": {},
   "outputs": [],
   "source": []
  },
  {
   "cell_type": "markdown",
   "id": "1507129a",
   "metadata": {},
   "source": [
    "---\n",
    "#### Zadanie 7\n",
    "Zbadaj dowolną metodę obiektu klasy ```set```. Skonstruuj przykład pokazujący jej działanie.\n",
    "\n",
    "---"
   ]
  },
  {
   "cell_type": "code",
   "execution_count": null,
   "id": "0dbcfd37",
   "metadata": {},
   "outputs": [],
   "source": []
  },
  {
   "cell_type": "markdown",
   "id": "ba8f56a6",
   "metadata": {
    "id": "2-O1V7kBp2eN"
   },
   "source": [
    "---\n",
    "#### Zadanie 8\n",
    "Dane są dwie listy upodobań:\n",
    "\n",
    "Jarek = ['koty', 'dobrze zjesc', 'piwo', 'bose spacery po trawie', 'pilka nozna'],\n",
    "\n",
    "Marek = ['piwo', 'psy', 'dobrze zjesc', 'siatkowka', 'seriale'].\n",
    "\n",
    "Na ich podstawie:\n",
    "\n",
    "1.  przygotuj zbiory $Jarek$ i $Marek$, i wyświetl ich zawartość,\n",
    "\n",
    "2.  oblicz sumę ich upodobań, to co wspólnie lubią, to co lubi tylko Jarek, to co lubi tylko Marek i wyświetl ich zawartości,\n",
    "\n",
    "3. zamień zbiór $Jarek$ na listę i wyświetl jej zawartość.\n",
    "---"
   ]
  },
  {
   "cell_type": "code",
   "execution_count": null,
   "id": "c8b042df",
   "metadata": {},
   "outputs": [],
   "source": []
  },
  {
   "cell_type": "markdown",
   "id": "ed88bc22",
   "metadata": {
    "id": "Pp20w6YtX-Di"
   },
   "source": [
    "### Słowniki"
   ]
  },
  {
   "cell_type": "code",
   "execution_count": 130,
   "id": "47f6cde5",
   "metadata": {
    "id": "UZDrhlQCXqFa"
   },
   "outputs": [],
   "source": [
    "slownik={\"jeden\":\"one\", \"dwa\":\"two\", \"wiek\":20}"
   ]
  },
  {
   "cell_type": "code",
   "execution_count": null,
   "id": "4dc47cee",
   "metadata": {},
   "outputs": [],
   "source": []
  },
  {
   "cell_type": "markdown",
   "id": "54b607f2",
   "metadata": {
    "id": "XUJAddblwzLx"
   },
   "source": [
    "---\n",
    "#### Zadanie 9\n",
    "\n",
    "Dany jest słownik student={'imie':'Jan', 'nazwisko':'kowalski','wiek':25, 'wzrost':188, 'waga':80, 'miasto':'Toruń'}\n",
    "\n",
    "* Wypisz jego elementy w postaci \"klucz -> wartość \"\n",
    "* Zmień 'wzrost' na 182 \n",
    "* Dodaj klucz 'wynik matury' z dowolną wartością\n",
    "* Usuń klucz (i wartość) 'miasto'\n",
    "---"
   ]
  },
  {
   "cell_type": "code",
   "execution_count": 137,
   "id": "af6d745c",
   "metadata": {
    "colab": {
     "base_uri": "https://localhost:8080/",
     "height": 35
    },
    "id": "BzhZi0syYsE7",
    "outputId": "514bad2d-7617-4b03-b43c-3ce8fa3f2da9"
   },
   "outputs": [],
   "source": [
    "student={'imie':'Jan', 'nazwisko':'kowalski','wiek':25, 'wzrost':188, 'waga':80, 'miasto':'Toruń'}"
   ]
  },
  {
   "cell_type": "markdown",
   "id": "4a241d9c",
   "metadata": {
    "id": "huIqGWEXmrbP"
   },
   "source": [
    "---\n",
    "#### Zadanie 10 (zadanie domowe 2)\n",
    "Dane są dwie listy \n",
    "* klucze=['klucz1','klucz2','inny klucz', 'test']\n",
    "* wartosci=[1,2,5,1]\n",
    "\n",
    "Utwórz w sposób zautomatyzowany (nie ręcznie) słownik, który kolejnym kluczom przypisze kolejne wartości.\n",
    "\n",
    "---"
   ]
  },
  {
   "cell_type": "code",
   "execution_count": null,
   "id": "ee9cef95",
   "metadata": {},
   "outputs": [],
   "source": []
  },
  {
   "cell_type": "markdown",
   "id": "76b5d10e",
   "metadata": {
    "id": "-JaHTKilldUH"
   },
   "source": [
    "#### Zadanie 11\n",
    "\n",
    "Napisz funkcję obliczającą $n$-ty wyraz ciągu zadanego rekurencyjnie\n",
    "1. $a_0=1$, $a_{k+1}=2a_k$ dla $k\\geq 0$\n",
    "2. $b_0=0$, $b_1=1$, $b_{k+2}=b_{k+1}+b_k$ dla $k\\geq 0$\n",
    "3. $c_0=5$, $c_{k+1}=c_k+\\frac{1}{c_k}$.\n",
    "\n",
    "```rekurencja_a(n):```"
   ]
  },
  {
   "cell_type": "code",
   "execution_count": null,
   "id": "5cbf4a87",
   "metadata": {},
   "outputs": [],
   "source": []
  },
  {
   "cell_type": "markdown",
   "id": "06dea425",
   "metadata": {},
   "source": [
    "# <center> Zadania domowe </center>"
   ]
  },
  {
   "cell_type": "markdown",
   "id": "78b7039e",
   "metadata": {},
   "source": [
    "\n",
    "#### Zadanie 5 (zadanie domowe 1)\n",
    "Niech\n",
    "``` \n",
    "L1 = [\"1\", \"10\", \"2\", \"15\", \"22\", \"112\"]\n",
    "L2 = [\"0.5\", \"1\", \"15\", \"22.4\", \"22\", \"211\"]\n",
    "```\n",
    "\n",
    "Posortuj listy $L1$ i $L2$ zgodnie z wartościami zapisanych liczb (a nie leksykograficznie). Stwórz Listę $L3$, która będzie zawierała wartości liczbowe utworzone poprzez konkatenację napisów z posortowanych list $L1$ oraz $L2$.\n",
    "\n",
    "---"
   ]
  },
  {
   "cell_type": "code",
   "execution_count": null,
   "id": "f3256d84",
   "metadata": {},
   "outputs": [],
   "source": []
  },
  {
   "cell_type": "markdown",
   "id": "20cc9435",
   "metadata": {
    "id": "huIqGWEXmrbP"
   },
   "source": [
    "---\n",
    "#### Zadanie 10 (zadanie domowe 2)\n",
    "Dane są dwie listy \n",
    "* klucze=['klucz1','klucz2','inny klucz', 'test']\n",
    "* wartosci=[1,2,5,1]\n",
    "\n",
    "Utwórz w sposób zautomatyzowany (nie ręcznie) słownik, który kolejnym kluczom przypisze kolejne wartości.\n",
    "\n",
    "---"
   ]
  },
  {
   "cell_type": "code",
   "execution_count": null,
   "id": "0ecd7190",
   "metadata": {},
   "outputs": [],
   "source": []
  },
  {
   "cell_type": "markdown",
   "id": "44c9a0ae",
   "metadata": {},
   "source": [
    "---\n",
    "#### Zadanie domowe 3\n",
    "Napisz funkcję bezargumentową o nazwie listownik(), która\n",
    "\n",
    "+ zapyta o długość listy, która musi znaleźć się w przedziale [10,20] (przypilnuj użytkownika)\n",
    "+ wygeneruje i wydrukuje listę o odpowiedniej długości z liczbami losowymi przedziału [0,10]\n",
    "+ **zwróci** liczbę unikalnych wartości w wygenerowanej liście\n",
    "\n",
    "W rozwiązaniu można korzystać z funkcji pomocniczych.\n",
    "\n",
    "---"
   ]
  },
  {
   "cell_type": "code",
   "execution_count": 4,
   "id": "364c4bf4",
   "metadata": {},
   "outputs": [
    {
     "name": "stdout",
     "output_type": "stream",
     "text": [
      "{'klucz1': 1, 'klucz2': 2, 'inny klucz': 5, 'test': 1}\n"
     ]
    }
   ],
   "source": [
    "klucze=[\"klucz1\",\"klucz2\",\"inny klucz\",\"test\"]\n",
    "wartosci=[1,2,5,1]\n",
    "słownik={}\n",
    "for i in range(len(klucze)):\n",
    "    słownik[klucze[i]]=(wartosci[i])\n",
    "print(słownik)"
   ]
  },
  {
   "cell_type": "code",
   "execution_count": null,
   "id": "2f91e8f3",
   "metadata": {},
   "outputs": [],
   "source": []
  }
 ],
 "metadata": {
  "kernelspec": {
   "display_name": "Python 3 (ipykernel)",
   "language": "python",
   "name": "python3"
  },
  "language_info": {
   "codemirror_mode": {
    "name": "ipython",
    "version": 3
   },
   "file_extension": ".py",
   "mimetype": "text/x-python",
   "name": "python",
   "nbconvert_exporter": "python",
   "pygments_lexer": "ipython3",
   "version": "3.9.13"
  }
 },
 "nbformat": 4,
 "nbformat_minor": 5
}
