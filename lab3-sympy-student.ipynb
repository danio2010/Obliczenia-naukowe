{
 "cells": [
  {
   "cell_type": "markdown",
   "id": "11108c13",
   "metadata": {},
   "source": [
    "# <center> Zajęcia nr 3 </center>"
   ]
  },
  {
   "cell_type": "markdown",
   "id": "0d397cb6",
   "metadata": {},
   "source": [
    "## Plan:\n",
    "* przegląd biblioteki symbolicznej SymPy"
   ]
  },
  {
   "cell_type": "markdown",
   "id": "596a790c",
   "metadata": {},
   "source": [
    "Bibliotekę SymPy najczęściej importuje się pod skrótem ```sp```. Importowanie ```from sympy import *``` można użyć jeśli jest się świadomym narzędzi, z których się korzysta i to jeszcze w sytuacji, kiedy nie korzysta się jednocześnie z pakietów ```math```, ```scipy```, ```numpy``` itp."
   ]
  },
  {
   "cell_type": "code",
   "execution_count": 1,
   "id": "a90c9862",
   "metadata": {},
   "outputs": [],
   "source": [
    "import sympy as sp"
   ]
  },
  {
   "cell_type": "markdown",
   "id": "c3ecab00",
   "metadata": {},
   "source": [
    "Ładny styl wyświetlania wyników uzyskamy korzystając z funkcji ```sympy.init_printing()```"
   ]
  },
  {
   "cell_type": "code",
   "execution_count": 2,
   "id": "9c69894a",
   "metadata": {},
   "outputs": [],
   "source": [
    "sp.init_printing()"
   ]
  },
  {
   "cell_type": "markdown",
   "id": "051ce123",
   "metadata": {},
   "source": [
    "## Symbole"
   ]
  },
  {
   "cell_type": "code",
   "execution_count": null,
   "id": "8ed94135",
   "metadata": {},
   "outputs": [],
   "source": []
  },
  {
   "cell_type": "markdown",
   "id": "a2241894",
   "metadata": {},
   "source": [
    "## Liczby"
   ]
  },
  {
   "cell_type": "code",
   "execution_count": null,
   "id": "9684312d",
   "metadata": {},
   "outputs": [],
   "source": []
  },
  {
   "cell_type": "markdown",
   "id": "156a1a36",
   "metadata": {},
   "source": [
    "## Symbole specjalne\n",
    "\n",
    "matematycznie | sympy\n",
    "---|---\n",
    "$\\pi$ | sp.pi\n",
    "$e$ | sp.E\n",
    "$i$ | sp.I\n",
    "$\\infty$ | sp.oo\n",
    "\n"
   ]
  },
  {
   "cell_type": "markdown",
   "id": "902b5bba",
   "metadata": {},
   "source": [
    "## Definiowanie funkcji\n",
    "Funkcje mogą być tworzone jako niezdefiniowane (abstrakcyjne; bez wzoru) lub zdefiniowane tj. zadane wyrażeniami."
   ]
  },
  {
   "cell_type": "code",
   "execution_count": null,
   "id": "28807f4f",
   "metadata": {},
   "outputs": [],
   "source": []
  },
  {
   "cell_type": "markdown",
   "id": "54438327",
   "metadata": {},
   "source": [
    "---\n",
    "### Zadanie 1\n",
    "\n",
    "Zdefiniuj funkcję $f(x)=x^2+5\\pi+e^{sin(x)}$, policz jej pochodną, a następnie oblicz f(5).\n",
    "\n",
    "---"
   ]
  },
  {
   "cell_type": "code",
   "execution_count": null,
   "id": "0e8dc9e2",
   "metadata": {},
   "outputs": [],
   "source": []
  },
  {
   "cell_type": "markdown",
   "id": "aa77742a",
   "metadata": {},
   "source": [
    "## Manipulowanie wyrażeniami:\n",
    "* ```sp.simplify``` - upraszcza wyrażenia. Działa też jako metoda: ```wyrażenie.simplify()```\n",
    "* ```sp.trigsimp``` - upraszczanie wyrażeniami trygonometrycznmi\n",
    "* ```sp.expand``` - rozwija wyrażenia (np. wymnaża nawiasy). Także działa jako metoda. Jako argument możemy podać jakiego rozwijania oczekujemy\n",
    "* ```sp.factor``` - zwija wyrażnia do postaci iloczynowej (analogicznie ```sp.trigsimp```, ```sp.logcombine``` itp.)\n",
    "* ```sp.apart```, ```sp.together``` - rozkłada na ułamki proste lub łączy ułamki\n",
    "* ```.subs()``` - podstawia wartości pod zmienne. Uwaga: wielokrotne podstawienie podajemy jako słownik lub listę krotek"
   ]
  },
  {
   "cell_type": "code",
   "execution_count": null,
   "id": "0a40acf7",
   "metadata": {},
   "outputs": [],
   "source": []
  },
  {
   "cell_type": "markdown",
   "id": "9712a822",
   "metadata": {},
   "source": [
    "---\n",
    "### Zadanie 2\n",
    "Wyprodukuj formułę na $\\sin(x+y+z)$.\n",
    "\n",
    "---"
   ]
  },
  {
   "cell_type": "code",
   "execution_count": null,
   "id": "c81fa2dc",
   "metadata": {},
   "outputs": [],
   "source": []
  },
  {
   "cell_type": "markdown",
   "id": "ae03c0e3",
   "metadata": {},
   "source": [
    "---\n",
    "### Zadanie 3\n",
    "Znajdź postać iloczynową wielomianu $x^5-x^4-4x^3-4x^2-5x-3$.\n",
    "\n",
    "---"
   ]
  },
  {
   "cell_type": "code",
   "execution_count": null,
   "id": "6b254b2d",
   "metadata": {},
   "outputs": [],
   "source": []
  },
  {
   "cell_type": "markdown",
   "id": "242cb412",
   "metadata": {},
   "source": [
    "---\n",
    "### Zadanie 4\n",
    "Przedstaw funkcję $f(x,y)=(x^2+y^2, 2xy)$ we współrzędnych biegunowych $(r,\\alpha)$.\n",
    "\n",
    "---"
   ]
  },
  {
   "cell_type": "code",
   "execution_count": null,
   "id": "63be699e",
   "metadata": {},
   "outputs": [],
   "source": []
  },
  {
   "cell_type": "markdown",
   "id": "9144ade3",
   "metadata": {},
   "source": [
    "## Analiza matematyczna \n",
    "* ```sp.diff(funkcja,zmienne)``` lub ```funkcja.diff()``` - pochodna\n",
    "* ```sp.integrate(funkcja,zmienne)``` - całkowanie\n",
    "* ```sp.series(funkcja,zmienna,punkt)``` lub ```sp.series``` - rozwijanie w szereg Taylora\n",
    "* ```sp.limit(funkcja,zmienna,punkt)``` - liczenie granicy"
   ]
  },
  {
   "cell_type": "code",
   "execution_count": null,
   "id": "c3f2e93f",
   "metadata": {},
   "outputs": [],
   "source": []
  },
  {
   "cell_type": "markdown",
   "id": "f6a9bd18",
   "metadata": {},
   "source": [
    "\n",
    "---\n",
    "### Zadanie 5\n",
    "Dana jest funkcja $f(y)=\\int_0^1 y\\sin(x^2-8x+y)\\, dx$. Oblicz $f''(1)$.\n",
    "\n",
    "---"
   ]
  },
  {
   "cell_type": "code",
   "execution_count": null,
   "id": "e38fa94f",
   "metadata": {},
   "outputs": [],
   "source": []
  },
  {
   "cell_type": "markdown",
   "id": "7126cf15",
   "metadata": {},
   "source": [
    "---\n",
    "### Zadanie 6\n",
    "Zdefiniuj samodzielnie funkcję ```pochodna(f,x)```, która obliczy pochodną funkcji/wyrażenia $f$ względem zmiennej $x$. Następnie przetestuj jej działanie dla $f(x)=e^{x^2}$ i porównaj z wbudowaną metodą ```.diff```\n",
    "\n",
    "---"
   ]
  },
  {
   "cell_type": "code",
   "execution_count": null,
   "id": "ef45781c",
   "metadata": {},
   "outputs": [],
   "source": []
  },
  {
   "cell_type": "markdown",
   "id": "f5ca9c73",
   "metadata": {},
   "source": [
    "## Rozwiązywanie równań"
   ]
  },
  {
   "cell_type": "code",
   "execution_count": null,
   "id": "cda95596",
   "metadata": {},
   "outputs": [],
   "source": []
  },
  {
   "cell_type": "markdown",
   "id": "225f85a6",
   "metadata": {},
   "source": [
    "---\n",
    "### Zadanie 7\n",
    "Wyprowadź wzór na pierwiastki równania kwadratowego $ax^2+bx+c=0$.\n",
    "\n",
    "---"
   ]
  },
  {
   "cell_type": "code",
   "execution_count": null,
   "id": "b1bfb242",
   "metadata": {},
   "outputs": [],
   "source": []
  },
  {
   "cell_type": "markdown",
   "id": "3fe5441b",
   "metadata": {},
   "source": [
    "---\n",
    "### Zadanie 8\n",
    "Rozwiąż układ równań\n",
    "$$\n",
    "\\left\\{\\begin{array}{cc}\n",
    "x+2y&=1 \\\\\n",
    "x-y&=-1\n",
    "\\end{array}\\right.\n",
    "$$"
   ]
  },
  {
   "cell_type": "code",
   "execution_count": null,
   "id": "b322fd3e",
   "metadata": {},
   "outputs": [],
   "source": []
  },
  {
   "cell_type": "markdown",
   "id": "27f194ac",
   "metadata": {},
   "source": [
    "## Szybkie robienie wykresów w sympy\n"
   ]
  },
  {
   "cell_type": "code",
   "execution_count": null,
   "id": "4e15db01",
   "metadata": {},
   "outputs": [],
   "source": []
  },
  {
   "cell_type": "markdown",
   "id": "ecb28eee",
   "metadata": {},
   "source": [
    "### Zadanie 9\n",
    "Stwórz na jednym obrazku wykres funkcji $x^3+3x+1$ i jej pochodnej."
   ]
  },
  {
   "cell_type": "code",
   "execution_count": null,
   "id": "0a41be0a",
   "metadata": {},
   "outputs": [],
   "source": []
  },
  {
   "cell_type": "markdown",
   "id": "db1006ed",
   "metadata": {},
   "source": [
    "# Zadanie domowe\n",
    "\n",
    "### Zadanie 1\n",
    "Rozpatrzmy funkcję $f(x)=e^{\\sin(10x)}\\cdot\\cos(x)$, $x\\in\\mathbb{R}$. \n",
    "1. Rozwiń funkcję f(x) w szereg Taylora wokół $x=2$ z resztą rzędu $O(x^5)$. Usuń resztę, by uzyskać wielomian zmiennej $x$.\n",
    "2. Oblicz całkę (wartość liczbową) z funkcji f na przedziale $[1.9,2.1]$.\n",
    "3. Oblicz całkę (wartość liczbową) z wielomianu uzyskanego w 1. na przedziale $[1.9,2.1]$.\n",
    "4. Porównaj metody z punktów 2. i 3.; **opisz** swoje obserwacje."
   ]
  },
  {
   "cell_type": "code",
   "execution_count": null,
   "id": "c4f45a8a",
   "metadata": {},
   "outputs": [],
   "source": []
  },
  {
   "cell_type": "markdown",
   "id": "4d94a93f",
   "metadata": {},
   "source": [
    "### Zadanie 2\n",
    "Oblicz całkę $\\int_{-\\infty}^{\\infty} e^{-\\frac 12 x^2}\\,dx$."
   ]
  },
  {
   "cell_type": "code",
   "execution_count": null,
   "id": "7fafc801",
   "metadata": {},
   "outputs": [],
   "source": []
  },
  {
   "cell_type": "markdown",
   "id": "98c15662",
   "metadata": {},
   "source": [
    "### Zadanie 3\n",
    "Znajdź punkty wspólne okręgu $x^2+(y-1)^2=4$ z prostą $y=x$. Sprawdź, że znalezione punkty rzeczywiście leżą na obu tych krzywych."
   ]
  },
  {
   "cell_type": "code",
   "execution_count": null,
   "id": "85dc81e7",
   "metadata": {},
   "outputs": [],
   "source": []
  }
 ],
 "metadata": {
  "kernelspec": {
   "display_name": "Python 3 (ipykernel)",
   "language": "python",
   "name": "python3"
  },
  "language_info": {
   "codemirror_mode": {
    "name": "ipython",
    "version": 3
   },
   "file_extension": ".py",
   "mimetype": "text/x-python",
   "name": "python",
   "nbconvert_exporter": "python",
   "pygments_lexer": "ipython3",
   "version": "3.9.13"
  }
 },
 "nbformat": 4,
 "nbformat_minor": 5
}
