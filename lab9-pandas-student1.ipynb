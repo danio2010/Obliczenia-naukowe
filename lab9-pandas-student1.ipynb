{
 "cells": [
  {
   "cell_type": "markdown",
   "metadata": {},
   "source": [
    "# <center> Notatnik nr 9 - przetwarzanie danych w Pandas</center>\n",
    "\n",
    "### Plan\n",
    "* główne obiekty w Pandas\n",
    "* czytanie danych z plików\n",
    "* przetwarzanie danych\n",
    "* wizualizacja danych\n",
    "\n",
    "Pandas to 'rozszerzenie' z jednej strony numpy (wszystkie 'triki' z numpy tu działają), a z drugiej słowników (np. nie musi być unikalnych kluczy, istnieje kolejność)."
   ]
  },
  {
   "cell_type": "code",
   "execution_count": 1,
   "metadata": {
    "executionInfo": {
     "elapsed": 14,
     "status": "ok",
     "timestamp": 1656326231261,
     "user": {
      "displayName": "Daniel Strzelecki",
      "userId": "04998061441867974797"
     },
     "user_tz": -120
    },
    "id": "qW9zIjQ9GwVn"
   },
   "outputs": [],
   "source": [
    "import numpy as np\n",
    "import pandas as pd\n",
    "\n",
    "#styl standardowych wykresów\n",
    "import matplotlib.pyplot as plt\n",
    "import matplotlib as mpl\n",
    "mpl.style.use('ggplot')\n"
   ]
  },
  {
   "cell_type": "code",
   "execution_count": null,
   "metadata": {},
   "outputs": [],
   "source": []
  },
  {
   "cell_type": "markdown",
   "metadata": {
    "id": "st4qMWjcS6tZ"
   },
   "source": [
    "## Pandas Series\n",
    "Najprostszy obiekt pandas. Przypomina listę z indeksami (niekoniecznie liczbowymi, niekoniecznie unikalnymi)"
   ]
  },
  {
   "cell_type": "code",
   "execution_count": 196,
   "metadata": {
    "id": "bGfYuP0rS-AF"
   },
   "outputs": [
    {
     "data": {
      "text/plain": [
       "a    2\n",
       "b    4\n",
       "c    0\n",
       "d    1\n",
       "e    2\n",
       "e    0\n",
       "Name: nasz pierwszy szereg, dtype: int64"
      ]
     },
     "execution_count": 196,
     "metadata": {},
     "output_type": "execute_result"
    }
   ],
   "source": [
    "lista=[2,4,0,1,2,0]\n",
    "dane=pd.Series(data=lista,index=['a','b','c','d','e','e'],name='nasz pierwszy szereg')"
   ]
  },
  {
   "cell_type": "code",
   "execution_count": 28,
   "metadata": {
    "colab": {
     "base_uri": "https://localhost:8080/"
    },
    "executionInfo": {
     "elapsed": 133,
     "status": "ok",
     "timestamp": 1652263668216,
     "user": {
      "displayName": "Daniel Strzelecki",
      "userId": "04998061441867974797"
     },
     "user_tz": -120
    },
    "id": "RCPi8MpzTINb",
    "outputId": "d5c0ba24-6ac3-4f89-9282-16262113fbce"
   },
   "outputs": [
    {
     "data": {
      "text/plain": [
       "e    2\n",
       "e    0\n",
       "Name: nasz pierwszy szereg, dtype: int64"
      ]
     },
     "execution_count": 28,
     "metadata": {},
     "output_type": "execute_result"
    }
   ],
   "source": []
  },
  {
   "cell_type": "markdown",
   "metadata": {},
   "source": [
    "### Najważniejsze metody i pola\n",
    "* `Series.index` - indeks szeregu (to znowu jest pewien obiekt)\n",
    "* `Series.values` - elementy szeregu\n",
    "* `Seres.name` - nazwa szeregu (nie mylić z nazwą zmiennej, pod którą kryje się szereg)\n",
    "* `Series.describe()` - podaje podstawowe statystyki\n",
    "* `Series.unique()` - zwraca listę unikalych elementów\n",
    "* `Series.value_counts()` - zlicza wystąpienia każdej z wartości\n",
    "* `Series.sort_values()` - sortuje"
   ]
  },
  {
   "cell_type": "code",
   "execution_count": 38,
   "metadata": {},
   "outputs": [
    {
     "data": {
      "text/plain": [
       "Index(['a', 'b', 'c', 'd', 'e', 'e'], dtype='object')"
      ]
     },
     "execution_count": 38,
     "metadata": {},
     "output_type": "execute_result"
    },
    {
     "data": {
      "text/plain": [
       "array([2, 4, 0, 1, 2, 0], dtype=int64)"
      ]
     },
     "execution_count": 38,
     "metadata": {},
     "output_type": "execute_result"
    },
    {
     "data": {
      "text/plain": [
       "'nasz pierwszy szereg'"
      ]
     },
     "execution_count": 38,
     "metadata": {},
     "output_type": "execute_result"
    },
    {
     "data": {
      "text/plain": [
       "count    6.000000\n",
       "mean     1.500000\n",
       "std      1.516575\n",
       "min      0.000000\n",
       "25%      0.250000\n",
       "50%      1.500000\n",
       "75%      2.000000\n",
       "max      4.000000\n",
       "Name: nasz pierwszy szereg, dtype: float64"
      ]
     },
     "execution_count": 38,
     "metadata": {},
     "output_type": "execute_result"
    },
    {
     "data": {
      "text/plain": [
       "array([2, 4, 0, 1], dtype=int64)"
      ]
     },
     "execution_count": 38,
     "metadata": {},
     "output_type": "execute_result"
    },
    {
     "data": {
      "text/plain": [
       "2    2\n",
       "0    2\n",
       "4    1\n",
       "1    1\n",
       "Name: nasz pierwszy szereg, dtype: int64"
      ]
     },
     "execution_count": 38,
     "metadata": {},
     "output_type": "execute_result"
    },
    {
     "data": {
      "text/plain": [
       "c    0\n",
       "e    0\n",
       "d    1\n",
       "a    2\n",
       "e    2\n",
       "b    4\n",
       "Name: nasz pierwszy szereg, dtype: int64"
      ]
     },
     "execution_count": 38,
     "metadata": {},
     "output_type": "execute_result"
    }
   ],
   "source": [
    "dane.index\n",
    "dane.values\n",
    "dane.name\n",
    "dane.describe()\n",
    "dane.unique()\n",
    "dane.value_counts()\n",
    "dane.sort_values()"
   ]
  },
  {
   "cell_type": "markdown",
   "metadata": {},
   "source": [
    "Dostęp do danej można otrzymać z konstrukcji `Series.'wybrany indeks'`, gdzie możemy używać napisów bez cudzysłowów (!!!) lub tradycyjnie jak do tablicy czy słownika `Series['wybrany indeks']`."
   ]
  },
  {
   "cell_type": "code",
   "execution_count": 35,
   "metadata": {},
   "outputs": [
    {
     "data": {
      "text/plain": [
       "e    2\n",
       "e    0\n",
       "Name: nasz pierwszy szereg, dtype: int64"
      ]
     },
     "execution_count": 35,
     "metadata": {},
     "output_type": "execute_result"
    }
   ],
   "source": [
    "dane.e"
   ]
  },
  {
   "cell_type": "code",
   "execution_count": 36,
   "metadata": {},
   "outputs": [
    {
     "data": {
      "text/plain": [
       "e    2\n",
       "e    0\n",
       "Name: nasz pierwszy szereg, dtype: int64"
      ]
     },
     "execution_count": 36,
     "metadata": {},
     "output_type": "execute_result"
    }
   ],
   "source": [
    "dane['e']"
   ]
  },
  {
   "cell_type": "markdown",
   "metadata": {},
   "source": [
    "Możemy obliczać wartości funkcji numpy na szeregach."
   ]
  },
  {
   "cell_type": "code",
   "execution_count": 37,
   "metadata": {
    "colab": {
     "base_uri": "https://localhost:8080/"
    },
    "executionInfo": {
     "elapsed": 86,
     "status": "ok",
     "timestamp": 1652263668220,
     "user": {
      "displayName": "Daniel Strzelecki",
      "userId": "04998061441867974797"
     },
     "user_tz": -120
    },
    "id": "gvWHzlnDTUcY",
    "outputId": "2bddaa03-e356-4558-ad6f-9db548ef7f74"
   },
   "outputs": [
    {
     "data": {
      "text/plain": [
       "a    0.909297\n",
       "b   -0.756802\n",
       "c    0.000000\n",
       "d    0.841471\n",
       "e    0.909297\n",
       "e    0.000000\n",
       "Name: nasz pierwszy szereg, dtype: float64"
      ]
     },
     "execution_count": 37,
     "metadata": {},
     "output_type": "execute_result"
    }
   ],
   "source": [
    "np.sin(dane)"
   ]
  },
  {
   "cell_type": "markdown",
   "metadata": {},
   "source": [
    "Szeregi naturalnie tworzą się ze słowników."
   ]
  },
  {
   "cell_type": "code",
   "execution_count": 2,
   "metadata": {
    "colab": {
     "base_uri": "https://localhost:8080/"
    },
    "executionInfo": {
     "elapsed": 81,
     "status": "ok",
     "timestamp": 1652263668221,
     "user": {
      "displayName": "Daniel Strzelecki",
      "userId": "04998061441867974797"
     },
     "user_tz": -120
    },
    "id": "xiU4_69C1NlV",
    "outputId": "f85aa35d-7479-4625-8f31-cd9d5cbc9c34"
   },
   "outputs": [
    {
     "data": {
      "text/plain": [
       "Ania       22\n",
       "Tomek      25\n",
       "Karol      23\n",
       "Marek      27\n",
       "Kuba       22\n",
       "Kasia      26\n",
       "Mikołaj    23\n",
       "dtype: int64"
      ]
     },
     "execution_count": 2,
     "metadata": {},
     "output_type": "execute_result"
    }
   ],
   "source": [
    "dane2_dict={'Ania':22,'Tomek':25,'Karol':23,'Marek':27, 'Kuba':22, 'Kasia':26, 'Mikołaj':23}\n",
    "dane2=pd.Series(dane2_dict)\n",
    "dane2"
   ]
  },
  {
   "cell_type": "markdown",
   "metadata": {},
   "source": [
    "Numpy'owe triki"
   ]
  },
  {
   "cell_type": "code",
   "execution_count": 3,
   "metadata": {
    "colab": {
     "base_uri": "https://localhost:8080/"
    },
    "executionInfo": {
     "elapsed": 69,
     "status": "ok",
     "timestamp": 1652263668224,
     "user": {
      "displayName": "Daniel Strzelecki",
      "userId": "04998061441867974797"
     },
     "user_tz": -120
    },
    "id": "CtcYh9TK2PTf",
    "outputId": "e00bf8b8-9d5d-43dd-a569-792505a9d65f"
   },
   "outputs": [
    {
     "data": {
      "text/plain": [
       "Ania       False\n",
       "Tomek      False\n",
       "Karol      False\n",
       "Marek       True\n",
       "Kuba       False\n",
       "Kasia       True\n",
       "Mikołaj    False\n",
       "dtype: bool"
      ]
     },
     "execution_count": 3,
     "metadata": {},
     "output_type": "execute_result"
    }
   ],
   "source": [
    "dane2>25"
   ]
  },
  {
   "cell_type": "code",
   "execution_count": 4,
   "metadata": {
    "colab": {
     "base_uri": "https://localhost:8080/"
    },
    "executionInfo": {
     "elapsed": 65,
     "status": "ok",
     "timestamp": 1652263668225,
     "user": {
      "displayName": "Daniel Strzelecki",
      "userId": "04998061441867974797"
     },
     "user_tz": -120
    },
    "id": "OSHD1Cy32Wf1",
    "outputId": "3ff23db3-9c45-4e7c-9525-19794c525258"
   },
   "outputs": [
    {
     "data": {
      "text/plain": [
       "Marek    27\n",
       "Kasia    26\n",
       "dtype: int64"
      ]
     },
     "execution_count": 4,
     "metadata": {},
     "output_type": "execute_result"
    }
   ],
   "source": [
    "dane2[dane2>25]"
   ]
  },
  {
   "cell_type": "markdown",
   "metadata": {},
   "source": [
    "### Szybkie rysowanie wykresów"
   ]
  },
  {
   "cell_type": "code",
   "execution_count": null,
   "metadata": {},
   "outputs": [],
   "source": []
  },
  {
   "cell_type": "markdown",
   "metadata": {
    "id": "uOWOeTsJTmHg"
   },
   "source": [
    "## **DataFrame**\n",
    "\n",
    "`DataFrame` to klasyczne tabele danych: mamy `index`, czyli nazwy wierszy oraz nazwy kolumn (`columns`)"
   ]
  },
  {
   "cell_type": "code",
   "execution_count": 84,
   "metadata": {
    "colab": {
     "base_uri": "https://localhost:8080/",
     "height": 331
    },
    "executionInfo": {
     "elapsed": 60,
     "status": "ok",
     "timestamp": 1652263668226,
     "user": {
      "displayName": "Daniel Strzelecki",
      "userId": "04998061441867974797"
     },
     "user_tz": -120
    },
    "id": "M0p0NeBwTbE-",
    "outputId": "d6b9a67a-cea9-4e92-e1f4-d403e45d0324"
   },
   "outputs": [
    {
     "data": {
      "text/html": [
       "<div>\n",
       "<style scoped>\n",
       "    .dataframe tbody tr th:only-of-type {\n",
       "        vertical-align: middle;\n",
       "    }\n",
       "\n",
       "    .dataframe tbody tr th {\n",
       "        vertical-align: top;\n",
       "    }\n",
       "\n",
       "    .dataframe thead th {\n",
       "        text-align: right;\n",
       "    }\n",
       "</style>\n",
       "<table border=\"1\" class=\"dataframe\">\n",
       "  <thead>\n",
       "    <tr style=\"text-align: right;\">\n",
       "      <th></th>\n",
       "      <th>0</th>\n",
       "    </tr>\n",
       "  </thead>\n",
       "  <tbody>\n",
       "    <tr>\n",
       "      <th>0</th>\n",
       "      <td>2</td>\n",
       "    </tr>\n",
       "    <tr>\n",
       "      <th>1</th>\n",
       "      <td>4</td>\n",
       "    </tr>\n",
       "    <tr>\n",
       "      <th>2</th>\n",
       "      <td>0</td>\n",
       "    </tr>\n",
       "    <tr>\n",
       "      <th>3</th>\n",
       "      <td>1</td>\n",
       "    </tr>\n",
       "    <tr>\n",
       "      <th>4</th>\n",
       "      <td>2</td>\n",
       "    </tr>\n",
       "    <tr>\n",
       "      <th>5</th>\n",
       "      <td>0</td>\n",
       "    </tr>\n",
       "  </tbody>\n",
       "</table>\n",
       "</div>"
      ],
      "text/plain": [
       "   0\n",
       "0  2\n",
       "1  4\n",
       "2  0\n",
       "3  1\n",
       "4  2\n",
       "5  0"
      ]
     },
     "execution_count": 84,
     "metadata": {},
     "output_type": "execute_result"
    }
   ],
   "source": [
    "daneDF=pd.DataFrame(lista)\n",
    "daneDF"
   ]
  },
  {
   "cell_type": "code",
   "execution_count": 91,
   "metadata": {},
   "outputs": [],
   "source": [
    "df1 = pd.DataFrame([[909976, \"Sweden\"],\n",
    "                           [8615246, \"United Kingdom\"],\n",
    "                           [2872086, \"Italy\"],\n",
    "                           [2273305, \"France\"]],\n",
    "                          index=[\"Stockholm\", \"London\", \"Rome\", \"Paris\"],\n",
    "                          columns=[\"Population\", \"State\"])"
   ]
  },
  {
   "cell_type": "code",
   "execution_count": 92,
   "metadata": {},
   "outputs": [
    {
     "data": {
      "text/html": [
       "<div>\n",
       "<style scoped>\n",
       "    .dataframe tbody tr th:only-of-type {\n",
       "        vertical-align: middle;\n",
       "    }\n",
       "\n",
       "    .dataframe tbody tr th {\n",
       "        vertical-align: top;\n",
       "    }\n",
       "\n",
       "    .dataframe thead th {\n",
       "        text-align: right;\n",
       "    }\n",
       "</style>\n",
       "<table border=\"1\" class=\"dataframe\">\n",
       "  <thead>\n",
       "    <tr style=\"text-align: right;\">\n",
       "      <th></th>\n",
       "      <th>Population</th>\n",
       "      <th>State</th>\n",
       "    </tr>\n",
       "  </thead>\n",
       "  <tbody>\n",
       "    <tr>\n",
       "      <th>Stockholm</th>\n",
       "      <td>909976</td>\n",
       "      <td>Sweden</td>\n",
       "    </tr>\n",
       "    <tr>\n",
       "      <th>London</th>\n",
       "      <td>8615246</td>\n",
       "      <td>United Kingdom</td>\n",
       "    </tr>\n",
       "    <tr>\n",
       "      <th>Rome</th>\n",
       "      <td>2872086</td>\n",
       "      <td>Italy</td>\n",
       "    </tr>\n",
       "    <tr>\n",
       "      <th>Paris</th>\n",
       "      <td>2273305</td>\n",
       "      <td>France</td>\n",
       "    </tr>\n",
       "  </tbody>\n",
       "</table>\n",
       "</div>"
      ],
      "text/plain": [
       "           Population           State\n",
       "Stockholm      909976          Sweden\n",
       "London        8615246  United Kingdom\n",
       "Rome          2872086           Italy\n",
       "Paris         2273305          France"
      ]
     },
     "execution_count": 92,
     "metadata": {},
     "output_type": "execute_result"
    }
   ],
   "source": [
    "df1 = pd.DataFrame({\"Population\": [909976, 8615246, 2872086, 2273305],\n",
    "                    \"State\": [\"Sweden\", \"United Kingdom\", \"Italy\",\"France\"]},\n",
    "                   index=[\"Stockholm\", \"London\", \"Rome\", \"Paris\"])\n",
    "df1"
   ]
  },
  {
   "cell_type": "markdown",
   "metadata": {
    "id": "qoFOW7ieqTGN"
   },
   "source": [
    "### Podstawowe komendy\n",
    "\n",
    "* `.info()` - podaje podstawowe informacje o ramce danych\n",
    "* `.head(n)` - $n$ rekordów od początku\n",
    "* `.tail(n)` - $n$ rekordów od końca\n",
    "* `.describe()` - jak w szeregu. **Uwaga**: pojedyncze statystyki są dostępne jako metody tak jak w `numpy`\n",
    "* `.columns` - iterator po kolumnach\n",
    "* `.index` - iterator po indeksie\n",
    "\n",
    "\n",
    "Inne ważne operacje:\n",
    "\n",
    "* `.isnull()` - szuka brakujących wartości\n",
    "* `.duplicated()` oraz `df.drop_duplicates()` - znajduje lub usuwa zduplikowane wiersze/rekordy\n",
    "* `.sort_values(by=[])` - sortuje według ustalonej kolumny/kolumn\n",
    "* `.sort_index()` - sortuje indeks\n",
    "* `.rename` - służy do zmiany nazw kolumn, indeksów\n",
    "* `.drop` - usuwanie kolumn lub rekordów"
   ]
  },
  {
   "cell_type": "code",
   "execution_count": null,
   "metadata": {},
   "outputs": [],
   "source": []
  },
  {
   "cell_type": "code",
   "execution_count": null,
   "metadata": {},
   "outputs": [],
   "source": []
  },
  {
   "cell_type": "code",
   "execution_count": 93,
   "metadata": {
    "id": "ycmYoe85Tzn4"
   },
   "outputs": [],
   "source": [
    "dane=pd.read_csv('https://analityk.edu.pl/wp-content/uploads/2020/12/worldcities.csv')"
   ]
  },
  {
   "cell_type": "code",
   "execution_count": 94,
   "metadata": {
    "colab": {
     "base_uri": "https://localhost:8080/"
    },
    "executionInfo": {
     "elapsed": 61,
     "status": "ok",
     "timestamp": 1652263668229,
     "user": {
      "displayName": "Daniel Strzelecki",
      "userId": "04998061441867974797"
     },
     "user_tz": -120
    },
    "id": "l5GddbT-WFYt",
    "outputId": "bb559588-cab2-4a3a-ca8d-abc73a6804e5"
   },
   "outputs": [
    {
     "name": "stdout",
     "output_type": "stream",
     "text": [
      "<class 'pandas.core.frame.DataFrame'>\n",
      "RangeIndex: 26569 entries, 0 to 26568\n",
      "Data columns (total 11 columns):\n",
      " #   Column      Non-Null Count  Dtype  \n",
      "---  ------      --------------  -----  \n",
      " 0   city        26569 non-null  object \n",
      " 1   city_ascii  26569 non-null  object \n",
      " 2   lat         26569 non-null  float64\n",
      " 3   lng         26569 non-null  float64\n",
      " 4   country     26569 non-null  object \n",
      " 5   iso2        26538 non-null  object \n",
      " 6   iso3        26569 non-null  object \n",
      " 7   admin_name  26493 non-null  object \n",
      " 8   capital     7626 non-null   object \n",
      " 9   population  25596 non-null  float64\n",
      " 10  id          26569 non-null  int64  \n",
      "dtypes: float64(3), int64(1), object(7)\n",
      "memory usage: 2.2+ MB\n"
     ]
    }
   ],
   "source": [
    "dane.info()"
   ]
  },
  {
   "cell_type": "markdown",
   "metadata": {
    "id": "P0MBW5bRsj5k"
   },
   "source": [
    "### Przeglądanie DataFrame\n",
    "\n",
    "#### Dostęp do kolumn - według nazw"
   ]
  },
  {
   "cell_type": "code",
   "execution_count": 95,
   "metadata": {
    "id": "sxT5j1kPsjM5"
   },
   "outputs": [],
   "source": [
    "dane.population;"
   ]
  },
  {
   "cell_type": "code",
   "execution_count": 96,
   "metadata": {
    "id": "AqMuZutWo6Bb"
   },
   "outputs": [],
   "source": [
    "dane['population'];"
   ]
  },
  {
   "cell_type": "code",
   "execution_count": 97,
   "metadata": {
    "id": "0EQL3SEKsyWW"
   },
   "outputs": [],
   "source": [
    "dane[['population','city']];"
   ]
  },
  {
   "cell_type": "markdown",
   "metadata": {
    "id": "qRF7ztdXtcNw"
   },
   "source": [
    "#### Dostęp do wierszy - według kolejności (!)\n",
    "\n",
    "**Uwaga** - nie można wywołać tak konkretnego *pojedynczego* rekordu\n",
    "\n"
   ]
  },
  {
   "cell_type": "code",
   "execution_count": 98,
   "metadata": {
    "id": "LAFbVZJrtE2u"
   },
   "outputs": [
    {
     "data": {
      "text/html": [
       "<div>\n",
       "<style scoped>\n",
       "    .dataframe tbody tr th:only-of-type {\n",
       "        vertical-align: middle;\n",
       "    }\n",
       "\n",
       "    .dataframe tbody tr th {\n",
       "        vertical-align: top;\n",
       "    }\n",
       "\n",
       "    .dataframe thead th {\n",
       "        text-align: right;\n",
       "    }\n",
       "</style>\n",
       "<table border=\"1\" class=\"dataframe\">\n",
       "  <thead>\n",
       "    <tr style=\"text-align: right;\">\n",
       "      <th></th>\n",
       "      <th>city</th>\n",
       "      <th>city_ascii</th>\n",
       "      <th>lat</th>\n",
       "      <th>lng</th>\n",
       "      <th>country</th>\n",
       "      <th>iso2</th>\n",
       "      <th>iso3</th>\n",
       "      <th>admin_name</th>\n",
       "      <th>capital</th>\n",
       "      <th>population</th>\n",
       "      <th>id</th>\n",
       "    </tr>\n",
       "  </thead>\n",
       "  <tbody>\n",
       "    <tr>\n",
       "      <th>0</th>\n",
       "      <td>Tokyo</td>\n",
       "      <td>Tokyo</td>\n",
       "      <td>35.6897</td>\n",
       "      <td>139.6922</td>\n",
       "      <td>Japan</td>\n",
       "      <td>JP</td>\n",
       "      <td>JPN</td>\n",
       "      <td>Tōkyō</td>\n",
       "      <td>primary</td>\n",
       "      <td>37977000.0</td>\n",
       "      <td>1392685764</td>\n",
       "    </tr>\n",
       "    <tr>\n",
       "      <th>1</th>\n",
       "      <td>Jakarta</td>\n",
       "      <td>Jakarta</td>\n",
       "      <td>-6.2146</td>\n",
       "      <td>106.8451</td>\n",
       "      <td>Indonesia</td>\n",
       "      <td>ID</td>\n",
       "      <td>IDN</td>\n",
       "      <td>Jakarta</td>\n",
       "      <td>primary</td>\n",
       "      <td>34540000.0</td>\n",
       "      <td>1360771077</td>\n",
       "    </tr>\n",
       "    <tr>\n",
       "      <th>2</th>\n",
       "      <td>Delhi</td>\n",
       "      <td>Delhi</td>\n",
       "      <td>28.6600</td>\n",
       "      <td>77.2300</td>\n",
       "      <td>India</td>\n",
       "      <td>IN</td>\n",
       "      <td>IND</td>\n",
       "      <td>Delhi</td>\n",
       "      <td>admin</td>\n",
       "      <td>29617000.0</td>\n",
       "      <td>1356872604</td>\n",
       "    </tr>\n",
       "    <tr>\n",
       "      <th>3</th>\n",
       "      <td>Mumbai</td>\n",
       "      <td>Mumbai</td>\n",
       "      <td>18.9667</td>\n",
       "      <td>72.8333</td>\n",
       "      <td>India</td>\n",
       "      <td>IN</td>\n",
       "      <td>IND</td>\n",
       "      <td>Mahārāshtra</td>\n",
       "      <td>admin</td>\n",
       "      <td>23355000.0</td>\n",
       "      <td>1356226629</td>\n",
       "    </tr>\n",
       "    <tr>\n",
       "      <th>4</th>\n",
       "      <td>Manila</td>\n",
       "      <td>Manila</td>\n",
       "      <td>14.5958</td>\n",
       "      <td>120.9772</td>\n",
       "      <td>Philippines</td>\n",
       "      <td>PH</td>\n",
       "      <td>PHL</td>\n",
       "      <td>Manila</td>\n",
       "      <td>primary</td>\n",
       "      <td>23088000.0</td>\n",
       "      <td>1608618140</td>\n",
       "    </tr>\n",
       "  </tbody>\n",
       "</table>\n",
       "</div>"
      ],
      "text/plain": [
       "      city city_ascii      lat       lng      country iso2 iso3   admin_name  \\\n",
       "0    Tokyo      Tokyo  35.6897  139.6922        Japan   JP  JPN        Tōkyō   \n",
       "1  Jakarta    Jakarta  -6.2146  106.8451    Indonesia   ID  IDN      Jakarta   \n",
       "2    Delhi      Delhi  28.6600   77.2300        India   IN  IND        Delhi   \n",
       "3   Mumbai     Mumbai  18.9667   72.8333        India   IN  IND  Mahārāshtra   \n",
       "4   Manila     Manila  14.5958  120.9772  Philippines   PH  PHL       Manila   \n",
       "\n",
       "   capital  population          id  \n",
       "0  primary  37977000.0  1392685764  \n",
       "1  primary  34540000.0  1360771077  \n",
       "2    admin  29617000.0  1356872604  \n",
       "3    admin  23355000.0  1356226629  \n",
       "4  primary  23088000.0  1608618140  "
      ]
     },
     "execution_count": 98,
     "metadata": {},
     "output_type": "execute_result"
    }
   ],
   "source": [
    "dane[:5]"
   ]
  },
  {
   "cell_type": "code",
   "execution_count": 99,
   "metadata": {
    "id": "yO_c9QSXtivT"
   },
   "outputs": [
    {
     "data": {
      "text/plain": [
       "2       Delhi\n",
       "3      Mumbai\n",
       "4      Manila\n",
       "5    Shanghai\n",
       "Name: city, dtype: object"
      ]
     },
     "execution_count": 99,
     "metadata": {},
     "output_type": "execute_result"
    }
   ],
   "source": [
    "dane[2:6]['city']"
   ]
  },
  {
   "cell_type": "code",
   "execution_count": 100,
   "metadata": {
    "id": "0R90JuP0x3cC"
   },
   "outputs": [
    {
     "ename": "KeyError",
     "evalue": "0",
     "output_type": "error",
     "traceback": [
      "\u001b[1;31m---------------------------------------------------------------------------\u001b[0m",
      "\u001b[1;31mKeyError\u001b[0m                                  Traceback (most recent call last)",
      "File \u001b[1;32m~\\AppData\\Roaming\\Python\\Python39\\site-packages\\pandas\\core\\indexes\\base.py:3803\u001b[0m, in \u001b[0;36mIndex.get_loc\u001b[1;34m(self, key, method, tolerance)\u001b[0m\n\u001b[0;32m   3802\u001b[0m \u001b[38;5;28;01mtry\u001b[39;00m:\n\u001b[1;32m-> 3803\u001b[0m     \u001b[38;5;28;01mreturn\u001b[39;00m \u001b[38;5;28;43mself\u001b[39;49m\u001b[38;5;241;43m.\u001b[39;49m\u001b[43m_engine\u001b[49m\u001b[38;5;241;43m.\u001b[39;49m\u001b[43mget_loc\u001b[49m\u001b[43m(\u001b[49m\u001b[43mcasted_key\u001b[49m\u001b[43m)\u001b[49m\n\u001b[0;32m   3804\u001b[0m \u001b[38;5;28;01mexcept\u001b[39;00m \u001b[38;5;167;01mKeyError\u001b[39;00m \u001b[38;5;28;01mas\u001b[39;00m err:\n",
      "File \u001b[1;32m~\\AppData\\Roaming\\Python\\Python39\\site-packages\\pandas\\_libs\\index.pyx:138\u001b[0m, in \u001b[0;36mpandas._libs.index.IndexEngine.get_loc\u001b[1;34m()\u001b[0m\n",
      "File \u001b[1;32m~\\AppData\\Roaming\\Python\\Python39\\site-packages\\pandas\\_libs\\index.pyx:165\u001b[0m, in \u001b[0;36mpandas._libs.index.IndexEngine.get_loc\u001b[1;34m()\u001b[0m\n",
      "File \u001b[1;32mpandas\\_libs\\hashtable_class_helper.pxi:5745\u001b[0m, in \u001b[0;36mpandas._libs.hashtable.PyObjectHashTable.get_item\u001b[1;34m()\u001b[0m\n",
      "File \u001b[1;32mpandas\\_libs\\hashtable_class_helper.pxi:5753\u001b[0m, in \u001b[0;36mpandas._libs.hashtable.PyObjectHashTable.get_item\u001b[1;34m()\u001b[0m\n",
      "\u001b[1;31mKeyError\u001b[0m: 0",
      "\nThe above exception was the direct cause of the following exception:\n",
      "\u001b[1;31mKeyError\u001b[0m                                  Traceback (most recent call last)",
      "Cell \u001b[1;32mIn[100], line 1\u001b[0m\n\u001b[1;32m----> 1\u001b[0m \u001b[43mdane\u001b[49m\u001b[43m[\u001b[49m\u001b[38;5;241;43m0\u001b[39;49m\u001b[43m]\u001b[49m; \u001b[38;5;66;03m#błąd!!!!\u001b[39;00m\n",
      "File \u001b[1;32m~\\AppData\\Roaming\\Python\\Python39\\site-packages\\pandas\\core\\frame.py:3805\u001b[0m, in \u001b[0;36mDataFrame.__getitem__\u001b[1;34m(self, key)\u001b[0m\n\u001b[0;32m   3803\u001b[0m \u001b[38;5;28;01mif\u001b[39;00m \u001b[38;5;28mself\u001b[39m\u001b[38;5;241m.\u001b[39mcolumns\u001b[38;5;241m.\u001b[39mnlevels \u001b[38;5;241m>\u001b[39m \u001b[38;5;241m1\u001b[39m:\n\u001b[0;32m   3804\u001b[0m     \u001b[38;5;28;01mreturn\u001b[39;00m \u001b[38;5;28mself\u001b[39m\u001b[38;5;241m.\u001b[39m_getitem_multilevel(key)\n\u001b[1;32m-> 3805\u001b[0m indexer \u001b[38;5;241m=\u001b[39m \u001b[38;5;28;43mself\u001b[39;49m\u001b[38;5;241;43m.\u001b[39;49m\u001b[43mcolumns\u001b[49m\u001b[38;5;241;43m.\u001b[39;49m\u001b[43mget_loc\u001b[49m\u001b[43m(\u001b[49m\u001b[43mkey\u001b[49m\u001b[43m)\u001b[49m\n\u001b[0;32m   3806\u001b[0m \u001b[38;5;28;01mif\u001b[39;00m is_integer(indexer):\n\u001b[0;32m   3807\u001b[0m     indexer \u001b[38;5;241m=\u001b[39m [indexer]\n",
      "File \u001b[1;32m~\\AppData\\Roaming\\Python\\Python39\\site-packages\\pandas\\core\\indexes\\base.py:3805\u001b[0m, in \u001b[0;36mIndex.get_loc\u001b[1;34m(self, key, method, tolerance)\u001b[0m\n\u001b[0;32m   3803\u001b[0m     \u001b[38;5;28;01mreturn\u001b[39;00m \u001b[38;5;28mself\u001b[39m\u001b[38;5;241m.\u001b[39m_engine\u001b[38;5;241m.\u001b[39mget_loc(casted_key)\n\u001b[0;32m   3804\u001b[0m \u001b[38;5;28;01mexcept\u001b[39;00m \u001b[38;5;167;01mKeyError\u001b[39;00m \u001b[38;5;28;01mas\u001b[39;00m err:\n\u001b[1;32m-> 3805\u001b[0m     \u001b[38;5;28;01mraise\u001b[39;00m \u001b[38;5;167;01mKeyError\u001b[39;00m(key) \u001b[38;5;28;01mfrom\u001b[39;00m \u001b[38;5;21;01merr\u001b[39;00m\n\u001b[0;32m   3806\u001b[0m \u001b[38;5;28;01mexcept\u001b[39;00m \u001b[38;5;167;01mTypeError\u001b[39;00m:\n\u001b[0;32m   3807\u001b[0m     \u001b[38;5;66;03m# If we have a listlike key, _check_indexing_error will raise\u001b[39;00m\n\u001b[0;32m   3808\u001b[0m     \u001b[38;5;66;03m#  InvalidIndexError. Otherwise we fall through and re-raise\u001b[39;00m\n\u001b[0;32m   3809\u001b[0m     \u001b[38;5;66;03m#  the TypeError.\u001b[39;00m\n\u001b[0;32m   3810\u001b[0m     \u001b[38;5;28mself\u001b[39m\u001b[38;5;241m.\u001b[39m_check_indexing_error(key)\n",
      "\u001b[1;31mKeyError\u001b[0m: 0"
     ]
    }
   ],
   "source": [
    "dane[0]; #błąd!!!!"
   ]
  },
  {
   "cell_type": "markdown",
   "metadata": {},
   "source": [
    "Żeby wywołać pojedynczy rekord musimy użyć konstrukcji `DataFrame.iloc[]`. Zauważmy, że pojedynczy rekord to `pd.Series`"
   ]
  },
  {
   "cell_type": "code",
   "execution_count": 103,
   "metadata": {
    "id": "rw9EV8czxWbC"
   },
   "outputs": [
    {
     "data": {
      "text/plain": [
       "'Tokyo'"
      ]
     },
     "execution_count": 103,
     "metadata": {},
     "output_type": "execute_result"
    }
   ],
   "source": [
    "dane.iloc[0]['city']"
   ]
  },
  {
   "cell_type": "markdown",
   "metadata": {
    "id": "lmazlGqWxGgY"
   },
   "source": [
    "### Przeglądanie po nazwach indeksu i modyfikacja danych"
   ]
  },
  {
   "cell_type": "markdown",
   "metadata": {
    "id": "wPktE2eGt7fE"
   },
   "source": [
    "By przeglądać dane po nazwie indeksu używamy składni `DataFrame.loc[]`. Robiąc tak możemy też modyfikować dane.\n",
    "\n",
    "**Uwaga:** \n",
    "\n",
    "* indeksy nie muszą być wartościami liczbowymi - może nim być dowolne pd.Series (np. któraś z kolumn). \n",
    "* indeksy powinny być unikalne, ale pandas tego nie wymusza\n",
    "\n",
    "Do ustawienia nowego indeksu służy nam metoda `set_index`"
   ]
  },
  {
   "cell_type": "code",
   "execution_count": 104,
   "metadata": {
    "colab": {
     "base_uri": "https://localhost:8080/"
    },
    "executionInfo": {
     "elapsed": 59,
     "status": "ok",
     "timestamp": 1652263668235,
     "user": {
      "displayName": "Daniel Strzelecki",
      "userId": "04998061441867974797"
     },
     "user_tz": -120
    },
    "id": "EPYdbxMatqWs",
    "outputId": "eb05a62a-b3a6-43d1-eed8-903ef0bc3bd6"
   },
   "outputs": [
    {
     "data": {
      "text/plain": [
       "True"
      ]
     },
     "execution_count": 104,
     "metadata": {},
     "output_type": "execute_result"
    }
   ],
   "source": [
    "dane.id.is_unique"
   ]
  },
  {
   "cell_type": "code",
   "execution_count": 105,
   "metadata": {
    "id": "lsuBCqnlwCCK"
   },
   "outputs": [],
   "source": [
    "dane.set_index('id',inplace=True) #bez inplace to tylko podgląd z innym indeksem"
   ]
  },
  {
   "cell_type": "code",
   "execution_count": 106,
   "metadata": {
    "colab": {
     "base_uri": "https://localhost:8080/",
     "height": 238
    },
    "executionInfo": {
     "elapsed": 52,
     "status": "ok",
     "timestamp": 1652263668236,
     "user": {
      "displayName": "Daniel Strzelecki",
      "userId": "04998061441867974797"
     },
     "user_tz": -120
    },
    "id": "OaCbwx6uwG6q",
    "outputId": "2c6bcee0-5f18-4f1a-8349-1d869605d85b"
   },
   "outputs": [
    {
     "data": {
      "text/html": [
       "<div>\n",
       "<style scoped>\n",
       "    .dataframe tbody tr th:only-of-type {\n",
       "        vertical-align: middle;\n",
       "    }\n",
       "\n",
       "    .dataframe tbody tr th {\n",
       "        vertical-align: top;\n",
       "    }\n",
       "\n",
       "    .dataframe thead th {\n",
       "        text-align: right;\n",
       "    }\n",
       "</style>\n",
       "<table border=\"1\" class=\"dataframe\">\n",
       "  <thead>\n",
       "    <tr style=\"text-align: right;\">\n",
       "      <th></th>\n",
       "      <th>city</th>\n",
       "      <th>city_ascii</th>\n",
       "      <th>lat</th>\n",
       "      <th>lng</th>\n",
       "      <th>country</th>\n",
       "      <th>iso2</th>\n",
       "      <th>iso3</th>\n",
       "      <th>admin_name</th>\n",
       "      <th>capital</th>\n",
       "      <th>population</th>\n",
       "    </tr>\n",
       "    <tr>\n",
       "      <th>id</th>\n",
       "      <th></th>\n",
       "      <th></th>\n",
       "      <th></th>\n",
       "      <th></th>\n",
       "      <th></th>\n",
       "      <th></th>\n",
       "      <th></th>\n",
       "      <th></th>\n",
       "      <th></th>\n",
       "      <th></th>\n",
       "    </tr>\n",
       "  </thead>\n",
       "  <tbody>\n",
       "    <tr>\n",
       "      <th>1392685764</th>\n",
       "      <td>Tokyo</td>\n",
       "      <td>Tokyo</td>\n",
       "      <td>35.6897</td>\n",
       "      <td>139.6922</td>\n",
       "      <td>Japan</td>\n",
       "      <td>JP</td>\n",
       "      <td>JPN</td>\n",
       "      <td>Tōkyō</td>\n",
       "      <td>primary</td>\n",
       "      <td>37977000.0</td>\n",
       "    </tr>\n",
       "    <tr>\n",
       "      <th>1360771077</th>\n",
       "      <td>Jakarta</td>\n",
       "      <td>Jakarta</td>\n",
       "      <td>-6.2146</td>\n",
       "      <td>106.8451</td>\n",
       "      <td>Indonesia</td>\n",
       "      <td>ID</td>\n",
       "      <td>IDN</td>\n",
       "      <td>Jakarta</td>\n",
       "      <td>primary</td>\n",
       "      <td>34540000.0</td>\n",
       "    </tr>\n",
       "    <tr>\n",
       "      <th>1356872604</th>\n",
       "      <td>Delhi</td>\n",
       "      <td>Delhi</td>\n",
       "      <td>28.6600</td>\n",
       "      <td>77.2300</td>\n",
       "      <td>India</td>\n",
       "      <td>IN</td>\n",
       "      <td>IND</td>\n",
       "      <td>Delhi</td>\n",
       "      <td>admin</td>\n",
       "      <td>29617000.0</td>\n",
       "    </tr>\n",
       "    <tr>\n",
       "      <th>1356226629</th>\n",
       "      <td>Mumbai</td>\n",
       "      <td>Mumbai</td>\n",
       "      <td>18.9667</td>\n",
       "      <td>72.8333</td>\n",
       "      <td>India</td>\n",
       "      <td>IN</td>\n",
       "      <td>IND</td>\n",
       "      <td>Mahārāshtra</td>\n",
       "      <td>admin</td>\n",
       "      <td>23355000.0</td>\n",
       "    </tr>\n",
       "    <tr>\n",
       "      <th>1608618140</th>\n",
       "      <td>Manila</td>\n",
       "      <td>Manila</td>\n",
       "      <td>14.5958</td>\n",
       "      <td>120.9772</td>\n",
       "      <td>Philippines</td>\n",
       "      <td>PH</td>\n",
       "      <td>PHL</td>\n",
       "      <td>Manila</td>\n",
       "      <td>primary</td>\n",
       "      <td>23088000.0</td>\n",
       "    </tr>\n",
       "  </tbody>\n",
       "</table>\n",
       "</div>"
      ],
      "text/plain": [
       "               city city_ascii      lat       lng      country iso2 iso3  \\\n",
       "id                                                                         \n",
       "1392685764    Tokyo      Tokyo  35.6897  139.6922        Japan   JP  JPN   \n",
       "1360771077  Jakarta    Jakarta  -6.2146  106.8451    Indonesia   ID  IDN   \n",
       "1356872604    Delhi      Delhi  28.6600   77.2300        India   IN  IND   \n",
       "1356226629   Mumbai     Mumbai  18.9667   72.8333        India   IN  IND   \n",
       "1608618140   Manila     Manila  14.5958  120.9772  Philippines   PH  PHL   \n",
       "\n",
       "             admin_name  capital  population  \n",
       "id                                            \n",
       "1392685764        Tōkyō  primary  37977000.0  \n",
       "1360771077      Jakarta  primary  34540000.0  \n",
       "1356872604        Delhi    admin  29617000.0  \n",
       "1356226629  Mahārāshtra    admin  23355000.0  \n",
       "1608618140       Manila  primary  23088000.0  "
      ]
     },
     "execution_count": 106,
     "metadata": {},
     "output_type": "execute_result"
    }
   ],
   "source": [
    "dane[:5]"
   ]
  },
  {
   "cell_type": "code",
   "execution_count": 77,
   "metadata": {
    "id": "MF7nb77dwR0l"
   },
   "outputs": [],
   "source": [
    "dane.loc[1360771077,'capital']='admin' # podobnie możemy odwołać się do wielu wierszy jednocześnie i je modyfikować"
   ]
  },
  {
   "cell_type": "code",
   "execution_count": null,
   "metadata": {
    "colab": {
     "base_uri": "https://localhost:8080/",
     "height": 238
    },
    "executionInfo": {
     "elapsed": 51,
     "status": "ok",
     "timestamp": 1652263668238,
     "user": {
      "displayName": "Daniel Strzelecki",
      "userId": "04998061441867974797"
     },
     "user_tz": -120
    },
    "id": "A14KmYQ3zsMy",
    "outputId": "f7fedd41-92ca-4040-9ef2-3a2b5e66c60c"
   },
   "outputs": [
    {
     "data": {
      "text/html": [
       "\n",
       "  <div id=\"df-7fc4ee58-88de-4428-b860-35f4e41aacb9\">\n",
       "    <div class=\"colab-df-container\">\n",
       "      <div>\n",
       "<style scoped>\n",
       "    .dataframe tbody tr th:only-of-type {\n",
       "        vertical-align: middle;\n",
       "    }\n",
       "\n",
       "    .dataframe tbody tr th {\n",
       "        vertical-align: top;\n",
       "    }\n",
       "\n",
       "    .dataframe thead th {\n",
       "        text-align: right;\n",
       "    }\n",
       "</style>\n",
       "<table border=\"1\" class=\"dataframe\">\n",
       "  <thead>\n",
       "    <tr style=\"text-align: right;\">\n",
       "      <th></th>\n",
       "      <th>city</th>\n",
       "      <th>city_ascii</th>\n",
       "      <th>lat</th>\n",
       "      <th>lng</th>\n",
       "      <th>country</th>\n",
       "      <th>iso2</th>\n",
       "      <th>iso3</th>\n",
       "      <th>admin_name</th>\n",
       "      <th>capital</th>\n",
       "      <th>population</th>\n",
       "    </tr>\n",
       "    <tr>\n",
       "      <th>id</th>\n",
       "      <th></th>\n",
       "      <th></th>\n",
       "      <th></th>\n",
       "      <th></th>\n",
       "      <th></th>\n",
       "      <th></th>\n",
       "      <th></th>\n",
       "      <th></th>\n",
       "      <th></th>\n",
       "      <th></th>\n",
       "    </tr>\n",
       "  </thead>\n",
       "  <tbody>\n",
       "    <tr>\n",
       "      <th>1392685764</th>\n",
       "      <td>Tokyo</td>\n",
       "      <td>Tokyo</td>\n",
       "      <td>35.6897</td>\n",
       "      <td>139.6922</td>\n",
       "      <td>Japan</td>\n",
       "      <td>JP</td>\n",
       "      <td>JPN</td>\n",
       "      <td>Tōkyō</td>\n",
       "      <td>primary</td>\n",
       "      <td>37977000.0</td>\n",
       "    </tr>\n",
       "    <tr>\n",
       "      <th>1360771077</th>\n",
       "      <td>Jakarta</td>\n",
       "      <td>Jakarta</td>\n",
       "      <td>-6.2146</td>\n",
       "      <td>106.8451</td>\n",
       "      <td>Indonesia</td>\n",
       "      <td>ID</td>\n",
       "      <td>IDN</td>\n",
       "      <td>Jakarta</td>\n",
       "      <td>admin</td>\n",
       "      <td>34540000.0</td>\n",
       "    </tr>\n",
       "    <tr>\n",
       "      <th>1356872604</th>\n",
       "      <td>Delhi</td>\n",
       "      <td>Delhi</td>\n",
       "      <td>28.6600</td>\n",
       "      <td>77.2300</td>\n",
       "      <td>India</td>\n",
       "      <td>IN</td>\n",
       "      <td>IND</td>\n",
       "      <td>Delhi</td>\n",
       "      <td>admin</td>\n",
       "      <td>29617000.0</td>\n",
       "    </tr>\n",
       "    <tr>\n",
       "      <th>1356226629</th>\n",
       "      <td>Mumbai</td>\n",
       "      <td>Mumbai</td>\n",
       "      <td>18.9667</td>\n",
       "      <td>72.8333</td>\n",
       "      <td>India</td>\n",
       "      <td>IN</td>\n",
       "      <td>IND</td>\n",
       "      <td>Mahārāshtra</td>\n",
       "      <td>admin</td>\n",
       "      <td>23355000.0</td>\n",
       "    </tr>\n",
       "    <tr>\n",
       "      <th>1608618140</th>\n",
       "      <td>Manila</td>\n",
       "      <td>Manila</td>\n",
       "      <td>14.5958</td>\n",
       "      <td>120.9772</td>\n",
       "      <td>Philippines</td>\n",
       "      <td>PH</td>\n",
       "      <td>PHL</td>\n",
       "      <td>Manila</td>\n",
       "      <td>primary</td>\n",
       "      <td>23088000.0</td>\n",
       "    </tr>\n",
       "  </tbody>\n",
       "</table>\n",
       "</div>\n",
       "      <button class=\"colab-df-convert\" onclick=\"convertToInteractive('df-7fc4ee58-88de-4428-b860-35f4e41aacb9')\"\n",
       "              title=\"Convert this dataframe to an interactive table.\"\n",
       "              style=\"display:none;\">\n",
       "        \n",
       "  <svg xmlns=\"http://www.w3.org/2000/svg\" height=\"24px\"viewBox=\"0 0 24 24\"\n",
       "       width=\"24px\">\n",
       "    <path d=\"M0 0h24v24H0V0z\" fill=\"none\"/>\n",
       "    <path d=\"M18.56 5.44l.94 2.06.94-2.06 2.06-.94-2.06-.94-.94-2.06-.94 2.06-2.06.94zm-11 1L8.5 8.5l.94-2.06 2.06-.94-2.06-.94L8.5 2.5l-.94 2.06-2.06.94zm10 10l.94 2.06.94-2.06 2.06-.94-2.06-.94-.94-2.06-.94 2.06-2.06.94z\"/><path d=\"M17.41 7.96l-1.37-1.37c-.4-.4-.92-.59-1.43-.59-.52 0-1.04.2-1.43.59L10.3 9.45l-7.72 7.72c-.78.78-.78 2.05 0 2.83L4 21.41c.39.39.9.59 1.41.59.51 0 1.02-.2 1.41-.59l7.78-7.78 2.81-2.81c.8-.78.8-2.07 0-2.86zM5.41 20L4 18.59l7.72-7.72 1.47 1.35L5.41 20z\"/>\n",
       "  </svg>\n",
       "      </button>\n",
       "      \n",
       "  <style>\n",
       "    .colab-df-container {\n",
       "      display:flex;\n",
       "      flex-wrap:wrap;\n",
       "      gap: 12px;\n",
       "    }\n",
       "\n",
       "    .colab-df-convert {\n",
       "      background-color: #E8F0FE;\n",
       "      border: none;\n",
       "      border-radius: 50%;\n",
       "      cursor: pointer;\n",
       "      display: none;\n",
       "      fill: #1967D2;\n",
       "      height: 32px;\n",
       "      padding: 0 0 0 0;\n",
       "      width: 32px;\n",
       "    }\n",
       "\n",
       "    .colab-df-convert:hover {\n",
       "      background-color: #E2EBFA;\n",
       "      box-shadow: 0px 1px 2px rgba(60, 64, 67, 0.3), 0px 1px 3px 1px rgba(60, 64, 67, 0.15);\n",
       "      fill: #174EA6;\n",
       "    }\n",
       "\n",
       "    [theme=dark] .colab-df-convert {\n",
       "      background-color: #3B4455;\n",
       "      fill: #D2E3FC;\n",
       "    }\n",
       "\n",
       "    [theme=dark] .colab-df-convert:hover {\n",
       "      background-color: #434B5C;\n",
       "      box-shadow: 0px 1px 3px 1px rgba(0, 0, 0, 0.15);\n",
       "      filter: drop-shadow(0px 1px 2px rgba(0, 0, 0, 0.3));\n",
       "      fill: #FFFFFF;\n",
       "    }\n",
       "  </style>\n",
       "\n",
       "      <script>\n",
       "        const buttonEl =\n",
       "          document.querySelector('#df-7fc4ee58-88de-4428-b860-35f4e41aacb9 button.colab-df-convert');\n",
       "        buttonEl.style.display =\n",
       "          google.colab.kernel.accessAllowed ? 'block' : 'none';\n",
       "\n",
       "        async function convertToInteractive(key) {\n",
       "          const element = document.querySelector('#df-7fc4ee58-88de-4428-b860-35f4e41aacb9');\n",
       "          const dataTable =\n",
       "            await google.colab.kernel.invokeFunction('convertToInteractive',\n",
       "                                                     [key], {});\n",
       "          if (!dataTable) return;\n",
       "\n",
       "          const docLinkHtml = 'Like what you see? Visit the ' +\n",
       "            '<a target=\"_blank\" href=https://colab.research.google.com/notebooks/data_table.ipynb>data table notebook</a>'\n",
       "            + ' to learn more about interactive tables.';\n",
       "          element.innerHTML = '';\n",
       "          dataTable['output_type'] = 'display_data';\n",
       "          await google.colab.output.renderOutput(dataTable, element);\n",
       "          const docLink = document.createElement('div');\n",
       "          docLink.innerHTML = docLinkHtml;\n",
       "          element.appendChild(docLink);\n",
       "        }\n",
       "      </script>\n",
       "    </div>\n",
       "  </div>\n",
       "  "
      ],
      "text/plain": [
       "               city city_ascii      lat       lng      country iso2 iso3  \\\n",
       "id                                                                         \n",
       "1392685764    Tokyo      Tokyo  35.6897  139.6922        Japan   JP  JPN   \n",
       "1360771077  Jakarta    Jakarta  -6.2146  106.8451    Indonesia   ID  IDN   \n",
       "1356872604    Delhi      Delhi  28.6600   77.2300        India   IN  IND   \n",
       "1356226629   Mumbai     Mumbai  18.9667   72.8333        India   IN  IND   \n",
       "1608618140   Manila     Manila  14.5958  120.9772  Philippines   PH  PHL   \n",
       "\n",
       "             admin_name  capital  population  \n",
       "id                                            \n",
       "1392685764        Tōkyō  primary  37977000.0  \n",
       "1360771077      Jakarta    admin  34540000.0  \n",
       "1356872604        Delhi    admin  29617000.0  \n",
       "1356226629  Mahārāshtra    admin  23355000.0  \n",
       "1608618140       Manila  primary  23088000.0  "
      ]
     },
     "execution_count": 27,
     "metadata": {},
     "output_type": "execute_result"
    }
   ],
   "source": [
    "dane.head()"
   ]
  },
  {
   "cell_type": "markdown",
   "metadata": {
    "id": "Xa8eYvtN1ce7"
   },
   "source": [
    "### Maski logiczne\n",
    "\n",
    "Tak jak w numpy (zamiast `and` używamy `&` zamiast `or` używamy `|`)"
   ]
  },
  {
   "cell_type": "code",
   "execution_count": 109,
   "metadata": {
    "colab": {
     "base_uri": "https://localhost:8080/",
     "height": 455
    },
    "executionInfo": {
     "elapsed": 50,
     "status": "ok",
     "timestamp": 1652263668239,
     "user": {
      "displayName": "Daniel Strzelecki",
      "userId": "04998061441867974797"
     },
     "user_tz": -120
    },
    "id": "5NEVKAXv1bui",
    "outputId": "9a8c53fe-591e-4f80-a66c-f12b4f13a526"
   },
   "outputs": [
    {
     "data": {
      "text/html": [
       "<div>\n",
       "<style scoped>\n",
       "    .dataframe tbody tr th:only-of-type {\n",
       "        vertical-align: middle;\n",
       "    }\n",
       "\n",
       "    .dataframe tbody tr th {\n",
       "        vertical-align: top;\n",
       "    }\n",
       "\n",
       "    .dataframe thead th {\n",
       "        text-align: right;\n",
       "    }\n",
       "</style>\n",
       "<table border=\"1\" class=\"dataframe\">\n",
       "  <thead>\n",
       "    <tr style=\"text-align: right;\">\n",
       "      <th></th>\n",
       "      <th>city</th>\n",
       "      <th>city_ascii</th>\n",
       "      <th>lat</th>\n",
       "      <th>lng</th>\n",
       "      <th>country</th>\n",
       "      <th>iso2</th>\n",
       "      <th>iso3</th>\n",
       "      <th>admin_name</th>\n",
       "      <th>capital</th>\n",
       "      <th>population</th>\n",
       "    </tr>\n",
       "    <tr>\n",
       "      <th>id</th>\n",
       "      <th></th>\n",
       "      <th></th>\n",
       "      <th></th>\n",
       "      <th></th>\n",
       "      <th></th>\n",
       "      <th></th>\n",
       "      <th></th>\n",
       "      <th></th>\n",
       "      <th></th>\n",
       "      <th></th>\n",
       "    </tr>\n",
       "  </thead>\n",
       "  <tbody>\n",
       "    <tr>\n",
       "      <th>1356872604</th>\n",
       "      <td>Delhi</td>\n",
       "      <td>Delhi</td>\n",
       "      <td>28.6600</td>\n",
       "      <td>77.2300</td>\n",
       "      <td>India</td>\n",
       "      <td>IN</td>\n",
       "      <td>IND</td>\n",
       "      <td>Delhi</td>\n",
       "      <td>admin</td>\n",
       "      <td>29617000.0</td>\n",
       "    </tr>\n",
       "    <tr>\n",
       "      <th>1356226629</th>\n",
       "      <td>Mumbai</td>\n",
       "      <td>Mumbai</td>\n",
       "      <td>18.9667</td>\n",
       "      <td>72.8333</td>\n",
       "      <td>India</td>\n",
       "      <td>IN</td>\n",
       "      <td>IND</td>\n",
       "      <td>Mahārāshtra</td>\n",
       "      <td>admin</td>\n",
       "      <td>23355000.0</td>\n",
       "    </tr>\n",
       "    <tr>\n",
       "      <th>1156073548</th>\n",
       "      <td>Shanghai</td>\n",
       "      <td>Shanghai</td>\n",
       "      <td>31.1667</td>\n",
       "      <td>121.4667</td>\n",
       "      <td>China</td>\n",
       "      <td>CN</td>\n",
       "      <td>CHN</td>\n",
       "      <td>Shanghai</td>\n",
       "      <td>admin</td>\n",
       "      <td>22120000.0</td>\n",
       "    </tr>\n",
       "    <tr>\n",
       "      <th>1076532519</th>\n",
       "      <td>São Paulo</td>\n",
       "      <td>Sao Paulo</td>\n",
       "      <td>-23.5504</td>\n",
       "      <td>-46.6339</td>\n",
       "      <td>Brazil</td>\n",
       "      <td>BR</td>\n",
       "      <td>BRA</td>\n",
       "      <td>São Paulo</td>\n",
       "      <td>admin</td>\n",
       "      <td>22046000.0</td>\n",
       "    </tr>\n",
       "    <tr>\n",
       "      <th>1156237133</th>\n",
       "      <td>Guangzhou</td>\n",
       "      <td>Guangzhou</td>\n",
       "      <td>23.1288</td>\n",
       "      <td>113.2590</td>\n",
       "      <td>China</td>\n",
       "      <td>CN</td>\n",
       "      <td>CHN</td>\n",
       "      <td>Guangdong</td>\n",
       "      <td>admin</td>\n",
       "      <td>20902000.0</td>\n",
       "    </tr>\n",
       "    <tr>\n",
       "      <th>...</th>\n",
       "      <td>...</td>\n",
       "      <td>...</td>\n",
       "      <td>...</td>\n",
       "      <td>...</td>\n",
       "      <td>...</td>\n",
       "      <td>...</td>\n",
       "      <td>...</td>\n",
       "      <td>...</td>\n",
       "      <td>...</td>\n",
       "      <td>...</td>\n",
       "    </tr>\n",
       "    <tr>\n",
       "      <th>1076303219</th>\n",
       "      <td>Pratânia</td>\n",
       "      <td>Pratania</td>\n",
       "      <td>-22.8083</td>\n",
       "      <td>-48.6661</td>\n",
       "      <td>Brazil</td>\n",
       "      <td>BR</td>\n",
       "      <td>BRA</td>\n",
       "      <td>São Paulo</td>\n",
       "      <td>NaN</td>\n",
       "      <td>5021.0</td>\n",
       "    </tr>\n",
       "    <tr>\n",
       "      <th>1076493823</th>\n",
       "      <td>Vila Bela da Santíssima Trindade</td>\n",
       "      <td>Vila Bela da Santissima Trindade</td>\n",
       "      <td>-15.0000</td>\n",
       "      <td>-59.9500</td>\n",
       "      <td>Brazil</td>\n",
       "      <td>BR</td>\n",
       "      <td>BRA</td>\n",
       "      <td>Mato Grosso</td>\n",
       "      <td>NaN</td>\n",
       "      <td>1612.0</td>\n",
       "    </tr>\n",
       "    <tr>\n",
       "      <th>1076482734</th>\n",
       "      <td>Príncipe da Beira</td>\n",
       "      <td>Principe da Beira</td>\n",
       "      <td>-12.4167</td>\n",
       "      <td>-64.4166</td>\n",
       "      <td>Brazil</td>\n",
       "      <td>BR</td>\n",
       "      <td>BRA</td>\n",
       "      <td>Rondônia</td>\n",
       "      <td>NaN</td>\n",
       "      <td>956.0</td>\n",
       "    </tr>\n",
       "    <tr>\n",
       "      <th>1076834242</th>\n",
       "      <td>Amapá</td>\n",
       "      <td>Amapa</td>\n",
       "      <td>2.0500</td>\n",
       "      <td>-50.8000</td>\n",
       "      <td>Brazil</td>\n",
       "      <td>BR</td>\n",
       "      <td>BRA</td>\n",
       "      <td>Amapá</td>\n",
       "      <td>NaN</td>\n",
       "      <td>1947.0</td>\n",
       "    </tr>\n",
       "    <tr>\n",
       "      <th>1076632448</th>\n",
       "      <td>Abunã</td>\n",
       "      <td>Abuna</td>\n",
       "      <td>-9.6954</td>\n",
       "      <td>-65.3597</td>\n",
       "      <td>Brazil</td>\n",
       "      <td>BR</td>\n",
       "      <td>BRA</td>\n",
       "      <td>Rondônia</td>\n",
       "      <td>NaN</td>\n",
       "      <td>1929.0</td>\n",
       "    </tr>\n",
       "  </tbody>\n",
       "</table>\n",
       "<p>4426 rows × 10 columns</p>\n",
       "</div>"
      ],
      "text/plain": [
       "                                        city  \\\n",
       "id                                             \n",
       "1356872604                             Delhi   \n",
       "1356226629                            Mumbai   \n",
       "1156073548                          Shanghai   \n",
       "1076532519                         São Paulo   \n",
       "1156237133                         Guangzhou   \n",
       "...                                      ...   \n",
       "1076303219                          Pratânia   \n",
       "1076493823  Vila Bela da Santíssima Trindade   \n",
       "1076482734                 Príncipe da Beira   \n",
       "1076834242                             Amapá   \n",
       "1076632448                             Abunã   \n",
       "\n",
       "                                  city_ascii      lat       lng country iso2  \\\n",
       "id                                                                             \n",
       "1356872604                             Delhi  28.6600   77.2300   India   IN   \n",
       "1356226629                            Mumbai  18.9667   72.8333   India   IN   \n",
       "1156073548                          Shanghai  31.1667  121.4667   China   CN   \n",
       "1076532519                         Sao Paulo -23.5504  -46.6339  Brazil   BR   \n",
       "1156237133                         Guangzhou  23.1288  113.2590   China   CN   \n",
       "...                                      ...      ...       ...     ...  ...   \n",
       "1076303219                          Pratania -22.8083  -48.6661  Brazil   BR   \n",
       "1076493823  Vila Bela da Santissima Trindade -15.0000  -59.9500  Brazil   BR   \n",
       "1076482734                 Principe da Beira -12.4167  -64.4166  Brazil   BR   \n",
       "1076834242                             Amapa   2.0500  -50.8000  Brazil   BR   \n",
       "1076632448                             Abuna  -9.6954  -65.3597  Brazil   BR   \n",
       "\n",
       "           iso3   admin_name capital  population  \n",
       "id                                                \n",
       "1356872604  IND        Delhi   admin  29617000.0  \n",
       "1356226629  IND  Mahārāshtra   admin  23355000.0  \n",
       "1156073548  CHN     Shanghai   admin  22120000.0  \n",
       "1076532519  BRA    São Paulo   admin  22046000.0  \n",
       "1156237133  CHN    Guangdong   admin  20902000.0  \n",
       "...         ...          ...     ...         ...  \n",
       "1076303219  BRA    São Paulo     NaN      5021.0  \n",
       "1076493823  BRA  Mato Grosso     NaN      1612.0  \n",
       "1076482734  BRA     Rondônia     NaN       956.0  \n",
       "1076834242  BRA        Amapá     NaN      1947.0  \n",
       "1076632448  BRA     Rondônia     NaN      1929.0  \n",
       "\n",
       "[4426 rows x 10 columns]"
      ]
     },
     "execution_count": 109,
     "metadata": {},
     "output_type": "execute_result"
    }
   ],
   "source": [
    "dane[(dane.capital=='admin') | (dane.country=='Brazil')]"
   ]
  },
  {
   "cell_type": "markdown",
   "metadata": {
    "id": "ItsRd8d92CBR"
   },
   "source": [
    "### Zadanie 1\n",
    "* Znajdź wszystkie miasta w Polsce, które mają liczbę ludności mniejszą niż 10 tyś.\n",
    "\n",
    "* Tym miasto z Polski, które nie mają danych w kolumnie capital wpisz 'brak'.\n",
    "\n",
    "* Dodaj do całego zbioru danych nową kolumnę 'małe miasto', które zawiera True dla miast poniżej 10 tyś mieszkańców  i False w pozostałych przypadkach.\n",
    "\n",
    "* Posortuj dane alfabetycznie po nazwie kraju (na stałe, a nie tylko jako widok)"
   ]
  },
  {
   "cell_type": "code",
   "execution_count": null,
   "metadata": {
    "id": "00-4dKku6IeP"
   },
   "outputs": [],
   "source": [
    "dane.apply"
   ]
  },
  {
   "cell_type": "markdown",
   "metadata": {
    "id": "qd6wB_Zl6gQN"
   },
   "source": []
  },
  {
   "cell_type": "markdown",
   "metadata": {
    "id": "pzTxIou37HQr"
   },
   "source": [
    "### Apply\n",
    "Tworzenie nowych wartości, które powstają przez jakąś funkcję na istniejących danych odbywa się metodą `.apply()`. Można ją stosować na `pd.Series` (np. jednej kolumnie) lub na całym `pd.DataFrame`, ale wtey trzeba pilnować osi."
   ]
  },
  {
   "cell_type": "code",
   "execution_count": 110,
   "metadata": {
    "id": "UjgkOs387AlT"
   },
   "outputs": [],
   "source": [
    "\n",
    "def kategoryzuj_populacje(ludnosc):\n",
    "    if ludnosc>10**6: \n",
    "        return 'ogromne miasto'\n",
    "    elif ludnosc>2 *10**5: \n",
    "        return 'srednie miasto'\n",
    "    else: \n",
    "        return 'male miasto'\n",
    "dane['Wielkosc']=dane.population.apply(kategoryzuj_populacje) #operacja na całej kolumnie"
   ]
  },
  {
   "cell_type": "code",
   "execution_count": 111,
   "metadata": {
    "id": "YG8UQEbFGyCX"
   },
   "outputs": [
    {
     "data": {
      "text/html": [
       "<div>\n",
       "<style scoped>\n",
       "    .dataframe tbody tr th:only-of-type {\n",
       "        vertical-align: middle;\n",
       "    }\n",
       "\n",
       "    .dataframe tbody tr th {\n",
       "        vertical-align: top;\n",
       "    }\n",
       "\n",
       "    .dataframe thead th {\n",
       "        text-align: right;\n",
       "    }\n",
       "</style>\n",
       "<table border=\"1\" class=\"dataframe\">\n",
       "  <thead>\n",
       "    <tr style=\"text-align: right;\">\n",
       "      <th></th>\n",
       "      <th>city</th>\n",
       "      <th>city_ascii</th>\n",
       "      <th>lat</th>\n",
       "      <th>lng</th>\n",
       "      <th>country</th>\n",
       "      <th>iso2</th>\n",
       "      <th>iso3</th>\n",
       "      <th>admin_name</th>\n",
       "      <th>capital</th>\n",
       "      <th>population</th>\n",
       "      <th>Wielkosc</th>\n",
       "    </tr>\n",
       "    <tr>\n",
       "      <th>id</th>\n",
       "      <th></th>\n",
       "      <th></th>\n",
       "      <th></th>\n",
       "      <th></th>\n",
       "      <th></th>\n",
       "      <th></th>\n",
       "      <th></th>\n",
       "      <th></th>\n",
       "      <th></th>\n",
       "      <th></th>\n",
       "      <th></th>\n",
       "    </tr>\n",
       "  </thead>\n",
       "  <tbody>\n",
       "    <tr>\n",
       "      <th>1392685764</th>\n",
       "      <td>Tokyo</td>\n",
       "      <td>Tokyo</td>\n",
       "      <td>35.6897</td>\n",
       "      <td>139.6922</td>\n",
       "      <td>Japan</td>\n",
       "      <td>JP</td>\n",
       "      <td>JPN</td>\n",
       "      <td>Tōkyō</td>\n",
       "      <td>primary</td>\n",
       "      <td>37977000.0</td>\n",
       "      <td>ogromne miasto</td>\n",
       "    </tr>\n",
       "    <tr>\n",
       "      <th>1360771077</th>\n",
       "      <td>Jakarta</td>\n",
       "      <td>Jakarta</td>\n",
       "      <td>-6.2146</td>\n",
       "      <td>106.8451</td>\n",
       "      <td>Indonesia</td>\n",
       "      <td>ID</td>\n",
       "      <td>IDN</td>\n",
       "      <td>Jakarta</td>\n",
       "      <td>primary</td>\n",
       "      <td>34540000.0</td>\n",
       "      <td>ogromne miasto</td>\n",
       "    </tr>\n",
       "    <tr>\n",
       "      <th>1356872604</th>\n",
       "      <td>Delhi</td>\n",
       "      <td>Delhi</td>\n",
       "      <td>28.6600</td>\n",
       "      <td>77.2300</td>\n",
       "      <td>India</td>\n",
       "      <td>IN</td>\n",
       "      <td>IND</td>\n",
       "      <td>Delhi</td>\n",
       "      <td>admin</td>\n",
       "      <td>29617000.0</td>\n",
       "      <td>ogromne miasto</td>\n",
       "    </tr>\n",
       "    <tr>\n",
       "      <th>1356226629</th>\n",
       "      <td>Mumbai</td>\n",
       "      <td>Mumbai</td>\n",
       "      <td>18.9667</td>\n",
       "      <td>72.8333</td>\n",
       "      <td>India</td>\n",
       "      <td>IN</td>\n",
       "      <td>IND</td>\n",
       "      <td>Mahārāshtra</td>\n",
       "      <td>admin</td>\n",
       "      <td>23355000.0</td>\n",
       "      <td>ogromne miasto</td>\n",
       "    </tr>\n",
       "    <tr>\n",
       "      <th>1608618140</th>\n",
       "      <td>Manila</td>\n",
       "      <td>Manila</td>\n",
       "      <td>14.5958</td>\n",
       "      <td>120.9772</td>\n",
       "      <td>Philippines</td>\n",
       "      <td>PH</td>\n",
       "      <td>PHL</td>\n",
       "      <td>Manila</td>\n",
       "      <td>primary</td>\n",
       "      <td>23088000.0</td>\n",
       "      <td>ogromne miasto</td>\n",
       "    </tr>\n",
       "    <tr>\n",
       "      <th>...</th>\n",
       "      <td>...</td>\n",
       "      <td>...</td>\n",
       "      <td>...</td>\n",
       "      <td>...</td>\n",
       "      <td>...</td>\n",
       "      <td>...</td>\n",
       "      <td>...</td>\n",
       "      <td>...</td>\n",
       "      <td>...</td>\n",
       "      <td>...</td>\n",
       "      <td>...</td>\n",
       "    </tr>\n",
       "    <tr>\n",
       "      <th>1304217709</th>\n",
       "      <td>Nord</td>\n",
       "      <td>Nord</td>\n",
       "      <td>81.7166</td>\n",
       "      <td>-17.8000</td>\n",
       "      <td>Greenland</td>\n",
       "      <td>GL</td>\n",
       "      <td>GRL</td>\n",
       "      <td>Sermersooq</td>\n",
       "      <td>NaN</td>\n",
       "      <td>10.0</td>\n",
       "      <td>male miasto</td>\n",
       "    </tr>\n",
       "    <tr>\n",
       "      <th>1304206491</th>\n",
       "      <td>Timmiarmiut</td>\n",
       "      <td>Timmiarmiut</td>\n",
       "      <td>62.5333</td>\n",
       "      <td>-42.2167</td>\n",
       "      <td>Greenland</td>\n",
       "      <td>GL</td>\n",
       "      <td>GRL</td>\n",
       "      <td>Kujalleq</td>\n",
       "      <td>NaN</td>\n",
       "      <td>10.0</td>\n",
       "      <td>male miasto</td>\n",
       "    </tr>\n",
       "    <tr>\n",
       "      <th>1804043438</th>\n",
       "      <td>Cheremoshna</td>\n",
       "      <td>Cheremoshna</td>\n",
       "      <td>51.3894</td>\n",
       "      <td>30.0989</td>\n",
       "      <td>Ukraine</td>\n",
       "      <td>UA</td>\n",
       "      <td>UKR</td>\n",
       "      <td>Kyyivs’ka Oblast’</td>\n",
       "      <td>NaN</td>\n",
       "      <td>0.0</td>\n",
       "      <td>male miasto</td>\n",
       "    </tr>\n",
       "    <tr>\n",
       "      <th>1643739159</th>\n",
       "      <td>Ambarchik</td>\n",
       "      <td>Ambarchik</td>\n",
       "      <td>69.6510</td>\n",
       "      <td>162.3336</td>\n",
       "      <td>Russia</td>\n",
       "      <td>RU</td>\n",
       "      <td>RUS</td>\n",
       "      <td>Sakha (Yakutiya)</td>\n",
       "      <td>NaN</td>\n",
       "      <td>0.0</td>\n",
       "      <td>male miasto</td>\n",
       "    </tr>\n",
       "    <tr>\n",
       "      <th>1643587468</th>\n",
       "      <td>Nordvik</td>\n",
       "      <td>Nordvik</td>\n",
       "      <td>74.0165</td>\n",
       "      <td>111.5100</td>\n",
       "      <td>Russia</td>\n",
       "      <td>RU</td>\n",
       "      <td>RUS</td>\n",
       "      <td>Krasnoyarskiy Kray</td>\n",
       "      <td>NaN</td>\n",
       "      <td>0.0</td>\n",
       "      <td>male miasto</td>\n",
       "    </tr>\n",
       "  </tbody>\n",
       "</table>\n",
       "<p>26569 rows × 11 columns</p>\n",
       "</div>"
      ],
      "text/plain": [
       "                   city   city_ascii      lat       lng      country iso2  \\\n",
       "id                                                                          \n",
       "1392685764        Tokyo        Tokyo  35.6897  139.6922        Japan   JP   \n",
       "1360771077      Jakarta      Jakarta  -6.2146  106.8451    Indonesia   ID   \n",
       "1356872604        Delhi        Delhi  28.6600   77.2300        India   IN   \n",
       "1356226629       Mumbai       Mumbai  18.9667   72.8333        India   IN   \n",
       "1608618140       Manila       Manila  14.5958  120.9772  Philippines   PH   \n",
       "...                 ...          ...      ...       ...          ...  ...   \n",
       "1304217709         Nord         Nord  81.7166  -17.8000    Greenland   GL   \n",
       "1304206491  Timmiarmiut  Timmiarmiut  62.5333  -42.2167    Greenland   GL   \n",
       "1804043438  Cheremoshna  Cheremoshna  51.3894   30.0989      Ukraine   UA   \n",
       "1643739159    Ambarchik    Ambarchik  69.6510  162.3336       Russia   RU   \n",
       "1643587468      Nordvik      Nordvik  74.0165  111.5100       Russia   RU   \n",
       "\n",
       "           iso3          admin_name  capital  population        Wielkosc  \n",
       "id                                                                        \n",
       "1392685764  JPN               Tōkyō  primary  37977000.0  ogromne miasto  \n",
       "1360771077  IDN             Jakarta  primary  34540000.0  ogromne miasto  \n",
       "1356872604  IND               Delhi    admin  29617000.0  ogromne miasto  \n",
       "1356226629  IND         Mahārāshtra    admin  23355000.0  ogromne miasto  \n",
       "1608618140  PHL              Manila  primary  23088000.0  ogromne miasto  \n",
       "...         ...                 ...      ...         ...             ...  \n",
       "1304217709  GRL          Sermersooq      NaN        10.0     male miasto  \n",
       "1304206491  GRL            Kujalleq      NaN        10.0     male miasto  \n",
       "1804043438  UKR   Kyyivs’ka Oblast’      NaN         0.0     male miasto  \n",
       "1643739159  RUS    Sakha (Yakutiya)      NaN         0.0     male miasto  \n",
       "1643587468  RUS  Krasnoyarskiy Kray      NaN         0.0     male miasto  \n",
       "\n",
       "[26569 rows x 11 columns]"
      ]
     },
     "execution_count": 111,
     "metadata": {},
     "output_type": "execute_result"
    }
   ],
   "source": [
    "dane"
   ]
  },
  {
   "cell_type": "code",
   "execution_count": 114,
   "metadata": {
    "id": "SpF2KDqrGy0g"
   },
   "outputs": [],
   "source": [
    "# operacje na wierszu\n",
    "def polozenie(wiersz):\n",
    "    wiersz['polozenie']=f'szerokość: {wiersz.lat}, długość: {wiersz.lng}'\n",
    "    return wiersz\n",
    "dane2=dane.apply(polozenie,axis=1);"
   ]
  },
  {
   "cell_type": "markdown",
   "metadata": {
    "id": "MPi6JqCsKCHt"
   },
   "source": [
    "### Grupowanie groupby\n",
    "Metoda `.groupby()` zbiera wiersze posiadające tę samą wartość w ustalonej kolumnie (lub kolumnach). Połączone dane musi jakoś 'przetworzyć', więc podajemy jaką statystykę chcemy policzyć z całej 'paczki'."
   ]
  },
  {
   "cell_type": "code",
   "execution_count": 123,
   "metadata": {
    "colab": {
     "base_uri": "https://localhost:8080/",
     "height": 455
    },
    "executionInfo": {
     "elapsed": 97,
     "status": "ok",
     "timestamp": 1652263689652,
     "user": {
      "displayName": "Daniel Strzelecki",
      "userId": "04998061441867974797"
     },
     "user_tz": -120
    },
    "id": "vN3bLJDVJHdl",
    "outputId": "e537027a-f9f3-4ddc-ae7b-28c4aa10c42c"
   },
   "outputs": [
    {
     "name": "stderr",
     "output_type": "stream",
     "text": [
      "C:\\Users\\user\\AppData\\Local\\Temp\\ipykernel_1360\\3292212674.py:1: FutureWarning: The default value of numeric_only in DataFrameGroupBy.mean is deprecated. In a future version, numeric_only will default to False. Either specify numeric_only or select only columns which should be valid for the function.\n",
      "  dane.groupby('country').mean()\n"
     ]
    },
    {
     "data": {
      "text/html": [
       "<div>\n",
       "<style scoped>\n",
       "    .dataframe tbody tr th:only-of-type {\n",
       "        vertical-align: middle;\n",
       "    }\n",
       "\n",
       "    .dataframe tbody tr th {\n",
       "        vertical-align: top;\n",
       "    }\n",
       "\n",
       "    .dataframe thead th {\n",
       "        text-align: right;\n",
       "    }\n",
       "</style>\n",
       "<table border=\"1\" class=\"dataframe\">\n",
       "  <thead>\n",
       "    <tr style=\"text-align: right;\">\n",
       "      <th></th>\n",
       "      <th>lat</th>\n",
       "      <th>lng</th>\n",
       "      <th>population</th>\n",
       "    </tr>\n",
       "    <tr>\n",
       "      <th>country</th>\n",
       "      <th></th>\n",
       "      <th></th>\n",
       "      <th></th>\n",
       "    </tr>\n",
       "  </thead>\n",
       "  <tbody>\n",
       "    <tr>\n",
       "      <th>Afghanistan</th>\n",
       "      <td>34.755439</td>\n",
       "      <td>67.488482</td>\n",
       "      <td>191654.487179</td>\n",
       "    </tr>\n",
       "    <tr>\n",
       "      <th>Albania</th>\n",
       "      <td>41.137240</td>\n",
       "      <td>19.950260</td>\n",
       "      <td>33835.380000</td>\n",
       "    </tr>\n",
       "    <tr>\n",
       "      <th>Algeria</th>\n",
       "      <td>33.199642</td>\n",
       "      <td>3.345492</td>\n",
       "      <td>189968.666667</td>\n",
       "    </tr>\n",
       "    <tr>\n",
       "      <th>American Samoa</th>\n",
       "      <td>-14.274000</td>\n",
       "      <td>-170.704600</td>\n",
       "      <td>12576.000000</td>\n",
       "    </tr>\n",
       "    <tr>\n",
       "      <th>Andorra</th>\n",
       "      <td>42.522429</td>\n",
       "      <td>1.534929</td>\n",
       "      <td>22151.000000</td>\n",
       "    </tr>\n",
       "    <tr>\n",
       "      <th>...</th>\n",
       "      <td>...</td>\n",
       "      <td>...</td>\n",
       "      <td>...</td>\n",
       "    </tr>\n",
       "    <tr>\n",
       "      <th>Wallis And Futuna</th>\n",
       "      <td>-14.293300</td>\n",
       "      <td>-178.158300</td>\n",
       "      <td>NaN</td>\n",
       "    </tr>\n",
       "    <tr>\n",
       "      <th>West Bank</th>\n",
       "      <td>31.776400</td>\n",
       "      <td>35.226900</td>\n",
       "      <td>NaN</td>\n",
       "    </tr>\n",
       "    <tr>\n",
       "      <th>Yemen</th>\n",
       "      <td>14.599500</td>\n",
       "      <td>45.557967</td>\n",
       "      <td>171140.153846</td>\n",
       "    </tr>\n",
       "    <tr>\n",
       "      <th>Zambia</th>\n",
       "      <td>-13.342017</td>\n",
       "      <td>27.707497</td>\n",
       "      <td>135563.885714</td>\n",
       "    </tr>\n",
       "    <tr>\n",
       "      <th>Zimbabwe</th>\n",
       "      <td>-18.807485</td>\n",
       "      <td>29.947850</td>\n",
       "      <td>146464.080000</td>\n",
       "    </tr>\n",
       "  </tbody>\n",
       "</table>\n",
       "<p>224 rows × 3 columns</p>\n",
       "</div>"
      ],
      "text/plain": [
       "                         lat         lng     population\n",
       "country                                                \n",
       "Afghanistan        34.755439   67.488482  191654.487179\n",
       "Albania            41.137240   19.950260   33835.380000\n",
       "Algeria            33.199642    3.345492  189968.666667\n",
       "American Samoa    -14.274000 -170.704600   12576.000000\n",
       "Andorra            42.522429    1.534929   22151.000000\n",
       "...                      ...         ...            ...\n",
       "Wallis And Futuna -14.293300 -178.158300            NaN\n",
       "West Bank          31.776400   35.226900            NaN\n",
       "Yemen              14.599500   45.557967  171140.153846\n",
       "Zambia            -13.342017   27.707497  135563.885714\n",
       "Zimbabwe          -18.807485   29.947850  146464.080000\n",
       "\n",
       "[224 rows x 3 columns]"
      ]
     },
     "execution_count": 123,
     "metadata": {},
     "output_type": "execute_result"
    }
   ],
   "source": [
    "dane.groupby('country').mean()"
   ]
  },
  {
   "cell_type": "code",
   "execution_count": 126,
   "metadata": {
    "id": "Lz0phFWNKL9q"
   },
   "outputs": [
    {
     "data": {
      "text/html": [
       "<div>\n",
       "<style scoped>\n",
       "    .dataframe tbody tr th:only-of-type {\n",
       "        vertical-align: middle;\n",
       "    }\n",
       "\n",
       "    .dataframe tbody tr th {\n",
       "        vertical-align: top;\n",
       "    }\n",
       "\n",
       "    .dataframe thead th {\n",
       "        text-align: right;\n",
       "    }\n",
       "</style>\n",
       "<table border=\"1\" class=\"dataframe\">\n",
       "  <thead>\n",
       "    <tr style=\"text-align: right;\">\n",
       "      <th></th>\n",
       "      <th></th>\n",
       "      <th>city</th>\n",
       "      <th>city_ascii</th>\n",
       "      <th>lat</th>\n",
       "      <th>lng</th>\n",
       "      <th>iso2</th>\n",
       "      <th>iso3</th>\n",
       "      <th>capital</th>\n",
       "      <th>population</th>\n",
       "      <th>Wielkosc</th>\n",
       "    </tr>\n",
       "    <tr>\n",
       "      <th>country</th>\n",
       "      <th>admin_name</th>\n",
       "      <th></th>\n",
       "      <th></th>\n",
       "      <th></th>\n",
       "      <th></th>\n",
       "      <th></th>\n",
       "      <th></th>\n",
       "      <th></th>\n",
       "      <th></th>\n",
       "      <th></th>\n",
       "    </tr>\n",
       "  </thead>\n",
       "  <tbody>\n",
       "    <tr>\n",
       "      <th rowspan=\"5\" valign=\"top\">Afghanistan</th>\n",
       "      <th>Badakhshān</th>\n",
       "      <td>1</td>\n",
       "      <td>1</td>\n",
       "      <td>1</td>\n",
       "      <td>1</td>\n",
       "      <td>1</td>\n",
       "      <td>1</td>\n",
       "      <td>1</td>\n",
       "      <td>1</td>\n",
       "      <td>1</td>\n",
       "    </tr>\n",
       "    <tr>\n",
       "      <th>Baghlān</th>\n",
       "      <td>2</td>\n",
       "      <td>2</td>\n",
       "      <td>2</td>\n",
       "      <td>2</td>\n",
       "      <td>2</td>\n",
       "      <td>2</td>\n",
       "      <td>2</td>\n",
       "      <td>2</td>\n",
       "      <td>2</td>\n",
       "    </tr>\n",
       "    <tr>\n",
       "      <th>Balkh</th>\n",
       "      <td>3</td>\n",
       "      <td>3</td>\n",
       "      <td>3</td>\n",
       "      <td>3</td>\n",
       "      <td>3</td>\n",
       "      <td>3</td>\n",
       "      <td>3</td>\n",
       "      <td>3</td>\n",
       "      <td>3</td>\n",
       "    </tr>\n",
       "    <tr>\n",
       "      <th>Bādghīs</th>\n",
       "      <td>1</td>\n",
       "      <td>1</td>\n",
       "      <td>1</td>\n",
       "      <td>1</td>\n",
       "      <td>1</td>\n",
       "      <td>1</td>\n",
       "      <td>1</td>\n",
       "      <td>1</td>\n",
       "      <td>1</td>\n",
       "    </tr>\n",
       "    <tr>\n",
       "      <th>Bāmyān</th>\n",
       "      <td>1</td>\n",
       "      <td>1</td>\n",
       "      <td>1</td>\n",
       "      <td>1</td>\n",
       "      <td>1</td>\n",
       "      <td>1</td>\n",
       "      <td>1</td>\n",
       "      <td>1</td>\n",
       "      <td>1</td>\n",
       "    </tr>\n",
       "    <tr>\n",
       "      <th>...</th>\n",
       "      <th>...</th>\n",
       "      <td>...</td>\n",
       "      <td>...</td>\n",
       "      <td>...</td>\n",
       "      <td>...</td>\n",
       "      <td>...</td>\n",
       "      <td>...</td>\n",
       "      <td>...</td>\n",
       "      <td>...</td>\n",
       "      <td>...</td>\n",
       "    </tr>\n",
       "    <tr>\n",
       "      <th rowspan=\"5\" valign=\"top\">Zimbabwe</th>\n",
       "      <th>Mashonaland West</th>\n",
       "      <td>4</td>\n",
       "      <td>4</td>\n",
       "      <td>4</td>\n",
       "      <td>4</td>\n",
       "      <td>4</td>\n",
       "      <td>4</td>\n",
       "      <td>1</td>\n",
       "      <td>4</td>\n",
       "      <td>4</td>\n",
       "    </tr>\n",
       "    <tr>\n",
       "      <th>Masvingo</th>\n",
       "      <td>3</td>\n",
       "      <td>3</td>\n",
       "      <td>3</td>\n",
       "      <td>3</td>\n",
       "      <td>3</td>\n",
       "      <td>3</td>\n",
       "      <td>1</td>\n",
       "      <td>3</td>\n",
       "      <td>3</td>\n",
       "    </tr>\n",
       "    <tr>\n",
       "      <th>Matabeleland North</th>\n",
       "      <td>3</td>\n",
       "      <td>3</td>\n",
       "      <td>3</td>\n",
       "      <td>3</td>\n",
       "      <td>3</td>\n",
       "      <td>3</td>\n",
       "      <td>1</td>\n",
       "      <td>2</td>\n",
       "      <td>3</td>\n",
       "    </tr>\n",
       "    <tr>\n",
       "      <th>Matabeleland South</th>\n",
       "      <td>3</td>\n",
       "      <td>3</td>\n",
       "      <td>3</td>\n",
       "      <td>3</td>\n",
       "      <td>3</td>\n",
       "      <td>3</td>\n",
       "      <td>1</td>\n",
       "      <td>3</td>\n",
       "      <td>3</td>\n",
       "    </tr>\n",
       "    <tr>\n",
       "      <th>Midlands</th>\n",
       "      <td>3</td>\n",
       "      <td>3</td>\n",
       "      <td>3</td>\n",
       "      <td>3</td>\n",
       "      <td>3</td>\n",
       "      <td>3</td>\n",
       "      <td>1</td>\n",
       "      <td>3</td>\n",
       "      <td>3</td>\n",
       "    </tr>\n",
       "  </tbody>\n",
       "</table>\n",
       "<p>4085 rows × 9 columns</p>\n",
       "</div>"
      ],
      "text/plain": [
       "                                city  city_ascii  lat  lng  iso2  iso3  \\\n",
       "country     admin_name                                                   \n",
       "Afghanistan Badakhshān             1           1    1    1     1     1   \n",
       "            Baghlān                2           2    2    2     2     2   \n",
       "            Balkh                  3           3    3    3     3     3   \n",
       "            Bādghīs                1           1    1    1     1     1   \n",
       "            Bāmyān                 1           1    1    1     1     1   \n",
       "...                              ...         ...  ...  ...   ...   ...   \n",
       "Zimbabwe    Mashonaland West       4           4    4    4     4     4   \n",
       "            Masvingo               3           3    3    3     3     3   \n",
       "            Matabeleland North     3           3    3    3     3     3   \n",
       "            Matabeleland South     3           3    3    3     3     3   \n",
       "            Midlands               3           3    3    3     3     3   \n",
       "\n",
       "                                capital  population  Wielkosc  \n",
       "country     admin_name                                         \n",
       "Afghanistan Badakhshān                1           1         1  \n",
       "            Baghlān                   2           2         2  \n",
       "            Balkh                     3           3         3  \n",
       "            Bādghīs                   1           1         1  \n",
       "            Bāmyān                    1           1         1  \n",
       "...                                 ...         ...       ...  \n",
       "Zimbabwe    Mashonaland West          1           4         4  \n",
       "            Masvingo                  1           3         3  \n",
       "            Matabeleland North        1           2         3  \n",
       "            Matabeleland South        1           3         3  \n",
       "            Midlands                  1           3         3  \n",
       "\n",
       "[4085 rows x 9 columns]"
      ]
     },
     "execution_count": 126,
     "metadata": {},
     "output_type": "execute_result"
    }
   ],
   "source": [
    "y=dane.groupby(['country','admin_name']).count()\n",
    "y"
   ]
  },
  {
   "cell_type": "code",
   "execution_count": 130,
   "metadata": {},
   "outputs": [
    {
     "data": {
      "text/html": [
       "<div>\n",
       "<style scoped>\n",
       "    .dataframe tbody tr th:only-of-type {\n",
       "        vertical-align: middle;\n",
       "    }\n",
       "\n",
       "    .dataframe tbody tr th {\n",
       "        vertical-align: top;\n",
       "    }\n",
       "\n",
       "    .dataframe thead th {\n",
       "        text-align: right;\n",
       "    }\n",
       "</style>\n",
       "<table border=\"1\" class=\"dataframe\">\n",
       "  <thead>\n",
       "    <tr style=\"text-align: right;\">\n",
       "      <th></th>\n",
       "      <th></th>\n",
       "      <th>city</th>\n",
       "      <th>city_ascii</th>\n",
       "      <th>lat</th>\n",
       "      <th>lng</th>\n",
       "      <th>iso2</th>\n",
       "      <th>iso3</th>\n",
       "      <th>capital</th>\n",
       "      <th>population</th>\n",
       "      <th>Wielkosc</th>\n",
       "    </tr>\n",
       "    <tr>\n",
       "      <th>country</th>\n",
       "      <th>admin_name</th>\n",
       "      <th></th>\n",
       "      <th></th>\n",
       "      <th></th>\n",
       "      <th></th>\n",
       "      <th></th>\n",
       "      <th></th>\n",
       "      <th></th>\n",
       "      <th></th>\n",
       "      <th></th>\n",
       "    </tr>\n",
       "  </thead>\n",
       "  <tbody>\n",
       "    <tr>\n",
       "      <th rowspan=\"10\" valign=\"top\">Zimbabwe</th>\n",
       "      <th>Midlands</th>\n",
       "      <td>3</td>\n",
       "      <td>3</td>\n",
       "      <td>3</td>\n",
       "      <td>3</td>\n",
       "      <td>3</td>\n",
       "      <td>3</td>\n",
       "      <td>1</td>\n",
       "      <td>3</td>\n",
       "      <td>3</td>\n",
       "    </tr>\n",
       "    <tr>\n",
       "      <th>Matabeleland South</th>\n",
       "      <td>3</td>\n",
       "      <td>3</td>\n",
       "      <td>3</td>\n",
       "      <td>3</td>\n",
       "      <td>3</td>\n",
       "      <td>3</td>\n",
       "      <td>1</td>\n",
       "      <td>3</td>\n",
       "      <td>3</td>\n",
       "    </tr>\n",
       "    <tr>\n",
       "      <th>Matabeleland North</th>\n",
       "      <td>3</td>\n",
       "      <td>3</td>\n",
       "      <td>3</td>\n",
       "      <td>3</td>\n",
       "      <td>3</td>\n",
       "      <td>3</td>\n",
       "      <td>1</td>\n",
       "      <td>2</td>\n",
       "      <td>3</td>\n",
       "    </tr>\n",
       "    <tr>\n",
       "      <th>Masvingo</th>\n",
       "      <td>3</td>\n",
       "      <td>3</td>\n",
       "      <td>3</td>\n",
       "      <td>3</td>\n",
       "      <td>3</td>\n",
       "      <td>3</td>\n",
       "      <td>1</td>\n",
       "      <td>3</td>\n",
       "      <td>3</td>\n",
       "    </tr>\n",
       "    <tr>\n",
       "      <th>Mashonaland West</th>\n",
       "      <td>4</td>\n",
       "      <td>4</td>\n",
       "      <td>4</td>\n",
       "      <td>4</td>\n",
       "      <td>4</td>\n",
       "      <td>4</td>\n",
       "      <td>1</td>\n",
       "      <td>4</td>\n",
       "      <td>4</td>\n",
       "    </tr>\n",
       "    <tr>\n",
       "      <th>Mashonaland East</th>\n",
       "      <td>3</td>\n",
       "      <td>3</td>\n",
       "      <td>3</td>\n",
       "      <td>3</td>\n",
       "      <td>3</td>\n",
       "      <td>3</td>\n",
       "      <td>1</td>\n",
       "      <td>3</td>\n",
       "      <td>3</td>\n",
       "    </tr>\n",
       "    <tr>\n",
       "      <th>Mashonaland Central</th>\n",
       "      <td>3</td>\n",
       "      <td>3</td>\n",
       "      <td>3</td>\n",
       "      <td>3</td>\n",
       "      <td>3</td>\n",
       "      <td>3</td>\n",
       "      <td>1</td>\n",
       "      <td>3</td>\n",
       "      <td>3</td>\n",
       "    </tr>\n",
       "    <tr>\n",
       "      <th>Manicaland</th>\n",
       "      <td>1</td>\n",
       "      <td>1</td>\n",
       "      <td>1</td>\n",
       "      <td>1</td>\n",
       "      <td>1</td>\n",
       "      <td>1</td>\n",
       "      <td>1</td>\n",
       "      <td>1</td>\n",
       "      <td>1</td>\n",
       "    </tr>\n",
       "    <tr>\n",
       "      <th>Harare</th>\n",
       "      <td>2</td>\n",
       "      <td>2</td>\n",
       "      <td>2</td>\n",
       "      <td>2</td>\n",
       "      <td>2</td>\n",
       "      <td>2</td>\n",
       "      <td>1</td>\n",
       "      <td>2</td>\n",
       "      <td>2</td>\n",
       "    </tr>\n",
       "    <tr>\n",
       "      <th>Bulawayo</th>\n",
       "      <td>1</td>\n",
       "      <td>1</td>\n",
       "      <td>1</td>\n",
       "      <td>1</td>\n",
       "      <td>1</td>\n",
       "      <td>1</td>\n",
       "      <td>1</td>\n",
       "      <td>1</td>\n",
       "      <td>1</td>\n",
       "    </tr>\n",
       "    <tr>\n",
       "      <th rowspan=\"10\" valign=\"top\">Zambia</th>\n",
       "      <th>Western</th>\n",
       "      <td>6</td>\n",
       "      <td>6</td>\n",
       "      <td>6</td>\n",
       "      <td>6</td>\n",
       "      <td>6</td>\n",
       "      <td>6</td>\n",
       "      <td>1</td>\n",
       "      <td>6</td>\n",
       "      <td>6</td>\n",
       "    </tr>\n",
       "    <tr>\n",
       "      <th>Southern</th>\n",
       "      <td>3</td>\n",
       "      <td>3</td>\n",
       "      <td>3</td>\n",
       "      <td>3</td>\n",
       "      <td>3</td>\n",
       "      <td>3</td>\n",
       "      <td>1</td>\n",
       "      <td>3</td>\n",
       "      <td>3</td>\n",
       "    </tr>\n",
       "    <tr>\n",
       "      <th>Northern</th>\n",
       "      <td>2</td>\n",
       "      <td>2</td>\n",
       "      <td>2</td>\n",
       "      <td>2</td>\n",
       "      <td>2</td>\n",
       "      <td>2</td>\n",
       "      <td>1</td>\n",
       "      <td>2</td>\n",
       "      <td>2</td>\n",
       "    </tr>\n",
       "    <tr>\n",
       "      <th>North-Western</th>\n",
       "      <td>4</td>\n",
       "      <td>4</td>\n",
       "      <td>4</td>\n",
       "      <td>4</td>\n",
       "      <td>4</td>\n",
       "      <td>4</td>\n",
       "      <td>1</td>\n",
       "      <td>4</td>\n",
       "      <td>4</td>\n",
       "    </tr>\n",
       "    <tr>\n",
       "      <th>Muchinga</th>\n",
       "      <td>2</td>\n",
       "      <td>2</td>\n",
       "      <td>2</td>\n",
       "      <td>2</td>\n",
       "      <td>2</td>\n",
       "      <td>2</td>\n",
       "      <td>1</td>\n",
       "      <td>2</td>\n",
       "      <td>2</td>\n",
       "    </tr>\n",
       "    <tr>\n",
       "      <th>Lusaka</th>\n",
       "      <td>2</td>\n",
       "      <td>2</td>\n",
       "      <td>2</td>\n",
       "      <td>2</td>\n",
       "      <td>2</td>\n",
       "      <td>2</td>\n",
       "      <td>1</td>\n",
       "      <td>2</td>\n",
       "      <td>2</td>\n",
       "    </tr>\n",
       "    <tr>\n",
       "      <th>Luapula</th>\n",
       "      <td>4</td>\n",
       "      <td>4</td>\n",
       "      <td>4</td>\n",
       "      <td>4</td>\n",
       "      <td>4</td>\n",
       "      <td>4</td>\n",
       "      <td>1</td>\n",
       "      <td>4</td>\n",
       "      <td>4</td>\n",
       "    </tr>\n",
       "    <tr>\n",
       "      <th>Eastern</th>\n",
       "      <td>3</td>\n",
       "      <td>3</td>\n",
       "      <td>3</td>\n",
       "      <td>3</td>\n",
       "      <td>3</td>\n",
       "      <td>3</td>\n",
       "      <td>1</td>\n",
       "      <td>3</td>\n",
       "      <td>3</td>\n",
       "    </tr>\n",
       "    <tr>\n",
       "      <th>Copperbelt</th>\n",
       "      <td>6</td>\n",
       "      <td>6</td>\n",
       "      <td>6</td>\n",
       "      <td>6</td>\n",
       "      <td>6</td>\n",
       "      <td>6</td>\n",
       "      <td>1</td>\n",
       "      <td>6</td>\n",
       "      <td>6</td>\n",
       "    </tr>\n",
       "    <tr>\n",
       "      <th>Central</th>\n",
       "      <td>3</td>\n",
       "      <td>3</td>\n",
       "      <td>3</td>\n",
       "      <td>3</td>\n",
       "      <td>3</td>\n",
       "      <td>3</td>\n",
       "      <td>1</td>\n",
       "      <td>3</td>\n",
       "      <td>3</td>\n",
       "    </tr>\n",
       "  </tbody>\n",
       "</table>\n",
       "</div>"
      ],
      "text/plain": [
       "                              city  city_ascii  lat  lng  iso2  iso3  capital  \\\n",
       "country  admin_name                                                             \n",
       "Zimbabwe Midlands                3           3    3    3     3     3        1   \n",
       "         Matabeleland South      3           3    3    3     3     3        1   \n",
       "         Matabeleland North      3           3    3    3     3     3        1   \n",
       "         Masvingo                3           3    3    3     3     3        1   \n",
       "         Mashonaland West        4           4    4    4     4     4        1   \n",
       "         Mashonaland East        3           3    3    3     3     3        1   \n",
       "         Mashonaland Central     3           3    3    3     3     3        1   \n",
       "         Manicaland              1           1    1    1     1     1        1   \n",
       "         Harare                  2           2    2    2     2     2        1   \n",
       "         Bulawayo                1           1    1    1     1     1        1   \n",
       "Zambia   Western                 6           6    6    6     6     6        1   \n",
       "         Southern                3           3    3    3     3     3        1   \n",
       "         Northern                2           2    2    2     2     2        1   \n",
       "         North-Western           4           4    4    4     4     4        1   \n",
       "         Muchinga                2           2    2    2     2     2        1   \n",
       "         Lusaka                  2           2    2    2     2     2        1   \n",
       "         Luapula                 4           4    4    4     4     4        1   \n",
       "         Eastern                 3           3    3    3     3     3        1   \n",
       "         Copperbelt              6           6    6    6     6     6        1   \n",
       "         Central                 3           3    3    3     3     3        1   \n",
       "\n",
       "                              population  Wielkosc  \n",
       "country  admin_name                                 \n",
       "Zimbabwe Midlands                      3         3  \n",
       "         Matabeleland South            3         3  \n",
       "         Matabeleland North            2         3  \n",
       "         Masvingo                      3         3  \n",
       "         Mashonaland West              4         4  \n",
       "         Mashonaland East              3         3  \n",
       "         Mashonaland Central           3         3  \n",
       "         Manicaland                    1         1  \n",
       "         Harare                        2         2  \n",
       "         Bulawayo                      1         1  \n",
       "Zambia   Western                       6         6  \n",
       "         Southern                      3         3  \n",
       "         Northern                      2         2  \n",
       "         North-Western                 4         4  \n",
       "         Muchinga                      2         2  \n",
       "         Lusaka                        2         2  \n",
       "         Luapula                       4         4  \n",
       "         Eastern                       3         3  \n",
       "         Copperbelt                    6         6  \n",
       "         Central                       3         3  "
      ]
     },
     "execution_count": 130,
     "metadata": {},
     "output_type": "execute_result"
    }
   ],
   "source": [
    "y.sort_index(ascending=False).head(20)"
   ]
  },
  {
   "cell_type": "markdown",
   "metadata": {
    "id": "YY4nVjUtM6sG"
   },
   "source": [
    "Pogrupowane dane mają nowy index (może być dwuwymiarowy). Z pogrupowanych danych możemy zrobić **tabelę przestawną** za pomocą metody `.unstack()`"
   ]
  },
  {
   "cell_type": "markdown",
   "metadata": {
    "id": "dbwz0MA2LfoV"
   },
   "source": [
    "### Agregacja agg\n",
    "Agreguje wszystkie dane obliczając wartość określonej funkcji na kolumnie. Argumentem jest słownik postaci `nazwa_kolumny:[lista_funkcji]`"
   ]
  },
  {
   "cell_type": "code",
   "execution_count": 133,
   "metadata": {
    "colab": {
     "base_uri": "https://localhost:8080/",
     "height": 143
    },
    "executionInfo": {
     "elapsed": 92,
     "status": "ok",
     "timestamp": 1652263689656,
     "user": {
      "displayName": "Daniel Strzelecki",
      "userId": "04998061441867974797"
     },
     "user_tz": -120
    },
    "id": "_GfUXnDhKXp-",
    "outputId": "fad1f13e-c293-444c-d5dc-1d1a6fa58eb9"
   },
   "outputs": [
    {
     "data": {
      "text/html": [
       "<div>\n",
       "<style scoped>\n",
       "    .dataframe tbody tr th:only-of-type {\n",
       "        vertical-align: middle;\n",
       "    }\n",
       "\n",
       "    .dataframe tbody tr th {\n",
       "        vertical-align: top;\n",
       "    }\n",
       "\n",
       "    .dataframe thead th {\n",
       "        text-align: right;\n",
       "    }\n",
       "</style>\n",
       "<table border=\"1\" class=\"dataframe\">\n",
       "  <thead>\n",
       "    <tr style=\"text-align: right;\">\n",
       "      <th></th>\n",
       "      <th>population</th>\n",
       "      <th>lat</th>\n",
       "    </tr>\n",
       "  </thead>\n",
       "  <tbody>\n",
       "    <tr>\n",
       "      <th>min</th>\n",
       "      <td>0.000000e+00</td>\n",
       "      <td>-54.9341</td>\n",
       "    </tr>\n",
       "    <tr>\n",
       "      <th>max</th>\n",
       "      <td>3.797700e+07</td>\n",
       "      <td>81.7166</td>\n",
       "    </tr>\n",
       "    <tr>\n",
       "      <th>sum</th>\n",
       "      <td>4.155401e+09</td>\n",
       "      <td>NaN</td>\n",
       "    </tr>\n",
       "  </tbody>\n",
       "</table>\n",
       "</div>"
      ],
      "text/plain": [
       "       population      lat\n",
       "min  0.000000e+00 -54.9341\n",
       "max  3.797700e+07  81.7166\n",
       "sum  4.155401e+09      NaN"
      ]
     },
     "execution_count": 133,
     "metadata": {},
     "output_type": "execute_result"
    }
   ],
   "source": [
    "dane.agg({'population':['min','max','sum'],'lat':['min','max']})"
   ]
  },
  {
   "cell_type": "markdown",
   "metadata": {},
   "source": [
    "### Zadanie 2\n",
    "Wczytaj dane z pliku `zad9.2_miasta_Europy.csv`\n",
    "* zorientuj się co znajduje się w tych danych, jakie są typy danych\n",
    "* zmień (na stałe, nie jako podgląd!) nazwę kolumn, żeby nie zawierały polskich liter\n",
    "* usuń niepotrzebe spacje z nazw państw (podpowiedź: metoda `String.strip`)\n",
    "* stwórz kolumnę z numerycznymi wartościami populacji (podpowiedź: usuwanie przecinków: `String.replace()`)\n",
    "* ustaw jako indeks kolumnę `Miasto`\n",
    "* usuń kolumnę `Pozycja'\n",
    "* *wyświetl* dane posortowane malejąco według nazwy państwa\n",
    "* wskaż ile w tych danych jest miast z poszczególnych państw\n",
    "* utwórz nową ramkę danych zawierającą liczbę mieszkańców poszczególnych państw (z posiadanych danych)\n",
    "* zaprezentuj uzyskane przed chwilą dane na wykresie sortując uprzednio dane"
   ]
  },
  {
   "cell_type": "code",
   "execution_count": null,
   "metadata": {},
   "outputs": [],
   "source": []
  },
  {
   "cell_type": "markdown",
   "metadata": {},
   "source": [
    "### Zapisywanie wyników do pliku\n",
    "\n",
    "* `DataFrame.to_excel()`\n",
    "* `DataFrame.to_csv()`\n",
    "* `DataFrame.to_json()`\n",
    "\n",
    "* `DataFrame.to_clipboard()` - kopiuje do schowka\n",
    "\n",
    "W argumentarch określamy zachowanie indeksu, nagłówków itp. itd."
   ]
  },
  {
   "cell_type": "code",
   "execution_count": 181,
   "metadata": {},
   "outputs": [],
   "source": [
    "df_kraje.sort_values([\"Populacja\"]).to_excel('sortowane_miasta.xlsx',header=False,index=False)"
   ]
  },
  {
   "cell_type": "markdown",
   "metadata": {
    "id": "XjJ_O1vuSNyJ"
   },
   "source": [
    "# Zadanie domowe\n",
    "\n",
    "* (1p)  Wczytaj plik https://raw.githubusercontent.com/dshahid380/Data-analysis-with-pandas/master/datasets/weather.csv\n",
    "\n",
    "* (1p) określ ile jest rekordów (wierszy) w DataFrame\n",
    "* (3p) określ w których kolumnach występują brakujące wartości; uzupełnij je rozsądnie (np. zależnie od typu)\n",
    "* (2p) usuń kolumny: temperatura odczuwalna (apparent temperature), kierunek wiatru (wind bearing) i dzienne podsumowanie (daily summary)\n",
    "* (3p) stwórz kolumnę `data`, gdzie będzie sama data w formacie `yyyy-mm-dd`, a następnie kolumny `rok` i `miesiac` zawierające *liczby* określające rok i miesiąc danego rekordu\n",
    "\n",
    "* (4p) oblicz *średnie* dzienne wszystich liczbowych danych, umieść je w nowej ramce danych oraz zapisz je do pliku .xlsx\n",
    "* (4p) narysuj na jednym wykresie maksymalne i minimalne temperatury dzienne w maju 2010\n",
    "* (4p) narysuj wykres słupkowy liczby dni ze średnią wilgotnością poniżej 60% w poszczególnych latach. Opisz go odpowiednio, żeby mógł służyć jako samodzielna prezentacja danych.\n",
    "\n",
    "**Do zdobycia 22 punkty.**\n",
    "\n",
    "\n"
   ]
  },
  {
   "cell_type": "code",
   "execution_count": null,
   "metadata": {},
   "outputs": [],
   "source": []
  },
  {
   "cell_type": "markdown",
   "metadata": {
    "id": "wuEqDXGQ3ZUc"
   },
   "source": [
    "# Łączenie danych\n",
    "\n",
    "* ```concat``` - standardowa konkatenacja. Pytanie: jak uporządkować dane tzn. co z indeksem?\n",
    "* ```merge```\n",
    "* ```join```"
   ]
  },
  {
   "cell_type": "code",
   "execution_count": 275,
   "metadata": {
    "colab": {
     "base_uri": "https://localhost:8080/",
     "height": 206
    },
    "executionInfo": {
     "elapsed": 1535,
     "status": "ok",
     "timestamp": 1656326237778,
     "user": {
      "displayName": "Daniel Strzelecki",
      "userId": "04998061441867974797"
     },
     "user_tz": -120
    },
    "id": "1_XrccOOxU6U",
    "outputId": "0de46a81-ef98-4cb6-c05f-65bdf8cbf31e"
   },
   "outputs": [],
   "source": [
    "dane2=pd.read_csv('https://analityk.edu.pl/wp-content/uploads/2020/12/worldcities.csv')\n",
    "daneJapan=dane2[dane2.country=='Japan'][:5]\n",
    "danePolska=dane2[dane2.country=='Poland'][:5]\n",
    "dane_country=dane2[['country','iso3']][:5]\n",
    "dane_ludnosc=dane2[['city','country','population']][:5]"
   ]
  },
  {
   "cell_type": "markdown",
   "metadata": {},
   "source": [
    "#### Dokładanie nowych rekordów"
   ]
  },
  {
   "cell_type": "code",
   "execution_count": 232,
   "metadata": {
    "colab": {
     "base_uri": "https://localhost:8080/",
     "height": 424
    },
    "executionInfo": {
     "elapsed": 15,
     "status": "ok",
     "timestamp": 1656326245837,
     "user": {
      "displayName": "Daniel Strzelecki",
      "userId": "04998061441867974797"
     },
     "user_tz": -120
    },
    "id": "BSJlOPXEyZVC",
    "outputId": "9848bd6c-58d1-4ae1-d713-e13837d548c8"
   },
   "outputs": [
    {
     "data": {
      "text/html": [
       "<div>\n",
       "<style scoped>\n",
       "    .dataframe tbody tr th:only-of-type {\n",
       "        vertical-align: middle;\n",
       "    }\n",
       "\n",
       "    .dataframe tbody tr th {\n",
       "        vertical-align: top;\n",
       "    }\n",
       "\n",
       "    .dataframe thead th {\n",
       "        text-align: right;\n",
       "    }\n",
       "</style>\n",
       "<table border=\"1\" class=\"dataframe\">\n",
       "  <thead>\n",
       "    <tr style=\"text-align: right;\">\n",
       "      <th></th>\n",
       "      <th>city</th>\n",
       "      <th>city_ascii</th>\n",
       "      <th>lat</th>\n",
       "      <th>lng</th>\n",
       "      <th>country</th>\n",
       "      <th>iso2</th>\n",
       "      <th>iso3</th>\n",
       "      <th>admin_name</th>\n",
       "      <th>capital</th>\n",
       "      <th>population</th>\n",
       "      <th>id</th>\n",
       "    </tr>\n",
       "  </thead>\n",
       "  <tbody>\n",
       "    <tr>\n",
       "      <th>0</th>\n",
       "      <td>Tokyo</td>\n",
       "      <td>Tokyo</td>\n",
       "      <td>35.6897</td>\n",
       "      <td>139.6922</td>\n",
       "      <td>Japan</td>\n",
       "      <td>JP</td>\n",
       "      <td>JPN</td>\n",
       "      <td>Tōkyō</td>\n",
       "      <td>primary</td>\n",
       "      <td>37977000.0</td>\n",
       "      <td>1392685764</td>\n",
       "    </tr>\n",
       "    <tr>\n",
       "      <th>21</th>\n",
       "      <td>Ōsaka</td>\n",
       "      <td>Osaka</td>\n",
       "      <td>34.6936</td>\n",
       "      <td>135.5019</td>\n",
       "      <td>Japan</td>\n",
       "      <td>JP</td>\n",
       "      <td>JPN</td>\n",
       "      <td>Ōsaka</td>\n",
       "      <td>admin</td>\n",
       "      <td>14977000.0</td>\n",
       "      <td>1392419823</td>\n",
       "    </tr>\n",
       "    <tr>\n",
       "      <th>44</th>\n",
       "      <td>Nagoya</td>\n",
       "      <td>Nagoya</td>\n",
       "      <td>35.1167</td>\n",
       "      <td>136.9333</td>\n",
       "      <td>Japan</td>\n",
       "      <td>JP</td>\n",
       "      <td>JPN</td>\n",
       "      <td>Aichi</td>\n",
       "      <td>admin</td>\n",
       "      <td>9113000.0</td>\n",
       "      <td>1392407472</td>\n",
       "    </tr>\n",
       "    <tr>\n",
       "      <th>209</th>\n",
       "      <td>Yokohama</td>\n",
       "      <td>Yokohama</td>\n",
       "      <td>35.4333</td>\n",
       "      <td>139.6333</td>\n",
       "      <td>Japan</td>\n",
       "      <td>JP</td>\n",
       "      <td>JPN</td>\n",
       "      <td>Kanagawa</td>\n",
       "      <td>admin</td>\n",
       "      <td>3748781.0</td>\n",
       "      <td>1392118339</td>\n",
       "    </tr>\n",
       "    <tr>\n",
       "      <th>364</th>\n",
       "      <td>Fukuoka</td>\n",
       "      <td>Fukuoka</td>\n",
       "      <td>33.5903</td>\n",
       "      <td>130.4019</td>\n",
       "      <td>Japan</td>\n",
       "      <td>JP</td>\n",
       "      <td>JPN</td>\n",
       "      <td>Fukuoka</td>\n",
       "      <td>admin</td>\n",
       "      <td>2128000.0</td>\n",
       "      <td>1392576294</td>\n",
       "    </tr>\n",
       "    <tr>\n",
       "      <th>422</th>\n",
       "      <td>Warsaw</td>\n",
       "      <td>Warsaw</td>\n",
       "      <td>52.2167</td>\n",
       "      <td>21.0333</td>\n",
       "      <td>Poland</td>\n",
       "      <td>PL</td>\n",
       "      <td>POL</td>\n",
       "      <td>Mazowieckie</td>\n",
       "      <td>primary</td>\n",
       "      <td>1790658.0</td>\n",
       "      <td>1616024847</td>\n",
       "    </tr>\n",
       "    <tr>\n",
       "      <th>984</th>\n",
       "      <td>Kraków</td>\n",
       "      <td>Krakow</td>\n",
       "      <td>50.0614</td>\n",
       "      <td>19.9372</td>\n",
       "      <td>Poland</td>\n",
       "      <td>PL</td>\n",
       "      <td>POL</td>\n",
       "      <td>Małopolskie</td>\n",
       "      <td>admin</td>\n",
       "      <td>766739.0</td>\n",
       "      <td>1616172264</td>\n",
       "    </tr>\n",
       "    <tr>\n",
       "      <th>1064</th>\n",
       "      <td>Łódź</td>\n",
       "      <td>Lodz</td>\n",
       "      <td>51.7769</td>\n",
       "      <td>19.4547</td>\n",
       "      <td>Poland</td>\n",
       "      <td>PL</td>\n",
       "      <td>POL</td>\n",
       "      <td>Łódzkie</td>\n",
       "      <td>admin</td>\n",
       "      <td>690422.0</td>\n",
       "      <td>1616832750</td>\n",
       "    </tr>\n",
       "    <tr>\n",
       "      <th>1138</th>\n",
       "      <td>Wrocław</td>\n",
       "      <td>Wroclaw</td>\n",
       "      <td>51.1077</td>\n",
       "      <td>17.0353</td>\n",
       "      <td>Poland</td>\n",
       "      <td>PL</td>\n",
       "      <td>POL</td>\n",
       "      <td>Dolnośląskie</td>\n",
       "      <td>admin</td>\n",
       "      <td>638586.0</td>\n",
       "      <td>1616108520</td>\n",
       "    </tr>\n",
       "    <tr>\n",
       "      <th>1287</th>\n",
       "      <td>Poznań</td>\n",
       "      <td>Poznan</td>\n",
       "      <td>52.4000</td>\n",
       "      <td>16.9167</td>\n",
       "      <td>Poland</td>\n",
       "      <td>PL</td>\n",
       "      <td>POL</td>\n",
       "      <td>Wielkopolskie</td>\n",
       "      <td>admin</td>\n",
       "      <td>538633.0</td>\n",
       "      <td>1616725607</td>\n",
       "    </tr>\n",
       "  </tbody>\n",
       "</table>\n",
       "</div>"
      ],
      "text/plain": [
       "          city city_ascii      lat       lng country iso2 iso3     admin_name  \\\n",
       "0        Tokyo      Tokyo  35.6897  139.6922   Japan   JP  JPN          Tōkyō   \n",
       "21       Ōsaka      Osaka  34.6936  135.5019   Japan   JP  JPN          Ōsaka   \n",
       "44      Nagoya     Nagoya  35.1167  136.9333   Japan   JP  JPN          Aichi   \n",
       "209   Yokohama   Yokohama  35.4333  139.6333   Japan   JP  JPN       Kanagawa   \n",
       "364    Fukuoka    Fukuoka  33.5903  130.4019   Japan   JP  JPN        Fukuoka   \n",
       "422     Warsaw     Warsaw  52.2167   21.0333  Poland   PL  POL    Mazowieckie   \n",
       "984     Kraków     Krakow  50.0614   19.9372  Poland   PL  POL    Małopolskie   \n",
       "1064      Łódź       Lodz  51.7769   19.4547  Poland   PL  POL        Łódzkie   \n",
       "1138   Wrocław    Wroclaw  51.1077   17.0353  Poland   PL  POL   Dolnośląskie   \n",
       "1287    Poznań     Poznan  52.4000   16.9167  Poland   PL  POL  Wielkopolskie   \n",
       "\n",
       "      capital  population          id  \n",
       "0     primary  37977000.0  1392685764  \n",
       "21      admin  14977000.0  1392419823  \n",
       "44      admin   9113000.0  1392407472  \n",
       "209     admin   3748781.0  1392118339  \n",
       "364     admin   2128000.0  1392576294  \n",
       "422   primary   1790658.0  1616024847  \n",
       "984     admin    766739.0  1616172264  \n",
       "1064    admin    690422.0  1616832750  \n",
       "1138    admin    638586.0  1616108520  \n",
       "1287    admin    538633.0  1616725607  "
      ]
     },
     "execution_count": 232,
     "metadata": {},
     "output_type": "execute_result"
    }
   ],
   "source": [
    "pd.concat([daneJapan,danePolska]) #dane miały unikalne indeksy"
   ]
  },
  {
   "cell_type": "code",
   "execution_count": 240,
   "metadata": {
    "executionInfo": {
     "elapsed": 276,
     "status": "ok",
     "timestamp": 1656326252330,
     "user": {
      "displayName": "Daniel Strzelecki",
      "userId": "04998061441867974797"
     },
     "user_tz": -120
    },
    "id": "ziS48ehDyoCV"
   },
   "outputs": [
    {
     "data": {
      "text/html": [
       "<div>\n",
       "<style scoped>\n",
       "    .dataframe tbody tr th:only-of-type {\n",
       "        vertical-align: middle;\n",
       "    }\n",
       "\n",
       "    .dataframe tbody tr th {\n",
       "        vertical-align: top;\n",
       "    }\n",
       "\n",
       "    .dataframe thead th {\n",
       "        text-align: right;\n",
       "    }\n",
       "</style>\n",
       "<table border=\"1\" class=\"dataframe\">\n",
       "  <thead>\n",
       "    <tr style=\"text-align: right;\">\n",
       "      <th></th>\n",
       "      <th>index</th>\n",
       "      <th>city</th>\n",
       "      <th>city_ascii</th>\n",
       "      <th>lat</th>\n",
       "      <th>lng</th>\n",
       "      <th>country</th>\n",
       "      <th>iso2</th>\n",
       "      <th>iso3</th>\n",
       "      <th>admin_name</th>\n",
       "      <th>capital</th>\n",
       "      <th>population</th>\n",
       "      <th>id</th>\n",
       "    </tr>\n",
       "  </thead>\n",
       "  <tbody>\n",
       "    <tr>\n",
       "      <th>0</th>\n",
       "      <td>0</td>\n",
       "      <td>Tokyo</td>\n",
       "      <td>Tokyo</td>\n",
       "      <td>35.6897</td>\n",
       "      <td>139.6922</td>\n",
       "      <td>Japan</td>\n",
       "      <td>JP</td>\n",
       "      <td>JPN</td>\n",
       "      <td>Tōkyō</td>\n",
       "      <td>primary</td>\n",
       "      <td>37977000.0</td>\n",
       "      <td>1392685764</td>\n",
       "    </tr>\n",
       "    <tr>\n",
       "      <th>1</th>\n",
       "      <td>21</td>\n",
       "      <td>Ōsaka</td>\n",
       "      <td>Osaka</td>\n",
       "      <td>34.6936</td>\n",
       "      <td>135.5019</td>\n",
       "      <td>Japan</td>\n",
       "      <td>JP</td>\n",
       "      <td>JPN</td>\n",
       "      <td>Ōsaka</td>\n",
       "      <td>admin</td>\n",
       "      <td>14977000.0</td>\n",
       "      <td>1392419823</td>\n",
       "    </tr>\n",
       "    <tr>\n",
       "      <th>2</th>\n",
       "      <td>44</td>\n",
       "      <td>Nagoya</td>\n",
       "      <td>Nagoya</td>\n",
       "      <td>35.1167</td>\n",
       "      <td>136.9333</td>\n",
       "      <td>Japan</td>\n",
       "      <td>JP</td>\n",
       "      <td>JPN</td>\n",
       "      <td>Aichi</td>\n",
       "      <td>admin</td>\n",
       "      <td>9113000.0</td>\n",
       "      <td>1392407472</td>\n",
       "    </tr>\n",
       "    <tr>\n",
       "      <th>3</th>\n",
       "      <td>209</td>\n",
       "      <td>Yokohama</td>\n",
       "      <td>Yokohama</td>\n",
       "      <td>35.4333</td>\n",
       "      <td>139.6333</td>\n",
       "      <td>Japan</td>\n",
       "      <td>JP</td>\n",
       "      <td>JPN</td>\n",
       "      <td>Kanagawa</td>\n",
       "      <td>admin</td>\n",
       "      <td>3748781.0</td>\n",
       "      <td>1392118339</td>\n",
       "    </tr>\n",
       "    <tr>\n",
       "      <th>4</th>\n",
       "      <td>364</td>\n",
       "      <td>Fukuoka</td>\n",
       "      <td>Fukuoka</td>\n",
       "      <td>33.5903</td>\n",
       "      <td>130.4019</td>\n",
       "      <td>Japan</td>\n",
       "      <td>JP</td>\n",
       "      <td>JPN</td>\n",
       "      <td>Fukuoka</td>\n",
       "      <td>admin</td>\n",
       "      <td>2128000.0</td>\n",
       "      <td>1392576294</td>\n",
       "    </tr>\n",
       "    <tr>\n",
       "      <th>0</th>\n",
       "      <td>422</td>\n",
       "      <td>Warsaw</td>\n",
       "      <td>Warsaw</td>\n",
       "      <td>52.2167</td>\n",
       "      <td>21.0333</td>\n",
       "      <td>Poland</td>\n",
       "      <td>PL</td>\n",
       "      <td>POL</td>\n",
       "      <td>Mazowieckie</td>\n",
       "      <td>primary</td>\n",
       "      <td>1790658.0</td>\n",
       "      <td>1616024847</td>\n",
       "    </tr>\n",
       "    <tr>\n",
       "      <th>1</th>\n",
       "      <td>984</td>\n",
       "      <td>Kraków</td>\n",
       "      <td>Krakow</td>\n",
       "      <td>50.0614</td>\n",
       "      <td>19.9372</td>\n",
       "      <td>Poland</td>\n",
       "      <td>PL</td>\n",
       "      <td>POL</td>\n",
       "      <td>Małopolskie</td>\n",
       "      <td>admin</td>\n",
       "      <td>766739.0</td>\n",
       "      <td>1616172264</td>\n",
       "    </tr>\n",
       "    <tr>\n",
       "      <th>2</th>\n",
       "      <td>1064</td>\n",
       "      <td>Łódź</td>\n",
       "      <td>Lodz</td>\n",
       "      <td>51.7769</td>\n",
       "      <td>19.4547</td>\n",
       "      <td>Poland</td>\n",
       "      <td>PL</td>\n",
       "      <td>POL</td>\n",
       "      <td>Łódzkie</td>\n",
       "      <td>admin</td>\n",
       "      <td>690422.0</td>\n",
       "      <td>1616832750</td>\n",
       "    </tr>\n",
       "    <tr>\n",
       "      <th>3</th>\n",
       "      <td>1138</td>\n",
       "      <td>Wrocław</td>\n",
       "      <td>Wroclaw</td>\n",
       "      <td>51.1077</td>\n",
       "      <td>17.0353</td>\n",
       "      <td>Poland</td>\n",
       "      <td>PL</td>\n",
       "      <td>POL</td>\n",
       "      <td>Dolnośląskie</td>\n",
       "      <td>admin</td>\n",
       "      <td>638586.0</td>\n",
       "      <td>1616108520</td>\n",
       "    </tr>\n",
       "    <tr>\n",
       "      <th>4</th>\n",
       "      <td>1287</td>\n",
       "      <td>Poznań</td>\n",
       "      <td>Poznan</td>\n",
       "      <td>52.4000</td>\n",
       "      <td>16.9167</td>\n",
       "      <td>Poland</td>\n",
       "      <td>PL</td>\n",
       "      <td>POL</td>\n",
       "      <td>Wielkopolskie</td>\n",
       "      <td>admin</td>\n",
       "      <td>538633.0</td>\n",
       "      <td>1616725607</td>\n",
       "    </tr>\n",
       "  </tbody>\n",
       "</table>\n",
       "</div>"
      ],
      "text/plain": [
       "   index      city city_ascii      lat       lng country iso2 iso3  \\\n",
       "0      0     Tokyo      Tokyo  35.6897  139.6922   Japan   JP  JPN   \n",
       "1     21     Ōsaka      Osaka  34.6936  135.5019   Japan   JP  JPN   \n",
       "2     44    Nagoya     Nagoya  35.1167  136.9333   Japan   JP  JPN   \n",
       "3    209  Yokohama   Yokohama  35.4333  139.6333   Japan   JP  JPN   \n",
       "4    364   Fukuoka    Fukuoka  33.5903  130.4019   Japan   JP  JPN   \n",
       "0    422    Warsaw     Warsaw  52.2167   21.0333  Poland   PL  POL   \n",
       "1    984    Kraków     Krakow  50.0614   19.9372  Poland   PL  POL   \n",
       "2   1064      Łódź       Lodz  51.7769   19.4547  Poland   PL  POL   \n",
       "3   1138   Wrocław    Wroclaw  51.1077   17.0353  Poland   PL  POL   \n",
       "4   1287    Poznań     Poznan  52.4000   16.9167  Poland   PL  POL   \n",
       "\n",
       "      admin_name  capital  population          id  \n",
       "0          Tōkyō  primary  37977000.0  1392685764  \n",
       "1          Ōsaka    admin  14977000.0  1392419823  \n",
       "2          Aichi    admin   9113000.0  1392407472  \n",
       "3       Kanagawa    admin   3748781.0  1392118339  \n",
       "4        Fukuoka    admin   2128000.0  1392576294  \n",
       "0    Mazowieckie  primary   1790658.0  1616024847  \n",
       "1    Małopolskie    admin    766739.0  1616172264  \n",
       "2        Łódzkie    admin    690422.0  1616832750  \n",
       "3   Dolnośląskie    admin    638586.0  1616108520  \n",
       "4  Wielkopolskie    admin    538633.0  1616725607  "
      ]
     },
     "execution_count": 240,
     "metadata": {},
     "output_type": "execute_result"
    }
   ],
   "source": [
    "# indeksy danych się pokrywają, bo tworzymy je na nowo\n",
    "Japan_ri=daneJapan.reset_index()\n",
    "Poland_ri=danePolska.reset_index()\n",
    "pd.concat([Japan_ri,Poland_ri])"
   ]
  },
  {
   "cell_type": "markdown",
   "metadata": {
    "id": "Afnoi5pz0Ykf"
   },
   "source": [
    "Kiedy dołożymy opcjonalne ```ignore_index=True``` indeks zostanie nadany od nowa."
   ]
  },
  {
   "cell_type": "code",
   "execution_count": 241,
   "metadata": {
    "colab": {
     "base_uri": "https://localhost:8080/",
     "height": 112
    },
    "executionInfo": {
     "elapsed": 275,
     "status": "ok",
     "timestamp": 1656326263408,
     "user": {
      "displayName": "Daniel Strzelecki",
      "userId": "04998061441867974797"
     },
     "user_tz": -120
    },
    "id": "8l2c6F0Py2Oe",
    "outputId": "82f4b5ba-2995-4bfc-d044-577f6e763a48"
   },
   "outputs": [
    {
     "data": {
      "text/html": [
       "<div>\n",
       "<style scoped>\n",
       "    .dataframe tbody tr th:only-of-type {\n",
       "        vertical-align: middle;\n",
       "    }\n",
       "\n",
       "    .dataframe tbody tr th {\n",
       "        vertical-align: top;\n",
       "    }\n",
       "\n",
       "    .dataframe thead th {\n",
       "        text-align: right;\n",
       "    }\n",
       "</style>\n",
       "<table border=\"1\" class=\"dataframe\">\n",
       "  <thead>\n",
       "    <tr style=\"text-align: right;\">\n",
       "      <th></th>\n",
       "      <th>index</th>\n",
       "      <th>city</th>\n",
       "      <th>city_ascii</th>\n",
       "      <th>lat</th>\n",
       "      <th>lng</th>\n",
       "      <th>country</th>\n",
       "      <th>iso2</th>\n",
       "      <th>iso3</th>\n",
       "      <th>admin_name</th>\n",
       "      <th>capital</th>\n",
       "      <th>population</th>\n",
       "      <th>id</th>\n",
       "    </tr>\n",
       "  </thead>\n",
       "  <tbody>\n",
       "    <tr>\n",
       "      <th>0</th>\n",
       "      <td>0</td>\n",
       "      <td>Tokyo</td>\n",
       "      <td>Tokyo</td>\n",
       "      <td>35.6897</td>\n",
       "      <td>139.6922</td>\n",
       "      <td>Japan</td>\n",
       "      <td>JP</td>\n",
       "      <td>JPN</td>\n",
       "      <td>Tōkyō</td>\n",
       "      <td>primary</td>\n",
       "      <td>37977000.0</td>\n",
       "      <td>1392685764</td>\n",
       "    </tr>\n",
       "    <tr>\n",
       "      <th>1</th>\n",
       "      <td>21</td>\n",
       "      <td>Ōsaka</td>\n",
       "      <td>Osaka</td>\n",
       "      <td>34.6936</td>\n",
       "      <td>135.5019</td>\n",
       "      <td>Japan</td>\n",
       "      <td>JP</td>\n",
       "      <td>JPN</td>\n",
       "      <td>Ōsaka</td>\n",
       "      <td>admin</td>\n",
       "      <td>14977000.0</td>\n",
       "      <td>1392419823</td>\n",
       "    </tr>\n",
       "    <tr>\n",
       "      <th>2</th>\n",
       "      <td>44</td>\n",
       "      <td>Nagoya</td>\n",
       "      <td>Nagoya</td>\n",
       "      <td>35.1167</td>\n",
       "      <td>136.9333</td>\n",
       "      <td>Japan</td>\n",
       "      <td>JP</td>\n",
       "      <td>JPN</td>\n",
       "      <td>Aichi</td>\n",
       "      <td>admin</td>\n",
       "      <td>9113000.0</td>\n",
       "      <td>1392407472</td>\n",
       "    </tr>\n",
       "    <tr>\n",
       "      <th>3</th>\n",
       "      <td>209</td>\n",
       "      <td>Yokohama</td>\n",
       "      <td>Yokohama</td>\n",
       "      <td>35.4333</td>\n",
       "      <td>139.6333</td>\n",
       "      <td>Japan</td>\n",
       "      <td>JP</td>\n",
       "      <td>JPN</td>\n",
       "      <td>Kanagawa</td>\n",
       "      <td>admin</td>\n",
       "      <td>3748781.0</td>\n",
       "      <td>1392118339</td>\n",
       "    </tr>\n",
       "    <tr>\n",
       "      <th>4</th>\n",
       "      <td>364</td>\n",
       "      <td>Fukuoka</td>\n",
       "      <td>Fukuoka</td>\n",
       "      <td>33.5903</td>\n",
       "      <td>130.4019</td>\n",
       "      <td>Japan</td>\n",
       "      <td>JP</td>\n",
       "      <td>JPN</td>\n",
       "      <td>Fukuoka</td>\n",
       "      <td>admin</td>\n",
       "      <td>2128000.0</td>\n",
       "      <td>1392576294</td>\n",
       "    </tr>\n",
       "    <tr>\n",
       "      <th>5</th>\n",
       "      <td>422</td>\n",
       "      <td>Warsaw</td>\n",
       "      <td>Warsaw</td>\n",
       "      <td>52.2167</td>\n",
       "      <td>21.0333</td>\n",
       "      <td>Poland</td>\n",
       "      <td>PL</td>\n",
       "      <td>POL</td>\n",
       "      <td>Mazowieckie</td>\n",
       "      <td>primary</td>\n",
       "      <td>1790658.0</td>\n",
       "      <td>1616024847</td>\n",
       "    </tr>\n",
       "    <tr>\n",
       "      <th>6</th>\n",
       "      <td>984</td>\n",
       "      <td>Kraków</td>\n",
       "      <td>Krakow</td>\n",
       "      <td>50.0614</td>\n",
       "      <td>19.9372</td>\n",
       "      <td>Poland</td>\n",
       "      <td>PL</td>\n",
       "      <td>POL</td>\n",
       "      <td>Małopolskie</td>\n",
       "      <td>admin</td>\n",
       "      <td>766739.0</td>\n",
       "      <td>1616172264</td>\n",
       "    </tr>\n",
       "    <tr>\n",
       "      <th>7</th>\n",
       "      <td>1064</td>\n",
       "      <td>Łódź</td>\n",
       "      <td>Lodz</td>\n",
       "      <td>51.7769</td>\n",
       "      <td>19.4547</td>\n",
       "      <td>Poland</td>\n",
       "      <td>PL</td>\n",
       "      <td>POL</td>\n",
       "      <td>Łódzkie</td>\n",
       "      <td>admin</td>\n",
       "      <td>690422.0</td>\n",
       "      <td>1616832750</td>\n",
       "    </tr>\n",
       "    <tr>\n",
       "      <th>8</th>\n",
       "      <td>1138</td>\n",
       "      <td>Wrocław</td>\n",
       "      <td>Wroclaw</td>\n",
       "      <td>51.1077</td>\n",
       "      <td>17.0353</td>\n",
       "      <td>Poland</td>\n",
       "      <td>PL</td>\n",
       "      <td>POL</td>\n",
       "      <td>Dolnośląskie</td>\n",
       "      <td>admin</td>\n",
       "      <td>638586.0</td>\n",
       "      <td>1616108520</td>\n",
       "    </tr>\n",
       "    <tr>\n",
       "      <th>9</th>\n",
       "      <td>1287</td>\n",
       "      <td>Poznań</td>\n",
       "      <td>Poznan</td>\n",
       "      <td>52.4000</td>\n",
       "      <td>16.9167</td>\n",
       "      <td>Poland</td>\n",
       "      <td>PL</td>\n",
       "      <td>POL</td>\n",
       "      <td>Wielkopolskie</td>\n",
       "      <td>admin</td>\n",
       "      <td>538633.0</td>\n",
       "      <td>1616725607</td>\n",
       "    </tr>\n",
       "  </tbody>\n",
       "</table>\n",
       "</div>"
      ],
      "text/plain": [
       "   index      city city_ascii      lat       lng country iso2 iso3  \\\n",
       "0      0     Tokyo      Tokyo  35.6897  139.6922   Japan   JP  JPN   \n",
       "1     21     Ōsaka      Osaka  34.6936  135.5019   Japan   JP  JPN   \n",
       "2     44    Nagoya     Nagoya  35.1167  136.9333   Japan   JP  JPN   \n",
       "3    209  Yokohama   Yokohama  35.4333  139.6333   Japan   JP  JPN   \n",
       "4    364   Fukuoka    Fukuoka  33.5903  130.4019   Japan   JP  JPN   \n",
       "5    422    Warsaw     Warsaw  52.2167   21.0333  Poland   PL  POL   \n",
       "6    984    Kraków     Krakow  50.0614   19.9372  Poland   PL  POL   \n",
       "7   1064      Łódź       Lodz  51.7769   19.4547  Poland   PL  POL   \n",
       "8   1138   Wrocław    Wroclaw  51.1077   17.0353  Poland   PL  POL   \n",
       "9   1287    Poznań     Poznan  52.4000   16.9167  Poland   PL  POL   \n",
       "\n",
       "      admin_name  capital  population          id  \n",
       "0          Tōkyō  primary  37977000.0  1392685764  \n",
       "1          Ōsaka    admin  14977000.0  1392419823  \n",
       "2          Aichi    admin   9113000.0  1392407472  \n",
       "3       Kanagawa    admin   3748781.0  1392118339  \n",
       "4        Fukuoka    admin   2128000.0  1392576294  \n",
       "5    Mazowieckie  primary   1790658.0  1616024847  \n",
       "6    Małopolskie    admin    766739.0  1616172264  \n",
       "7        Łódzkie    admin    690422.0  1616832750  \n",
       "8   Dolnośląskie    admin    638586.0  1616108520  \n",
       "9  Wielkopolskie    admin    538633.0  1616725607  "
      ]
     },
     "execution_count": 241,
     "metadata": {},
     "output_type": "execute_result"
    }
   ],
   "source": [
    "pd.concat([Japan_ri,Poland_ri],ignore_index=True)"
   ]
  },
  {
   "cell_type": "markdown",
   "metadata": {
    "id": "d29CXW_xrVBh"
   },
   "source": [
    "Kategoryzowanie łączonych danych o pokrywających się indeksach możemy dokonać wprowadzając `MultiIndex`.\n",
    "\n",
    "\n"
   ]
  },
  {
   "cell_type": "code",
   "execution_count": 244,
   "metadata": {
    "id": "6H4nSoaZrSfA"
   },
   "outputs": [],
   "source": [
    "df=pd.concat([Japan_ri,Poland_ri],keys=['Japonia','Polska'])"
   ]
  },
  {
   "cell_type": "code",
   "execution_count": 245,
   "metadata": {
    "colab": {
     "base_uri": "https://localhost:8080/"
    },
    "executionInfo": {
     "elapsed": 74,
     "status": "ok",
     "timestamp": 1652177676756,
     "user": {
      "displayName": "Daniel Strzelecki",
      "userId": "04998061441867974797"
     },
     "user_tz": -120
    },
    "id": "vZELIOkmsIBx",
    "outputId": "28005ddf-2305-4c4b-e766-88f10026d6dd"
   },
   "outputs": [
    {
     "data": {
      "text/plain": [
       "MultiIndex([('Japonia', 0),\n",
       "            ('Japonia', 1),\n",
       "            ('Japonia', 2),\n",
       "            ('Japonia', 3),\n",
       "            ('Japonia', 4),\n",
       "            ( 'Polska', 0),\n",
       "            ( 'Polska', 1),\n",
       "            ( 'Polska', 2),\n",
       "            ( 'Polska', 3),\n",
       "            ( 'Polska', 4)],\n",
       "           )"
      ]
     },
     "execution_count": 245,
     "metadata": {},
     "output_type": "execute_result"
    }
   ],
   "source": [
    "df.index"
   ]
  },
  {
   "cell_type": "markdown",
   "metadata": {
    "id": "InpiXblczrlW"
   },
   "source": [
    "#### Dołącznie nowych kolumn tych samych danych\n",
    "**Sposób prosty, ale naiwny**: korzystamy z funkcji `concat`, ale z dodanym argumentem `axis=1`. Dane łączą się według indeksów"
   ]
  },
  {
   "cell_type": "code",
   "execution_count": 249,
   "metadata": {
    "colab": {
     "base_uri": "https://localhost:8080/",
     "height": 206
    },
    "executionInfo": {
     "elapsed": 16,
     "status": "ok",
     "timestamp": 1652869887709,
     "user": {
      "displayName": "Daniel Strzelecki",
      "userId": "04998061441867974797"
     },
     "user_tz": -120
    },
    "id": "smEpLmNdgcUs",
    "outputId": "926003f6-b4f4-4ffb-9281-1b3d960e8cb7"
   },
   "outputs": [
    {
     "data": {
      "text/html": [
       "<div>\n",
       "<style scoped>\n",
       "    .dataframe tbody tr th:only-of-type {\n",
       "        vertical-align: middle;\n",
       "    }\n",
       "\n",
       "    .dataframe tbody tr th {\n",
       "        vertical-align: top;\n",
       "    }\n",
       "\n",
       "    .dataframe thead th {\n",
       "        text-align: right;\n",
       "    }\n",
       "</style>\n",
       "<table border=\"1\" class=\"dataframe\">\n",
       "  <thead>\n",
       "    <tr style=\"text-align: right;\">\n",
       "      <th></th>\n",
       "      <th>country</th>\n",
       "      <th>iso3</th>\n",
       "    </tr>\n",
       "  </thead>\n",
       "  <tbody>\n",
       "    <tr>\n",
       "      <th>0</th>\n",
       "      <td>Japan</td>\n",
       "      <td>JPN</td>\n",
       "    </tr>\n",
       "    <tr>\n",
       "      <th>1</th>\n",
       "      <td>Indonesia</td>\n",
       "      <td>IDN</td>\n",
       "    </tr>\n",
       "    <tr>\n",
       "      <th>2</th>\n",
       "      <td>India</td>\n",
       "      <td>IND</td>\n",
       "    </tr>\n",
       "    <tr>\n",
       "      <th>3</th>\n",
       "      <td>India</td>\n",
       "      <td>IND</td>\n",
       "    </tr>\n",
       "    <tr>\n",
       "      <th>4</th>\n",
       "      <td>Philippines</td>\n",
       "      <td>PHL</td>\n",
       "    </tr>\n",
       "  </tbody>\n",
       "</table>\n",
       "</div>"
      ],
      "text/plain": [
       "       country iso3\n",
       "0        Japan  JPN\n",
       "1    Indonesia  IDN\n",
       "2        India  IND\n",
       "3        India  IND\n",
       "4  Philippines  PHL"
      ]
     },
     "execution_count": 249,
     "metadata": {},
     "output_type": "execute_result"
    }
   ],
   "source": [
    "dane_country.head()"
   ]
  },
  {
   "cell_type": "code",
   "execution_count": 254,
   "metadata": {
    "colab": {
     "base_uri": "https://localhost:8080/"
    },
    "executionInfo": {
     "elapsed": 49,
     "status": "ok",
     "timestamp": 1652177676759,
     "user": {
      "displayName": "Daniel Strzelecki",
      "userId": "04998061441867974797"
     },
     "user_tz": -120
    },
    "id": "5hG-hnwcg7kW",
    "outputId": "886398c6-d676-4798-c9a0-b187362fe8a0"
   },
   "outputs": [
    {
     "data": {
      "text/html": [
       "<div>\n",
       "<style scoped>\n",
       "    .dataframe tbody tr th:only-of-type {\n",
       "        vertical-align: middle;\n",
       "    }\n",
       "\n",
       "    .dataframe tbody tr th {\n",
       "        vertical-align: top;\n",
       "    }\n",
       "\n",
       "    .dataframe thead th {\n",
       "        text-align: right;\n",
       "    }\n",
       "</style>\n",
       "<table border=\"1\" class=\"dataframe\">\n",
       "  <thead>\n",
       "    <tr style=\"text-align: right;\">\n",
       "      <th></th>\n",
       "      <th>city</th>\n",
       "      <th>country</th>\n",
       "      <th>population</th>\n",
       "    </tr>\n",
       "  </thead>\n",
       "  <tbody>\n",
       "    <tr>\n",
       "      <th>0</th>\n",
       "      <td>Tokyo</td>\n",
       "      <td>Japan</td>\n",
       "      <td>37977000.0</td>\n",
       "    </tr>\n",
       "    <tr>\n",
       "      <th>1</th>\n",
       "      <td>Jakarta</td>\n",
       "      <td>Indonesia</td>\n",
       "      <td>34540000.0</td>\n",
       "    </tr>\n",
       "    <tr>\n",
       "      <th>2</th>\n",
       "      <td>Delhi</td>\n",
       "      <td>India</td>\n",
       "      <td>29617000.0</td>\n",
       "    </tr>\n",
       "    <tr>\n",
       "      <th>3</th>\n",
       "      <td>Mumbai</td>\n",
       "      <td>India</td>\n",
       "      <td>23355000.0</td>\n",
       "    </tr>\n",
       "    <tr>\n",
       "      <th>4</th>\n",
       "      <td>Manila</td>\n",
       "      <td>Philippines</td>\n",
       "      <td>23088000.0</td>\n",
       "    </tr>\n",
       "  </tbody>\n",
       "</table>\n",
       "</div>"
      ],
      "text/plain": [
       "      city      country  population\n",
       "0    Tokyo        Japan  37977000.0\n",
       "1  Jakarta    Indonesia  34540000.0\n",
       "2    Delhi        India  29617000.0\n",
       "3   Mumbai        India  23355000.0\n",
       "4   Manila  Philippines  23088000.0"
      ]
     },
     "execution_count": 254,
     "metadata": {},
     "output_type": "execute_result"
    }
   ],
   "source": [
    "dane_ludnosc.head()"
   ]
  },
  {
   "cell_type": "code",
   "execution_count": 256,
   "metadata": {
    "colab": {
     "base_uri": "https://localhost:8080/",
     "height": 206
    },
    "executionInfo": {
     "elapsed": 436,
     "status": "ok",
     "timestamp": 1652869785740,
     "user": {
      "displayName": "Daniel Strzelecki",
      "userId": "04998061441867974797"
     },
     "user_tz": -120
    },
    "id": "ZHWs8f_DzwPl",
    "outputId": "23aaac14-1a90-4823-9046-f843a993d108"
   },
   "outputs": [
    {
     "data": {
      "text/html": [
       "<div>\n",
       "<style scoped>\n",
       "    .dataframe tbody tr th:only-of-type {\n",
       "        vertical-align: middle;\n",
       "    }\n",
       "\n",
       "    .dataframe tbody tr th {\n",
       "        vertical-align: top;\n",
       "    }\n",
       "\n",
       "    .dataframe thead th {\n",
       "        text-align: right;\n",
       "    }\n",
       "</style>\n",
       "<table border=\"1\" class=\"dataframe\">\n",
       "  <thead>\n",
       "    <tr style=\"text-align: right;\">\n",
       "      <th></th>\n",
       "      <th>country</th>\n",
       "      <th>iso3</th>\n",
       "      <th>city</th>\n",
       "      <th>country</th>\n",
       "      <th>population</th>\n",
       "    </tr>\n",
       "  </thead>\n",
       "  <tbody>\n",
       "    <tr>\n",
       "      <th>0</th>\n",
       "      <td>Japan</td>\n",
       "      <td>JPN</td>\n",
       "      <td>Tokyo</td>\n",
       "      <td>Japan</td>\n",
       "      <td>37977000.0</td>\n",
       "    </tr>\n",
       "    <tr>\n",
       "      <th>1</th>\n",
       "      <td>Indonesia</td>\n",
       "      <td>IDN</td>\n",
       "      <td>Jakarta</td>\n",
       "      <td>Indonesia</td>\n",
       "      <td>34540000.0</td>\n",
       "    </tr>\n",
       "    <tr>\n",
       "      <th>2</th>\n",
       "      <td>India</td>\n",
       "      <td>IND</td>\n",
       "      <td>Delhi</td>\n",
       "      <td>India</td>\n",
       "      <td>29617000.0</td>\n",
       "    </tr>\n",
       "    <tr>\n",
       "      <th>3</th>\n",
       "      <td>India</td>\n",
       "      <td>IND</td>\n",
       "      <td>Mumbai</td>\n",
       "      <td>India</td>\n",
       "      <td>23355000.0</td>\n",
       "    </tr>\n",
       "    <tr>\n",
       "      <th>4</th>\n",
       "      <td>Philippines</td>\n",
       "      <td>PHL</td>\n",
       "      <td>Manila</td>\n",
       "      <td>Philippines</td>\n",
       "      <td>23088000.0</td>\n",
       "    </tr>\n",
       "  </tbody>\n",
       "</table>\n",
       "</div>"
      ],
      "text/plain": [
       "       country iso3     city      country  population\n",
       "0        Japan  JPN    Tokyo        Japan  37977000.0\n",
       "1    Indonesia  IDN  Jakarta    Indonesia  34540000.0\n",
       "2        India  IND    Delhi        India  29617000.0\n",
       "3        India  IND   Mumbai        India  23355000.0\n",
       "4  Philippines  PHL   Manila  Philippines  23088000.0"
      ]
     },
     "execution_count": 256,
     "metadata": {},
     "output_type": "execute_result"
    }
   ],
   "source": [
    "pd.concat([dane_country,dane_ludnosc],axis=1) #kolumna country się powtarza"
   ]
  },
  {
   "cell_type": "markdown",
   "metadata": {},
   "source": [
    "**Sposób 2**: użycie **metody** `join`, który łączy dane po indeksach lub po *wksazanej* kolumnie. Kolumny dublujące się oznaczy sufixem"
   ]
  },
  {
   "cell_type": "code",
   "execution_count": 277,
   "metadata": {},
   "outputs": [
    {
     "data": {
      "text/html": [
       "<div>\n",
       "<style scoped>\n",
       "    .dataframe tbody tr th:only-of-type {\n",
       "        vertical-align: middle;\n",
       "    }\n",
       "\n",
       "    .dataframe tbody tr th {\n",
       "        vertical-align: top;\n",
       "    }\n",
       "\n",
       "    .dataframe thead th {\n",
       "        text-align: right;\n",
       "    }\n",
       "</style>\n",
       "<table border=\"1\" class=\"dataframe\">\n",
       "  <thead>\n",
       "    <tr style=\"text-align: right;\">\n",
       "      <th></th>\n",
       "      <th>city</th>\n",
       "      <th>country-lud</th>\n",
       "      <th>population</th>\n",
       "      <th>country-cou</th>\n",
       "      <th>iso3</th>\n",
       "    </tr>\n",
       "  </thead>\n",
       "  <tbody>\n",
       "    <tr>\n",
       "      <th>0</th>\n",
       "      <td>Tokyo</td>\n",
       "      <td>Japan</td>\n",
       "      <td>37977000.0</td>\n",
       "      <td>Japan</td>\n",
       "      <td>JPN</td>\n",
       "    </tr>\n",
       "    <tr>\n",
       "      <th>1</th>\n",
       "      <td>Jakarta</td>\n",
       "      <td>Indonesia</td>\n",
       "      <td>34540000.0</td>\n",
       "      <td>Indonesia</td>\n",
       "      <td>IDN</td>\n",
       "    </tr>\n",
       "    <tr>\n",
       "      <th>2</th>\n",
       "      <td>Delhi</td>\n",
       "      <td>India</td>\n",
       "      <td>29617000.0</td>\n",
       "      <td>India</td>\n",
       "      <td>IND</td>\n",
       "    </tr>\n",
       "    <tr>\n",
       "      <th>3</th>\n",
       "      <td>Mumbai</td>\n",
       "      <td>India</td>\n",
       "      <td>23355000.0</td>\n",
       "      <td>India</td>\n",
       "      <td>IND</td>\n",
       "    </tr>\n",
       "    <tr>\n",
       "      <th>4</th>\n",
       "      <td>Manila</td>\n",
       "      <td>Philippines</td>\n",
       "      <td>23088000.0</td>\n",
       "      <td>Philippines</td>\n",
       "      <td>PHL</td>\n",
       "    </tr>\n",
       "  </tbody>\n",
       "</table>\n",
       "</div>"
      ],
      "text/plain": [
       "      city  country-lud  population  country-cou iso3\n",
       "0    Tokyo        Japan  37977000.0        Japan  JPN\n",
       "1  Jakarta    Indonesia  34540000.0    Indonesia  IDN\n",
       "2    Delhi        India  29617000.0        India  IND\n",
       "3   Mumbai        India  23355000.0        India  IND\n",
       "4   Manila  Philippines  23088000.0  Philippines  PHL"
      ]
     },
     "execution_count": 277,
     "metadata": {},
     "output_type": "execute_result"
    }
   ],
   "source": [
    "dane_ludnosc.join(dane_country,lsuffix='-lud',rsuffix='-cou')"
   ]
  },
  {
   "cell_type": "markdown",
   "metadata": {},
   "source": [
    "**Sposób 3:** wykorzystanie `merge`, które działa bazodanowo. Konieczne jest podanie z której ramki bierzemy klucze (domyślnie `inner`). Możemy ręcznie ustawić po jakich kombinacjach kolumn ma łączyć."
   ]
  },
  {
   "cell_type": "code",
   "execution_count": 278,
   "metadata": {
    "id": "W5jBQishfkAP"
   },
   "outputs": [],
   "source": [
    "df3=pd.merge(dane_ludnosc, dane_country)"
   ]
  },
  {
   "cell_type": "code",
   "execution_count": 280,
   "metadata": {
    "colab": {
     "base_uri": "https://localhost:8080/",
     "height": 269
    },
    "executionInfo": {
     "elapsed": 397,
     "status": "ok",
     "timestamp": 1652869857357,
     "user": {
      "displayName": "Daniel Strzelecki",
      "userId": "04998061441867974797"
     },
     "user_tz": -120
    },
    "id": "79fJacYNmgNR",
    "outputId": "1923770c-0dee-49b0-c47c-b51b169308a4"
   },
   "outputs": [
    {
     "data": {
      "text/html": [
       "<div>\n",
       "<style scoped>\n",
       "    .dataframe tbody tr th:only-of-type {\n",
       "        vertical-align: middle;\n",
       "    }\n",
       "\n",
       "    .dataframe tbody tr th {\n",
       "        vertical-align: top;\n",
       "    }\n",
       "\n",
       "    .dataframe thead th {\n",
       "        text-align: right;\n",
       "    }\n",
       "</style>\n",
       "<table border=\"1\" class=\"dataframe\">\n",
       "  <thead>\n",
       "    <tr style=\"text-align: right;\">\n",
       "      <th></th>\n",
       "      <th>city</th>\n",
       "      <th>country</th>\n",
       "      <th>population</th>\n",
       "      <th>iso3</th>\n",
       "    </tr>\n",
       "  </thead>\n",
       "  <tbody>\n",
       "    <tr>\n",
       "      <th>0</th>\n",
       "      <td>Tokyo</td>\n",
       "      <td>Japan</td>\n",
       "      <td>37977000.0</td>\n",
       "      <td>JPN</td>\n",
       "    </tr>\n",
       "    <tr>\n",
       "      <th>1</th>\n",
       "      <td>Jakarta</td>\n",
       "      <td>Indonesia</td>\n",
       "      <td>34540000.0</td>\n",
       "      <td>IDN</td>\n",
       "    </tr>\n",
       "    <tr>\n",
       "      <th>2</th>\n",
       "      <td>Delhi</td>\n",
       "      <td>India</td>\n",
       "      <td>29617000.0</td>\n",
       "      <td>IND</td>\n",
       "    </tr>\n",
       "    <tr>\n",
       "      <th>3</th>\n",
       "      <td>Delhi</td>\n",
       "      <td>India</td>\n",
       "      <td>29617000.0</td>\n",
       "      <td>IND</td>\n",
       "    </tr>\n",
       "    <tr>\n",
       "      <th>4</th>\n",
       "      <td>Mumbai</td>\n",
       "      <td>India</td>\n",
       "      <td>23355000.0</td>\n",
       "      <td>IND</td>\n",
       "    </tr>\n",
       "    <tr>\n",
       "      <th>5</th>\n",
       "      <td>Mumbai</td>\n",
       "      <td>India</td>\n",
       "      <td>23355000.0</td>\n",
       "      <td>IND</td>\n",
       "    </tr>\n",
       "    <tr>\n",
       "      <th>6</th>\n",
       "      <td>Manila</td>\n",
       "      <td>Philippines</td>\n",
       "      <td>23088000.0</td>\n",
       "      <td>PHL</td>\n",
       "    </tr>\n",
       "  </tbody>\n",
       "</table>\n",
       "</div>"
      ],
      "text/plain": [
       "      city      country  population iso3\n",
       "0    Tokyo        Japan  37977000.0  JPN\n",
       "1  Jakarta    Indonesia  34540000.0  IDN\n",
       "2    Delhi        India  29617000.0  IND\n",
       "3    Delhi        India  29617000.0  IND\n",
       "4   Mumbai        India  23355000.0  IND\n",
       "5   Mumbai        India  23355000.0  IND\n",
       "6   Manila  Philippines  23088000.0  PHL"
      ]
     },
     "execution_count": 280,
     "metadata": {},
     "output_type": "execute_result"
    }
   ],
   "source": [
    "df3 # dane się dublują bo były duble w dane_country, a merge wyszukuje wszystkie relacje"
   ]
  },
  {
   "cell_type": "code",
   "execution_count": 272,
   "metadata": {
    "id": "ncRARQLqnRTs"
   },
   "outputs": [],
   "source": [
    "dane_country.drop_duplicates(inplace=True)"
   ]
  },
  {
   "cell_type": "code",
   "execution_count": 273,
   "metadata": {
    "colab": {
     "base_uri": "https://localhost:8080/",
     "height": 206
    },
    "executionInfo": {
     "elapsed": 45,
     "status": "ok",
     "timestamp": 1652177677299,
     "user": {
      "displayName": "Daniel Strzelecki",
      "userId": "04998061441867974797"
     },
     "user_tz": -120
    },
    "id": "R7obvJMPnXar",
    "outputId": "80591544-f86c-4f30-a4f4-862b81fa8da3"
   },
   "outputs": [
    {
     "data": {
      "text/html": [
       "<div>\n",
       "<style scoped>\n",
       "    .dataframe tbody tr th:only-of-type {\n",
       "        vertical-align: middle;\n",
       "    }\n",
       "\n",
       "    .dataframe tbody tr th {\n",
       "        vertical-align: top;\n",
       "    }\n",
       "\n",
       "    .dataframe thead th {\n",
       "        text-align: right;\n",
       "    }\n",
       "</style>\n",
       "<table border=\"1\" class=\"dataframe\">\n",
       "  <thead>\n",
       "    <tr style=\"text-align: right;\">\n",
       "      <th></th>\n",
       "      <th>city</th>\n",
       "      <th>country</th>\n",
       "      <th>population</th>\n",
       "      <th>iso3</th>\n",
       "    </tr>\n",
       "  </thead>\n",
       "  <tbody>\n",
       "    <tr>\n",
       "      <th>0</th>\n",
       "      <td>Tokyo</td>\n",
       "      <td>Japan</td>\n",
       "      <td>37977000.0</td>\n",
       "      <td>JPN</td>\n",
       "    </tr>\n",
       "    <tr>\n",
       "      <th>1</th>\n",
       "      <td>Jakarta</td>\n",
       "      <td>Indonesia</td>\n",
       "      <td>34540000.0</td>\n",
       "      <td>IDN</td>\n",
       "    </tr>\n",
       "    <tr>\n",
       "      <th>2</th>\n",
       "      <td>Delhi</td>\n",
       "      <td>India</td>\n",
       "      <td>29617000.0</td>\n",
       "      <td>IND</td>\n",
       "    </tr>\n",
       "    <tr>\n",
       "      <th>3</th>\n",
       "      <td>Mumbai</td>\n",
       "      <td>India</td>\n",
       "      <td>23355000.0</td>\n",
       "      <td>IND</td>\n",
       "    </tr>\n",
       "    <tr>\n",
       "      <th>4</th>\n",
       "      <td>Manila</td>\n",
       "      <td>Philippines</td>\n",
       "      <td>23088000.0</td>\n",
       "      <td>PHL</td>\n",
       "    </tr>\n",
       "  </tbody>\n",
       "</table>\n",
       "</div>"
      ],
      "text/plain": [
       "      city      country  population iso3\n",
       "0    Tokyo        Japan  37977000.0  JPN\n",
       "1  Jakarta    Indonesia  34540000.0  IDN\n",
       "2    Delhi        India  29617000.0  IND\n",
       "3   Mumbai        India  23355000.0  IND\n",
       "4   Manila  Philippines  23088000.0  PHL"
      ]
     },
     "execution_count": 273,
     "metadata": {},
     "output_type": "execute_result"
    }
   ],
   "source": [
    "df3=pd.merge(dane_ludnosc, dane_country, how='left')\n",
    "df3"
   ]
  },
  {
   "cell_type": "code",
   "execution_count": null,
   "metadata": {
    "id": "AeYHE9Z-n69r"
   },
   "outputs": [],
   "source": []
  },
  {
   "cell_type": "markdown",
   "metadata": {
    "id": "XYnVT7eJn7YF"
   },
   "source": [
    "### Zadanie 3\n",
    "Przygotuj DataFrame z **wszystkimi** miastami z ramki `miasta` i skrótami dobranymi z ramki `skroty` (pozostałe `NaN`). Następnie przygoruj analogiczny DF, gdzie będą tylko miasta z krajów, których skróty znamy.\n",
    "\n",
    "\n"
   ]
  },
  {
   "cell_type": "code",
   "execution_count": 281,
   "metadata": {
    "colab": {
     "base_uri": "https://localhost:8080/",
     "height": 424
    },
    "executionInfo": {
     "elapsed": 15,
     "status": "ok",
     "timestamp": 1652866364660,
     "user": {
      "displayName": "Daniel Strzelecki",
      "userId": "04998061441867974797"
     },
     "user_tz": -120
    },
    "id": "HzgGlQ7Kh1-P",
    "outputId": "ccd74f46-0f9b-4c80-b680-a2e599d61698"
   },
   "outputs": [],
   "source": [
    "skroty=dane2[['country','iso3']][:10]\n",
    "miasta=dane2[['city','country','population']]"
   ]
  },
  {
   "cell_type": "markdown",
   "metadata": {},
   "source": [
    "### Zadanie 4\n",
    "* Połącz trzy zbiory danych z plików [tutaj](https://github.com/jakevdp/data-USstates/)\n",
    "* Zadbaj o brakujące dane. Usuń rekordy, których nie jesteś w stanie uzupełnić danymi (tam gdzie brakuje)\n",
    "* stwórz tabelę przestawną opisującą ludność w poszczególnych stanach (bez sumarycznej wartości w całym USA) w roku 2010 w podziale na kategorie wiekowe\n",
    "* zaprezentuje powyższe dane na wykresie\n",
    "* zaprezentuj na wykresie gęstości zaludnienia w roku 2010 w poszczególnych stanach (j.w.) w kolejności malejącej"
   ]
  },
  {
   "cell_type": "code",
   "execution_count": 307,
   "metadata": {
    "colab": {
     "base_uri": "https://localhost:8080/",
     "height": 584
    },
    "executionInfo": {
     "elapsed": 1113,
     "status": "ok",
     "timestamp": 1653465328291,
     "user": {
      "displayName": "Daniel Strzelecki",
      "userId": "04998061441867974797"
     },
     "user_tz": -120
    },
    "id": "MFHEdqF6wsly",
    "outputId": "7aa01a68-3ec0-4134-f632-3f1e4406e218"
   },
   "outputs": [],
   "source": [
    "pop = pd.read_csv('https://raw.githubusercontent.com/jakevdp/data-USstates/master/state-population.csv')\n",
    "areas = pd.read_csv('https://raw.githubusercontent.com/jakevdp/data-USstates/master/state-areas.csv')\n",
    "abbrevs = pd.read_csv('https://raw.githubusercontent.com/jakevdp/data-USstates/master/state-abbrevs.csv')"
   ]
  },
  {
   "cell_type": "markdown",
   "metadata": {
    "id": "nsxWot5-_Xnl"
   },
   "source": [
    "# Biblioteka Bokeh\n",
    "\n",
    "Do tworzenia interaktywnych wykresów [więcej](https://bebi103a.github.io/lessons/06/intro_to_plotting_with_bokeh.html)"
   ]
  },
  {
   "cell_type": "code",
   "execution_count": 27,
   "metadata": {
    "id": "I8Io6Kg_yqFv"
   },
   "outputs": [
    {
     "data": {
      "text/html": [
       "<div class=\"bk-root\">\n",
       "        <a href=\"https://bokeh.org\" target=\"_blank\" class=\"bk-logo bk-logo-small bk-logo-notebook\"></a>\n",
       "        <span id=\"1002\">Loading BokehJS ...</span>\n",
       "    </div>\n"
      ]
     },
     "metadata": {},
     "output_type": "display_data"
    },
    {
     "data": {
      "application/javascript": [
       "(function(root) {\n",
       "  function now() {\n",
       "    return new Date();\n",
       "  }\n",
       "\n",
       "  const force = true;\n",
       "\n",
       "  if (typeof root._bokeh_onload_callbacks === \"undefined\" || force === true) {\n",
       "    root._bokeh_onload_callbacks = [];\n",
       "    root._bokeh_is_loading = undefined;\n",
       "  }\n",
       "\n",
       "const JS_MIME_TYPE = 'application/javascript';\n",
       "  const HTML_MIME_TYPE = 'text/html';\n",
       "  const EXEC_MIME_TYPE = 'application/vnd.bokehjs_exec.v0+json';\n",
       "  const CLASS_NAME = 'output_bokeh rendered_html';\n",
       "\n",
       "  /**\n",
       "   * Render data to the DOM node\n",
       "   */\n",
       "  function render(props, node) {\n",
       "    const script = document.createElement(\"script\");\n",
       "    node.appendChild(script);\n",
       "  }\n",
       "\n",
       "  /**\n",
       "   * Handle when an output is cleared or removed\n",
       "   */\n",
       "  function handleClearOutput(event, handle) {\n",
       "    const cell = handle.cell;\n",
       "\n",
       "    const id = cell.output_area._bokeh_element_id;\n",
       "    const server_id = cell.output_area._bokeh_server_id;\n",
       "    // Clean up Bokeh references\n",
       "    if (id != null && id in Bokeh.index) {\n",
       "      Bokeh.index[id].model.document.clear();\n",
       "      delete Bokeh.index[id];\n",
       "    }\n",
       "\n",
       "    if (server_id !== undefined) {\n",
       "      // Clean up Bokeh references\n",
       "      const cmd_clean = \"from bokeh.io.state import curstate; print(curstate().uuid_to_server['\" + server_id + \"'].get_sessions()[0].document.roots[0]._id)\";\n",
       "      cell.notebook.kernel.execute(cmd_clean, {\n",
       "        iopub: {\n",
       "          output: function(msg) {\n",
       "            const id = msg.content.text.trim();\n",
       "            if (id in Bokeh.index) {\n",
       "              Bokeh.index[id].model.document.clear();\n",
       "              delete Bokeh.index[id];\n",
       "            }\n",
       "          }\n",
       "        }\n",
       "      });\n",
       "      // Destroy server and session\n",
       "      const cmd_destroy = \"import bokeh.io.notebook as ion; ion.destroy_server('\" + server_id + \"')\";\n",
       "      cell.notebook.kernel.execute(cmd_destroy);\n",
       "    }\n",
       "  }\n",
       "\n",
       "  /**\n",
       "   * Handle when a new output is added\n",
       "   */\n",
       "  function handleAddOutput(event, handle) {\n",
       "    const output_area = handle.output_area;\n",
       "    const output = handle.output;\n",
       "\n",
       "    // limit handleAddOutput to display_data with EXEC_MIME_TYPE content only\n",
       "    if ((output.output_type != \"display_data\") || (!Object.prototype.hasOwnProperty.call(output.data, EXEC_MIME_TYPE))) {\n",
       "      return\n",
       "    }\n",
       "\n",
       "    const toinsert = output_area.element.find(\".\" + CLASS_NAME.split(' ')[0]);\n",
       "\n",
       "    if (output.metadata[EXEC_MIME_TYPE][\"id\"] !== undefined) {\n",
       "      toinsert[toinsert.length - 1].firstChild.textContent = output.data[JS_MIME_TYPE];\n",
       "      // store reference to embed id on output_area\n",
       "      output_area._bokeh_element_id = output.metadata[EXEC_MIME_TYPE][\"id\"];\n",
       "    }\n",
       "    if (output.metadata[EXEC_MIME_TYPE][\"server_id\"] !== undefined) {\n",
       "      const bk_div = document.createElement(\"div\");\n",
       "      bk_div.innerHTML = output.data[HTML_MIME_TYPE];\n",
       "      const script_attrs = bk_div.children[0].attributes;\n",
       "      for (let i = 0; i < script_attrs.length; i++) {\n",
       "        toinsert[toinsert.length - 1].firstChild.setAttribute(script_attrs[i].name, script_attrs[i].value);\n",
       "        toinsert[toinsert.length - 1].firstChild.textContent = bk_div.children[0].textContent\n",
       "      }\n",
       "      // store reference to server id on output_area\n",
       "      output_area._bokeh_server_id = output.metadata[EXEC_MIME_TYPE][\"server_id\"];\n",
       "    }\n",
       "  }\n",
       "\n",
       "  function register_renderer(events, OutputArea) {\n",
       "\n",
       "    function append_mime(data, metadata, element) {\n",
       "      // create a DOM node to render to\n",
       "      const toinsert = this.create_output_subarea(\n",
       "        metadata,\n",
       "        CLASS_NAME,\n",
       "        EXEC_MIME_TYPE\n",
       "      );\n",
       "      this.keyboard_manager.register_events(toinsert);\n",
       "      // Render to node\n",
       "      const props = {data: data, metadata: metadata[EXEC_MIME_TYPE]};\n",
       "      render(props, toinsert[toinsert.length - 1]);\n",
       "      element.append(toinsert);\n",
       "      return toinsert\n",
       "    }\n",
       "\n",
       "    /* Handle when an output is cleared or removed */\n",
       "    events.on('clear_output.CodeCell', handleClearOutput);\n",
       "    events.on('delete.Cell', handleClearOutput);\n",
       "\n",
       "    /* Handle when a new output is added */\n",
       "    events.on('output_added.OutputArea', handleAddOutput);\n",
       "\n",
       "    /**\n",
       "     * Register the mime type and append_mime function with output_area\n",
       "     */\n",
       "    OutputArea.prototype.register_mime_type(EXEC_MIME_TYPE, append_mime, {\n",
       "      /* Is output safe? */\n",
       "      safe: true,\n",
       "      /* Index of renderer in `output_area.display_order` */\n",
       "      index: 0\n",
       "    });\n",
       "  }\n",
       "\n",
       "  // register the mime type if in Jupyter Notebook environment and previously unregistered\n",
       "  if (root.Jupyter !== undefined) {\n",
       "    const events = require('base/js/events');\n",
       "    const OutputArea = require('notebook/js/outputarea').OutputArea;\n",
       "\n",
       "    if (OutputArea.prototype.mime_types().indexOf(EXEC_MIME_TYPE) == -1) {\n",
       "      register_renderer(events, OutputArea);\n",
       "    }\n",
       "  }\n",
       "  if (typeof (root._bokeh_timeout) === \"undefined\" || force === true) {\n",
       "    root._bokeh_timeout = Date.now() + 5000;\n",
       "    root._bokeh_failed_load = false;\n",
       "  }\n",
       "\n",
       "  const NB_LOAD_WARNING = {'data': {'text/html':\n",
       "     \"<div style='background-color: #fdd'>\\n\"+\n",
       "     \"<p>\\n\"+\n",
       "     \"BokehJS does not appear to have successfully loaded. If loading BokehJS from CDN, this \\n\"+\n",
       "     \"may be due to a slow or bad network connection. Possible fixes:\\n\"+\n",
       "     \"</p>\\n\"+\n",
       "     \"<ul>\\n\"+\n",
       "     \"<li>re-rerun `output_notebook()` to attempt to load from CDN again, or</li>\\n\"+\n",
       "     \"<li>use INLINE resources instead, as so:</li>\\n\"+\n",
       "     \"</ul>\\n\"+\n",
       "     \"<code>\\n\"+\n",
       "     \"from bokeh.resources import INLINE\\n\"+\n",
       "     \"output_notebook(resources=INLINE)\\n\"+\n",
       "     \"</code>\\n\"+\n",
       "     \"</div>\"}};\n",
       "\n",
       "  function display_loaded() {\n",
       "    const el = document.getElementById(\"1002\");\n",
       "    if (el != null) {\n",
       "      el.textContent = \"BokehJS is loading...\";\n",
       "    }\n",
       "    if (root.Bokeh !== undefined) {\n",
       "      if (el != null) {\n",
       "        el.textContent = \"BokehJS \" + root.Bokeh.version + \" successfully loaded.\";\n",
       "      }\n",
       "    } else if (Date.now() < root._bokeh_timeout) {\n",
       "      setTimeout(display_loaded, 100)\n",
       "    }\n",
       "  }\n",
       "\n",
       "  function run_callbacks() {\n",
       "    try {\n",
       "      root._bokeh_onload_callbacks.forEach(function(callback) {\n",
       "        if (callback != null)\n",
       "          callback();\n",
       "      });\n",
       "    } finally {\n",
       "      delete root._bokeh_onload_callbacks\n",
       "    }\n",
       "    console.debug(\"Bokeh: all callbacks have finished\");\n",
       "  }\n",
       "\n",
       "  function load_libs(css_urls, js_urls, callback) {\n",
       "    if (css_urls == null) css_urls = [];\n",
       "    if (js_urls == null) js_urls = [];\n",
       "\n",
       "    root._bokeh_onload_callbacks.push(callback);\n",
       "    if (root._bokeh_is_loading > 0) {\n",
       "      console.debug(\"Bokeh: BokehJS is being loaded, scheduling callback at\", now());\n",
       "      return null;\n",
       "    }\n",
       "    if (js_urls == null || js_urls.length === 0) {\n",
       "      run_callbacks();\n",
       "      return null;\n",
       "    }\n",
       "    console.debug(\"Bokeh: BokehJS not loaded, scheduling load and callback at\", now());\n",
       "    root._bokeh_is_loading = css_urls.length + js_urls.length;\n",
       "\n",
       "    function on_load() {\n",
       "      root._bokeh_is_loading--;\n",
       "      if (root._bokeh_is_loading === 0) {\n",
       "        console.debug(\"Bokeh: all BokehJS libraries/stylesheets loaded\");\n",
       "        run_callbacks()\n",
       "      }\n",
       "    }\n",
       "\n",
       "    function on_error(url) {\n",
       "      console.error(\"failed to load \" + url);\n",
       "    }\n",
       "\n",
       "    for (let i = 0; i < css_urls.length; i++) {\n",
       "      const url = css_urls[i];\n",
       "      const element = document.createElement(\"link\");\n",
       "      element.onload = on_load;\n",
       "      element.onerror = on_error.bind(null, url);\n",
       "      element.rel = \"stylesheet\";\n",
       "      element.type = \"text/css\";\n",
       "      element.href = url;\n",
       "      console.debug(\"Bokeh: injecting link tag for BokehJS stylesheet: \", url);\n",
       "      document.body.appendChild(element);\n",
       "    }\n",
       "\n",
       "    for (let i = 0; i < js_urls.length; i++) {\n",
       "      const url = js_urls[i];\n",
       "      const element = document.createElement('script');\n",
       "      element.onload = on_load;\n",
       "      element.onerror = on_error.bind(null, url);\n",
       "      element.async = false;\n",
       "      element.src = url;\n",
       "      console.debug(\"Bokeh: injecting script tag for BokehJS library: \", url);\n",
       "      document.head.appendChild(element);\n",
       "    }\n",
       "  };\n",
       "\n",
       "  function inject_raw_css(css) {\n",
       "    const element = document.createElement(\"style\");\n",
       "    element.appendChild(document.createTextNode(css));\n",
       "    document.body.appendChild(element);\n",
       "  }\n",
       "\n",
       "  const js_urls = [\"https://cdn.bokeh.org/bokeh/release/bokeh-2.4.3.min.js\", \"https://cdn.bokeh.org/bokeh/release/bokeh-gl-2.4.3.min.js\", \"https://cdn.bokeh.org/bokeh/release/bokeh-widgets-2.4.3.min.js\", \"https://cdn.bokeh.org/bokeh/release/bokeh-tables-2.4.3.min.js\", \"https://cdn.bokeh.org/bokeh/release/bokeh-mathjax-2.4.3.min.js\"];\n",
       "  const css_urls = [];\n",
       "\n",
       "  const inline_js = [    function(Bokeh) {\n",
       "      Bokeh.set_log_level(\"info\");\n",
       "    },\n",
       "function(Bokeh) {\n",
       "    }\n",
       "  ];\n",
       "\n",
       "  function run_inline_js() {\n",
       "    if (root.Bokeh !== undefined || force === true) {\n",
       "          for (let i = 0; i < inline_js.length; i++) {\n",
       "      inline_js[i].call(root, root.Bokeh);\n",
       "    }\n",
       "if (force === true) {\n",
       "        display_loaded();\n",
       "      }} else if (Date.now() < root._bokeh_timeout) {\n",
       "      setTimeout(run_inline_js, 100);\n",
       "    } else if (!root._bokeh_failed_load) {\n",
       "      console.log(\"Bokeh: BokehJS failed to load within specified timeout.\");\n",
       "      root._bokeh_failed_load = true;\n",
       "    } else if (force !== true) {\n",
       "      const cell = $(document.getElementById(\"1002\")).parents('.cell').data().cell;\n",
       "      cell.output_area.append_execute_result(NB_LOAD_WARNING)\n",
       "    }\n",
       "  }\n",
       "\n",
       "  if (root._bokeh_is_loading === 0) {\n",
       "    console.debug(\"Bokeh: BokehJS loaded, going straight to plotting\");\n",
       "    run_inline_js();\n",
       "  } else {\n",
       "    load_libs(css_urls, js_urls, function() {\n",
       "      console.debug(\"Bokeh: BokehJS plotting callback run at\", now());\n",
       "      run_inline_js();\n",
       "    });\n",
       "  }\n",
       "}(window));"
      ],
      "application/vnd.bokehjs_load.v0+json": "(function(root) {\n  function now() {\n    return new Date();\n  }\n\n  const force = true;\n\n  if (typeof root._bokeh_onload_callbacks === \"undefined\" || force === true) {\n    root._bokeh_onload_callbacks = [];\n    root._bokeh_is_loading = undefined;\n  }\n\n\n  if (typeof (root._bokeh_timeout) === \"undefined\" || force === true) {\n    root._bokeh_timeout = Date.now() + 5000;\n    root._bokeh_failed_load = false;\n  }\n\n  const NB_LOAD_WARNING = {'data': {'text/html':\n     \"<div style='background-color: #fdd'>\\n\"+\n     \"<p>\\n\"+\n     \"BokehJS does not appear to have successfully loaded. If loading BokehJS from CDN, this \\n\"+\n     \"may be due to a slow or bad network connection. Possible fixes:\\n\"+\n     \"</p>\\n\"+\n     \"<ul>\\n\"+\n     \"<li>re-rerun `output_notebook()` to attempt to load from CDN again, or</li>\\n\"+\n     \"<li>use INLINE resources instead, as so:</li>\\n\"+\n     \"</ul>\\n\"+\n     \"<code>\\n\"+\n     \"from bokeh.resources import INLINE\\n\"+\n     \"output_notebook(resources=INLINE)\\n\"+\n     \"</code>\\n\"+\n     \"</div>\"}};\n\n  function display_loaded() {\n    const el = document.getElementById(\"1002\");\n    if (el != null) {\n      el.textContent = \"BokehJS is loading...\";\n    }\n    if (root.Bokeh !== undefined) {\n      if (el != null) {\n        el.textContent = \"BokehJS \" + root.Bokeh.version + \" successfully loaded.\";\n      }\n    } else if (Date.now() < root._bokeh_timeout) {\n      setTimeout(display_loaded, 100)\n    }\n  }\n\n  function run_callbacks() {\n    try {\n      root._bokeh_onload_callbacks.forEach(function(callback) {\n        if (callback != null)\n          callback();\n      });\n    } finally {\n      delete root._bokeh_onload_callbacks\n    }\n    console.debug(\"Bokeh: all callbacks have finished\");\n  }\n\n  function load_libs(css_urls, js_urls, callback) {\n    if (css_urls == null) css_urls = [];\n    if (js_urls == null) js_urls = [];\n\n    root._bokeh_onload_callbacks.push(callback);\n    if (root._bokeh_is_loading > 0) {\n      console.debug(\"Bokeh: BokehJS is being loaded, scheduling callback at\", now());\n      return null;\n    }\n    if (js_urls == null || js_urls.length === 0) {\n      run_callbacks();\n      return null;\n    }\n    console.debug(\"Bokeh: BokehJS not loaded, scheduling load and callback at\", now());\n    root._bokeh_is_loading = css_urls.length + js_urls.length;\n\n    function on_load() {\n      root._bokeh_is_loading--;\n      if (root._bokeh_is_loading === 0) {\n        console.debug(\"Bokeh: all BokehJS libraries/stylesheets loaded\");\n        run_callbacks()\n      }\n    }\n\n    function on_error(url) {\n      console.error(\"failed to load \" + url);\n    }\n\n    for (let i = 0; i < css_urls.length; i++) {\n      const url = css_urls[i];\n      const element = document.createElement(\"link\");\n      element.onload = on_load;\n      element.onerror = on_error.bind(null, url);\n      element.rel = \"stylesheet\";\n      element.type = \"text/css\";\n      element.href = url;\n      console.debug(\"Bokeh: injecting link tag for BokehJS stylesheet: \", url);\n      document.body.appendChild(element);\n    }\n\n    for (let i = 0; i < js_urls.length; i++) {\n      const url = js_urls[i];\n      const element = document.createElement('script');\n      element.onload = on_load;\n      element.onerror = on_error.bind(null, url);\n      element.async = false;\n      element.src = url;\n      console.debug(\"Bokeh: injecting script tag for BokehJS library: \", url);\n      document.head.appendChild(element);\n    }\n  };\n\n  function inject_raw_css(css) {\n    const element = document.createElement(\"style\");\n    element.appendChild(document.createTextNode(css));\n    document.body.appendChild(element);\n  }\n\n  const js_urls = [\"https://cdn.bokeh.org/bokeh/release/bokeh-2.4.3.min.js\", \"https://cdn.bokeh.org/bokeh/release/bokeh-gl-2.4.3.min.js\", \"https://cdn.bokeh.org/bokeh/release/bokeh-widgets-2.4.3.min.js\", \"https://cdn.bokeh.org/bokeh/release/bokeh-tables-2.4.3.min.js\", \"https://cdn.bokeh.org/bokeh/release/bokeh-mathjax-2.4.3.min.js\"];\n  const css_urls = [];\n\n  const inline_js = [    function(Bokeh) {\n      Bokeh.set_log_level(\"info\");\n    },\nfunction(Bokeh) {\n    }\n  ];\n\n  function run_inline_js() {\n    if (root.Bokeh !== undefined || force === true) {\n          for (let i = 0; i < inline_js.length; i++) {\n      inline_js[i].call(root, root.Bokeh);\n    }\nif (force === true) {\n        display_loaded();\n      }} else if (Date.now() < root._bokeh_timeout) {\n      setTimeout(run_inline_js, 100);\n    } else if (!root._bokeh_failed_load) {\n      console.log(\"Bokeh: BokehJS failed to load within specified timeout.\");\n      root._bokeh_failed_load = true;\n    } else if (force !== true) {\n      const cell = $(document.getElementById(\"1002\")).parents('.cell').data().cell;\n      cell.output_area.append_execute_result(NB_LOAD_WARNING)\n    }\n  }\n\n  if (root._bokeh_is_loading === 0) {\n    console.debug(\"Bokeh: BokehJS loaded, going straight to plotting\");\n    run_inline_js();\n  } else {\n    load_libs(css_urls, js_urls, function() {\n      console.debug(\"Bokeh: BokehJS plotting callback run at\", now());\n      run_inline_js();\n    });\n  }\n}(window));"
     },
     "metadata": {},
     "output_type": "display_data"
    }
   ],
   "source": [
    "import bokeh.io\n",
    "import bokeh.plotting\n",
    "\n",
    "# Włączamy widok bokeh\n",
    "bokeh.io.output_notebook()"
   ]
  },
  {
   "cell_type": "code",
   "execution_count": 28,
   "metadata": {
    "id": "BAF-msaVzTUO"
   },
   "outputs": [],
   "source": [
    "p = bokeh.plotting.figure(\n",
    "    width=400,\n",
    "    height=300)"
   ]
  },
  {
   "cell_type": "code",
   "execution_count": 39,
   "metadata": {},
   "outputs": [
    {
     "name": "stdout",
     "output_type": "stream",
     "text": [
      "<class 'pandas.core.frame.DataFrame'>\n",
      "Int64Index: 52 entries, 3 to 2490\n",
      "Data columns (total 6 columns):\n",
      " #   Column         Non-Null Count  Dtype  \n",
      "---  ------         --------------  -----  \n",
      " 0   state/region   52 non-null     object \n",
      " 1   ages           52 non-null     object \n",
      " 2   year           52 non-null     int64  \n",
      " 3   population     52 non-null     float64\n",
      " 4   state          52 non-null     object \n",
      " 5   area (sq. mi)  52 non-null     float64\n",
      "dtypes: float64(2), int64(1), object(3)\n",
      "memory usage: 2.8+ KB\n"
     ]
    }
   ],
   "source": [
    "#uwaga: `final` to dane wytworzone w zadaniu 4 po połączeniu plików. Każdy może mieć tam inną nazwę ramki danych\n",
    "\n",
    "final=final #tu wstaw własną nazwę\n",
    "data2010=final[(final.year==2010) & (final['state/region']!='USA') & (final.ages=='total')]\n",
    "\n",
    "data2010.info() "
   ]
  },
  {
   "cell_type": "code",
   "execution_count": 40,
   "metadata": {
    "colab": {
     "base_uri": "https://localhost:8080/",
     "height": 317
    },
    "executionInfo": {
     "elapsed": 781,
     "status": "ok",
     "timestamp": 1652178807391,
     "user": {
      "displayName": "Daniel Strzelecki",
      "userId": "04998061441867974797"
     },
     "user_tz": -120
    },
    "id": "k2mUkUqHdlSR",
    "outputId": "f8d5807d-9aef-4a2d-a0b5-375b9431bd83"
   },
   "outputs": [
    {
     "data": {
      "text/html": [
       "\n",
       "  <div class=\"bk-root\" id=\"68a917ba-087b-4c8a-b707-13f69a5a8445\" data-root-id=\"1003\"></div>\n"
      ]
     },
     "metadata": {},
     "output_type": "display_data"
    },
    {
     "data": {
      "application/javascript": [
       "(function(root) {\n",
       "  function embed_document(root) {\n",
       "  const docs_json = {\"8f0e846b-b80d-4c02-8b05-30a0c8040a84\":{\"defs\":[],\"roots\":{\"references\":[{\"attributes\":{\"below\":[{\"id\":\"1012\"}],\"center\":[{\"id\":\"1015\"},{\"id\":\"1019\"}],\"height\":300,\"left\":[{\"id\":\"1016\"}],\"renderers\":[{\"id\":\"1039\"},{\"id\":\"1112\"},{\"id\":\"1446\"},{\"id\":\"1565\"}],\"title\":{\"id\":\"1041\"},\"toolbar\":{\"id\":\"1027\"},\"width\":400,\"x_range\":{\"id\":\"1004\"},\"x_scale\":{\"id\":\"1008\"},\"y_range\":{\"id\":\"1006\"},\"y_scale\":{\"id\":\"1010\"}},\"id\":\"1003\",\"subtype\":\"Figure\",\"type\":\"Plot\"},{\"attributes\":{},\"id\":\"1025\",\"type\":\"HelpTool\"},{\"attributes\":{},\"id\":\"1017\",\"type\":\"BasicTicker\"},{\"attributes\":{},\"id\":\"1013\",\"type\":\"BasicTicker\"},{\"attributes\":{\"axis\":{\"id\":\"1016\"},\"coordinates\":null,\"dimension\":1,\"group\":null,\"ticker\":null},\"id\":\"1019\",\"type\":\"Grid\"},{\"attributes\":{\"data\":{\"ages\":[\"total\",\"total\",\"total\",\"total\",\"total\",\"total\",\"total\",\"total\",\"total\",\"total\",\"total\",\"total\",\"total\",\"total\",\"total\",\"total\",\"total\",\"total\",\"total\",\"total\",\"total\",\"total\",\"total\",\"total\",\"total\",\"total\",\"total\",\"total\",\"total\",\"total\",\"total\",\"total\",\"total\",\"total\",\"total\",\"total\",\"total\",\"total\",\"total\",\"total\",\"total\",\"total\",\"total\",\"total\",\"total\",\"total\",\"total\",\"total\",\"total\",\"total\",\"total\",\"total\"],\"area (sq. mi)\":{\"__ndarray__\":\"AAAAAOCY6UAAAAAAUggkQQAAAABg1ftAAAAAAMD36UAAAAAA2PsDQQAAAABAavlAAAAAAACotUAAAAAAAIieQAAAAAAAAFFAAAAAAOAN8EAAAAAAIAbtQAAAAAAAWsVAAAAAAGBn9EAAAAAAwEfsQAAAAACAyOFAAAAAAIB660AAAAAAoBb0QAAAAABgu+NAAAAAAGBQ6UAAAAAAYEfhQAAAAACAO8hAAAAAAICdxEAAAAAAoKL3QAAAAADwOfVAAAAAAECm50AAAAAA0ATxQAAAAAAw8wFBAAAAAODi8kAAAAAAcP76QAAAAACAQ8JAAAAAAAAJwUAAAAAAkK/9QAAAAABgmepAAAAAAKBH6kAAAAAAAEPxQAAAAACA4+VAAAAAAPAQ8UAAAAAAIAX4QAAAAABAfeZAAAAAAAAkmEAAAAAAwEHfQAAAAAAQ1PJAAAAAAECU5EAAAAAA5GQQQQAAAACAuvRAAAAAAIDHwkAAAAAAIOLkQAAAAABwaPFAAAAAAMCp10AAAAAA4PvvQAAAAACg4fdAAAAAAAB2q0A=\",\"dtype\":\"float64\",\"order\":\"little\",\"shape\":[52]},\"index\":[3,91,101,189,197,283,293,379,389,475,485,570,581,666,677,762,773,858,869,954,965,1050,1061,1146,1157,1242,1253,1338,1349,1434,1445,1530,1541,1626,1637,1722,1733,1818,1829,1914,1925,2010,2021,2106,2117,2202,2213,2298,2309,2394,2405,2490],\"population\":{\"__ndarray__\":\"AAAAgGhBUkEAAAAAGMklQQAAAICVclhBAAAAAJRLRkEAAAAIU82BQQAAAADhQVNBAAAAAKVOS0EAAAAA/nQrQQAAAACKdyJBAAAAYBb5cUEAAAAAzIZiQQAAAAATzzRBAAAAAJ73N0EAAADgYX1oQQAAAEDbwVhBAAAAAKVFR0EAAAAAz89FQQAAAIDMlVBBAAAAANxWUUEAAAAABkE0QQAAAECOE1ZBAAAAwG8JWUEAAACgVtZiQQAAAEDgQVRBAAAAgN+oRkEAAADAh99WQQAAAAB+Oi5BAAAAAM7rO0EAAAAAv59EQQAAAAAGFzRBAAAAYDLKYEEAAAAAVoI/QQAAAEDlf3JBAAAAoL07YkEAAAAAUJQkQQAAAGBrBWZBAAAAgE+uTEEAAAAAjEZNQQAAAABJPmhBAAAAAP0PMEEAAABAsq9RQQAAAACm6ChBAAAAwLI/WEEAAACgXxN4QQAAAADMKkVBAAAAAAIZI0EAAABAWJxeQQAAAAA8uFlBAAAAAMJKPEEAAAAAubNVQQAAAAD8NyFBAAAAAPxjTEE=\",\"dtype\":\"float64\",\"order\":\"little\",\"shape\":[52]},\"state\":[\"Alabama\",\"Alaska\",\"Arizona\",\"Arkansas\",\"California\",\"Colorado\",\"Connecticut\",\"Delaware\",\"District of Columbia\",\"Florida\",\"Georgia\",\"Hawaii\",\"Idaho\",\"Illinois\",\"Indiana\",\"Iowa\",\"Kansas\",\"Kentucky\",\"Louisiana\",\"Maine\",\"Maryland\",\"Massachusetts\",\"Michigan\",\"Minnesota\",\"Mississippi\",\"Missouri\",\"Montana\",\"Nebraska\",\"Nevada\",\"New Hampshire\",\"New Jersey\",\"New Mexico\",\"New York\",\"North Carolina\",\"North Dakota\",\"Ohio\",\"Oklahoma\",\"Oregon\",\"Pennsylvania\",\"Rhode Island\",\"South Carolina\",\"South Dakota\",\"Tennessee\",\"Texas\",\"Utah\",\"Vermont\",\"Virginia\",\"Washington\",\"West Virginia\",\"Wisconsin\",\"Wyoming\",\"Puerto Rico\"],\"state/region\":[\"AL\",\"AK\",\"AZ\",\"AR\",\"CA\",\"CO\",\"CT\",\"DE\",\"DC\",\"FL\",\"GA\",\"HI\",\"ID\",\"IL\",\"IN\",\"IA\",\"KS\",\"KY\",\"LA\",\"ME\",\"MD\",\"MA\",\"MI\",\"MN\",\"MS\",\"MO\",\"MT\",\"NE\",\"NV\",\"NH\",\"NJ\",\"NM\",\"NY\",\"NC\",\"ND\",\"OH\",\"OK\",\"OR\",\"PA\",\"RI\",\"SC\",\"SD\",\"TN\",\"TX\",\"UT\",\"VT\",\"VA\",\"WA\",\"WV\",\"WI\",\"WY\",\"PR\"],\"year\":[2010,2010,2010,2010,2010,2010,2010,2010,2010,2010,2010,2010,2010,2010,2010,2010,2010,2010,2010,2010,2010,2010,2010,2010,2010,2010,2010,2010,2010,2010,2010,2010,2010,2010,2010,2010,2010,2010,2010,2010,2010,2010,2010,2010,2010,2010,2010,2010,2010,2010,2010,2010]},\"selected\":{\"id\":\"1461\"},\"selection_policy\":{\"id\":\"1460\"}},\"id\":\"1441\",\"type\":\"ColumnDataSource\"},{\"attributes\":{},\"id\":\"1047\",\"type\":\"BasicTickFormatter\"},{\"attributes\":{\"fill_alpha\":{\"value\":0.1},\"fill_color\":{\"value\":\"blue\"},\"hatch_alpha\":{\"value\":0.1},\"hatch_color\":{\"value\":\"blue\"},\"line_alpha\":{\"value\":0.1},\"line_color\":{\"value\":\"blue\"},\"x\":{\"field\":\"population\"},\"y\":{\"field\":\"area (sq. mi)\"}},\"id\":\"1037\",\"type\":\"Circle\"},{\"attributes\":{},\"id\":\"1021\",\"type\":\"WheelZoomTool\"},{\"attributes\":{},\"id\":\"1020\",\"type\":\"PanTool\"},{\"attributes\":{\"overlay\":{\"id\":\"1026\"}},\"id\":\"1022\",\"type\":\"BoxZoomTool\"},{\"attributes\":{},\"id\":\"1023\",\"type\":\"SaveTool\"},{\"attributes\":{\"source\":{\"id\":\"1441\"}},\"id\":\"1447\",\"type\":\"CDSView\"},{\"attributes\":{},\"id\":\"1048\",\"type\":\"AllLabels\"},{\"attributes\":{},\"id\":\"1024\",\"type\":\"ResetTool\"},{\"attributes\":{\"data\":{\"ages\":[\"total\",\"total\",\"total\",\"total\",\"total\",\"total\",\"total\",\"total\",\"total\",\"total\",\"total\",\"total\",\"total\",\"total\",\"total\",\"total\",\"total\",\"total\",\"total\",\"total\",\"total\",\"total\",\"total\",\"total\",\"total\",\"total\",\"total\",\"total\",\"total\",\"total\",\"total\",\"total\",\"total\",\"total\",\"total\",\"total\",\"total\",\"total\",\"total\",\"total\",\"total\",\"total\",\"total\",\"total\",\"total\",\"total\",\"total\",\"total\",\"total\",\"total\",\"total\",\"total\"],\"area (sq. mi)\":{\"__ndarray__\":\"AAAAAOCY6UAAAAAAUggkQQAAAABg1ftAAAAAAMD36UAAAAAA2PsDQQAAAABAavlAAAAAAACotUAAAAAAAIieQAAAAAAAAFFAAAAAAOAN8EAAAAAAIAbtQAAAAAAAWsVAAAAAAGBn9EAAAAAAwEfsQAAAAACAyOFAAAAAAIB660AAAAAAoBb0QAAAAABgu+NAAAAAAGBQ6UAAAAAAYEfhQAAAAACAO8hAAAAAAICdxEAAAAAAoKL3QAAAAADwOfVAAAAAAECm50AAAAAA0ATxQAAAAAAw8wFBAAAAAODi8kAAAAAAcP76QAAAAACAQ8JAAAAAAAAJwUAAAAAAkK/9QAAAAABgmepAAAAAAKBH6kAAAAAAAEPxQAAAAACA4+VAAAAAAPAQ8UAAAAAAIAX4QAAAAABAfeZAAAAAAAAkmEAAAAAAwEHfQAAAAAAQ1PJAAAAAAECU5EAAAAAA5GQQQQAAAACAuvRAAAAAAIDHwkAAAAAAIOLkQAAAAABwaPFAAAAAAMCp10AAAAAA4PvvQAAAAACg4fdAAAAAAAB2q0A=\",\"dtype\":\"float64\",\"order\":\"little\",\"shape\":[52]},\"index\":[3,91,101,189,197,283,293,379,389,475,485,570,581,666,677,762,773,858,869,954,965,1050,1061,1146,1157,1242,1253,1338,1349,1434,1445,1530,1541,1626,1637,1722,1733,1818,1829,1914,1925,2010,2021,2106,2117,2202,2213,2298,2309,2394,2405,2490],\"population\":{\"__ndarray__\":\"AAAAgGhBUkEAAAAAGMklQQAAAICVclhBAAAAAJRLRkEAAAAIU82BQQAAAADhQVNBAAAAAKVOS0EAAAAA/nQrQQAAAACKdyJBAAAAYBb5cUEAAAAAzIZiQQAAAAATzzRBAAAAAJ73N0EAAADgYX1oQQAAAEDbwVhBAAAAAKVFR0EAAAAAz89FQQAAAIDMlVBBAAAAANxWUUEAAAAABkE0QQAAAECOE1ZBAAAAwG8JWUEAAACgVtZiQQAAAEDgQVRBAAAAgN+oRkEAAADAh99WQQAAAAB+Oi5BAAAAAM7rO0EAAAAAv59EQQAAAAAGFzRBAAAAYDLKYEEAAAAAVoI/QQAAAEDlf3JBAAAAoL07YkEAAAAAUJQkQQAAAGBrBWZBAAAAgE+uTEEAAAAAjEZNQQAAAABJPmhBAAAAAP0PMEEAAABAsq9RQQAAAACm6ChBAAAAwLI/WEEAAACgXxN4QQAAAADMKkVBAAAAAAIZI0EAAABAWJxeQQAAAAA8uFlBAAAAAMJKPEEAAAAAubNVQQAAAAD8NyFBAAAAAPxjTEE=\",\"dtype\":\"float64\",\"order\":\"little\",\"shape\":[52]},\"state\":[\"Alabama\",\"Alaska\",\"Arizona\",\"Arkansas\",\"California\",\"Colorado\",\"Connecticut\",\"Delaware\",\"District of Columbia\",\"Florida\",\"Georgia\",\"Hawaii\",\"Idaho\",\"Illinois\",\"Indiana\",\"Iowa\",\"Kansas\",\"Kentucky\",\"Louisiana\",\"Maine\",\"Maryland\",\"Massachusetts\",\"Michigan\",\"Minnesota\",\"Mississippi\",\"Missouri\",\"Montana\",\"Nebraska\",\"Nevada\",\"New Hampshire\",\"New Jersey\",\"New Mexico\",\"New York\",\"North Carolina\",\"North Dakota\",\"Ohio\",\"Oklahoma\",\"Oregon\",\"Pennsylvania\",\"Rhode Island\",\"South Carolina\",\"South Dakota\",\"Tennessee\",\"Texas\",\"Utah\",\"Vermont\",\"Virginia\",\"Washington\",\"West Virginia\",\"Wisconsin\",\"Wyoming\",\"Puerto Rico\"],\"state/region\":[\"AL\",\"AK\",\"AZ\",\"AR\",\"CA\",\"CO\",\"CT\",\"DE\",\"DC\",\"FL\",\"GA\",\"HI\",\"ID\",\"IL\",\"IN\",\"IA\",\"KS\",\"KY\",\"LA\",\"ME\",\"MD\",\"MA\",\"MI\",\"MN\",\"MS\",\"MO\",\"MT\",\"NE\",\"NV\",\"NH\",\"NJ\",\"NM\",\"NY\",\"NC\",\"ND\",\"OH\",\"OK\",\"OR\",\"PA\",\"RI\",\"SC\",\"SD\",\"TN\",\"TX\",\"UT\",\"VT\",\"VA\",\"WA\",\"WV\",\"WI\",\"WY\",\"PR\"],\"year\":[2010,2010,2010,2010,2010,2010,2010,2010,2010,2010,2010,2010,2010,2010,2010,2010,2010,2010,2010,2010,2010,2010,2010,2010,2010,2010,2010,2010,2010,2010,2010,2010,2010,2010,2010,2010,2010,2010,2010,2010,2010,2010,2010,2010,2010,2010,2010,2010,2010,2010,2010,2010]},\"selected\":{\"id\":\"1582\"},\"selection_policy\":{\"id\":\"1581\"}},\"id\":\"1560\",\"type\":\"ColumnDataSource\"},{\"attributes\":{\"fill_alpha\":{\"value\":0.1},\"fill_color\":{\"value\":\"blue\"},\"hatch_alpha\":{\"value\":0.1},\"hatch_color\":{\"value\":\"blue\"},\"line_alpha\":{\"value\":0.1},\"line_color\":{\"value\":\"blue\"},\"x\":{\"field\":\"population\"},\"y\":{\"field\":\"area (sq. mi)\"}},\"id\":\"1563\",\"type\":\"Circle\"},{\"attributes\":{\"fill_alpha\":{\"value\":0.2},\"fill_color\":{\"value\":\"blue\"},\"hatch_alpha\":{\"value\":0.2},\"hatch_color\":{\"value\":\"blue\"},\"line_alpha\":{\"value\":0.2},\"line_color\":{\"value\":\"blue\"},\"x\":{\"field\":\"population\"},\"y\":{\"field\":\"area (sq. mi)\"}},\"id\":\"1445\",\"type\":\"Circle\"},{\"attributes\":{\"bottom_units\":\"screen\",\"coordinates\":null,\"fill_alpha\":0.5,\"fill_color\":\"lightgrey\",\"group\":null,\"left_units\":\"screen\",\"level\":\"overlay\",\"line_alpha\":1.0,\"line_color\":\"black\",\"line_dash\":[4,4],\"line_width\":2,\"right_units\":\"screen\",\"syncable\":false,\"top_units\":\"screen\"},\"id\":\"1026\",\"type\":\"BoxAnnotation\"},{\"attributes\":{\"fill_color\":{\"value\":\"blue\"},\"hatch_color\":{\"value\":\"blue\"},\"line_color\":{\"value\":\"blue\"},\"x\":{\"field\":\"population\"},\"y\":{\"field\":\"area (sq. mi)\"}},\"id\":\"1562\",\"type\":\"Circle\"},{\"attributes\":{\"fill_alpha\":{\"value\":0.2},\"fill_color\":{\"value\":\"blue\"},\"hatch_alpha\":{\"value\":0.2},\"hatch_color\":{\"value\":\"blue\"},\"line_alpha\":{\"value\":0.2},\"line_color\":{\"value\":\"blue\"},\"x\":{\"field\":\"population\"},\"y\":{\"field\":\"area (sq. mi)\"}},\"id\":\"1038\",\"type\":\"Circle\"},{\"attributes\":{\"fill_color\":{\"value\":\"blue\"},\"hatch_color\":{\"value\":\"blue\"},\"line_color\":{\"value\":\"blue\"},\"x\":{\"field\":\"population\"},\"y\":{\"field\":\"area (sq. mi)\"}},\"id\":\"1109\",\"type\":\"Circle\"},{\"attributes\":{},\"id\":\"1124\",\"type\":\"UnionRenderers\"},{\"attributes\":{},\"id\":\"1004\",\"type\":\"DataRange1d\"},{\"attributes\":{},\"id\":\"1044\",\"type\":\"BasicTickFormatter\"},{\"attributes\":{},\"id\":\"1582\",\"type\":\"Selection\"},{\"attributes\":{\"fill_alpha\":{\"value\":0.1},\"fill_color\":{\"value\":\"blue\"},\"hatch_alpha\":{\"value\":0.1},\"hatch_color\":{\"value\":\"blue\"},\"line_alpha\":{\"value\":0.1},\"line_color\":{\"value\":\"blue\"},\"x\":{\"field\":\"population\"},\"y\":{\"field\":\"area (sq. mi)\"}},\"id\":\"1110\",\"type\":\"Circle\"},{\"attributes\":{},\"id\":\"1581\",\"type\":\"UnionRenderers\"},{\"attributes\":{\"fill_color\":{\"value\":\"blue\"},\"hatch_color\":{\"value\":\"blue\"},\"line_color\":{\"value\":\"blue\"},\"x\":{\"field\":\"population\"},\"y\":{\"field\":\"area (sq. mi)\"}},\"id\":\"1443\",\"type\":\"Circle\"},{\"attributes\":{\"source\":{\"id\":\"1560\"}},\"id\":\"1566\",\"type\":\"CDSView\"},{\"attributes\":{},\"id\":\"1010\",\"type\":\"LinearScale\"},{\"attributes\":{\"data\":{\"ages\":[\"under18\",\"total\",\"under18\",\"total\",\"under18\",\"total\",\"under18\",\"total\",\"under18\",\"total\",\"under18\",\"total\",\"under18\",\"total\",\"under18\",\"total\",\"under18\",\"total\",\"under18\",\"total\",\"total\",\"under18\",\"under18\",\"total\",\"total\",\"under18\",\"under18\",\"total\",\"total\",\"under18\",\"under18\",\"total\",\"total\",\"under18\",\"under18\",\"total\",\"total\",\"under18\",\"under18\",\"total\",\"total\",\"under18\",\"under18\",\"total\",\"total\",\"under18\",\"under18\",\"total\",\"total\",\"under18\",\"under18\",\"total\",\"total\",\"under18\",\"under18\",\"total\",\"total\",\"under18\",\"under18\",\"total\",\"total\",\"under18\",\"under18\",\"total\",\"total\",\"under18\",\"under18\",\"total\",\"total\",\"under18\",\"under18\",\"total\",\"total\",\"under18\",\"under18\",\"total\",\"total\",\"under18\",\"under18\",\"total\",\"total\",\"under18\",\"under18\",\"total\",\"total\",\"under18\",\"under18\",\"total\",\"total\",\"under18\",\"under18\",\"total\",\"total\",\"under18\",\"under18\",\"total\",\"total\",\"under18\",\"under18\",\"total\",\"total\",\"under18\",\"under18\",\"total\"],\"area (sq. mi)\":{\"__ndarray__\":\"AAAAAOCY6UAAAAAA4JjpQAAAAABSCCRBAAAAAFIIJEEAAAAAYNX7QAAAAABg1ftAAAAAAMD36UAAAAAAwPfpQAAAAABAavlAAAAAAEBq+UAAAAAAAKi1QAAAAAAAqLVAAAAAAACInkAAAAAAAIieQAAAAAAAAFFAAAAAAAAAUUAAAAAA4A3wQAAAAADgDfBAAAAAACAG7UAAAAAAIAbtQAAAAAAAWsVAAAAAAABaxUAAAAAAYGf0QAAAAABgZ/RAAAAAAMBH7EAAAAAAwEfsQAAAAACAyOFAAAAAAIDI4UAAAAAAgHrrQAAAAACAeutAAAAAAKAW9EAAAAAAoBb0QAAAAABgu+NAAAAAAGC740AAAAAAYFDpQAAAAABgUOlAAAAAAGBH4UAAAAAAYEfhQAAAAACAO8hAAAAAAIA7yEAAAAAAgJ3EQAAAAACAncRAAAAAAKCi90AAAAAAoKL3QAAAAADwOfVAAAAAAPA59UAAAAAAQKbnQAAAAABApudAAAAAANAE8UAAAAAA0ATxQAAAAAAw8wFBAAAAADDzAUEAAAAA4OLyQAAAAADg4vJAAAAAAHD++kAAAAAAcP76QAAAAACAQ8JAAAAAAIBDwkAAAAAAAAnBQAAAAAAACcFAAAAAAJCv/UAAAAAAkK/9QAAAAABgmepAAAAAAGCZ6kAAAAAAoEfqQAAAAACgR+pAAAAAAABD8UAAAAAAAEPxQAAAAACA4+VAAAAAAIDj5UAAAAAA8BDxQAAAAADwEPFAAAAAACAF+EAAAAAAIAX4QAAAAABAfeZAAAAAAEB95kAAAAAAACSYQAAAAAAAJJhAAAAAAMBB30AAAAAAwEHfQAAAAAAQ1PJAAAAAABDU8kAAAAAAQJTkQAAAAABAlORAAAAAAORkEEEAAAAA5GQQQQAAAACAuvRAAAAAAIC69EAAAAAAgMfCQAAAAACAx8JAAAAAACDi5EAAAAAAIOLkQAAAAABwaPFAAAAAAHBo8UAAAAAAwKnXQAAAAADAqddAAAAAAOD770AAAAAA4PvvQAAAAACg4fdAAAAAAKDh90AAAAAAAHarQAAAAAAAdqtAAAAAgB/rTEEAAACAH+tMQQ==\",\"dtype\":\"float64\",\"order\":\"little\",\"shape\":[104]},\"index\":[2,3,90,91,100,101,188,189,282,283,292,293,378,379,388,389,474,475,484,485,570,571,580,581,666,667,676,677,762,763,772,773,858,859,868,869,954,955,964,965,1050,1051,1060,1061,1146,1147,1156,1157,1242,1243,1252,1253,1338,1339,1348,1349,1434,1435,1444,1445,1530,1531,1540,1541,1626,1627,1636,1637,1722,1723,1732,1733,1818,1819,1828,1829,1914,1915,1924,1925,2010,2011,2020,2021,2106,2107,2116,2117,2202,2203,2212,2213,2298,2299,2308,2309,2394,2395,2404,2405,2490,2491,2538,2539],\"population\":{\"__ndarray__\":\"AAAAANZBMUEAAACAaEFSQQAAAADw7wZBAAAAABjJJUEAAAAAk9k4QQAAAICVclhBAAAAABa6JUEAAAAAlEtGQQAAAAB7tzJBAAAAAOFBU0EAAAAA1tgoQQAAAAClTktBAAAAADAVCUEAAAAA/nQrQQAAAADQu/hAAAAAAIp3IkEAAAAAloNOQQAAAGAW+XFBAAAAAAIBQ0EAAAAAzIZiQQAAAAATzzRBAAAAABCLEkEAAAAAhC4aQQAAAACe9zdBAAAA4GF9aEEAAAAA1tFHQQAAAAD7gDhBAAAAQNvBWEEAAAAApUVHQQAAAABKNSZBAAAAAGI1JkEAAAAAz89FQQAAAIDMlVBBAAAAAH49L0EAAAAAcBExQQAAAADcVlFBAAAAAAZBNEEAAAAAlKoQQQAAAAAvoTRBAAAAQI4TVkEAAADAbwlZQQAAAAAamzVBAAAAgODMQUEAAACgVtZiQQAAAEDgQVRBAAAAAIWSM0EAAAAAfgMnQQAAAIDfqEZBAAAAwIffVkEAAAAAqro1QQAAAADgQQtBAAAAAH46LkEAAAAAzus7QQAAAACUDRxBAAAAABg9JEEAAAAAv59EQQAAAAAGFzRBAAAAABhwEUEAAAAAvXY/QQAAAGAyymBBAAAAAFaCP0EAAAAArKkfQQAAAEDUeFBBAAAAQOV/ckEAAACgvTtiQQAAAACYaUFBAAAAABhVAkEAAAAAUJQkQQAAAGBrBWZBAAAAgI7FREEAAAAANm0sQQAAAIBPrkxBAAAAAIxGTUEAAAAA0mYqQQAAAAASQEVBAAAAAEk+aEEAAAAA/Q8wQQAAAACAOwtBAAAAAKp6MEEAAABAsq9RQQAAAACm6ChBAAAAAEjMCEEAAAAAMtA2QQAAAMCyP1hBAAAAoF8TeEEAAACAyT1aQQAAAAB2pCpBAAAAAMwqRUEAAAAAAhkjQQAAAACQZf9AAAAAADFOPEEAAABAWJxeQQAAAAA8uFlBAAAAAHwhOEEAAAAAYKIXQQAAAADCSjxBAAAAALmzVUEAAAAAHmM0QQAAAAC4hQBBAAAAAPw3IUEAAAAA/GNMQQAAAABiXytBAAAAEOarkUEAAADX8W+yQQ==\",\"dtype\":\"float64\",\"order\":\"little\",\"shape\":[104]},\"state\":[\"Alabama\",\"Alabama\",\"Alaska\",\"Alaska\",\"Arizona\",\"Arizona\",\"Arkansas\",\"Arkansas\",\"Colorado\",\"Colorado\",\"Connecticut\",\"Connecticut\",\"Delaware\",\"Delaware\",\"District of Columbia\",\"District of Columbia\",\"Florida\",\"Florida\",\"Georgia\",\"Georgia\",\"Hawaii\",\"Hawaii\",\"Idaho\",\"Idaho\",\"Illinois\",\"Illinois\",\"Indiana\",\"Indiana\",\"Iowa\",\"Iowa\",\"Kansas\",\"Kansas\",\"Kentucky\",\"Kentucky\",\"Louisiana\",\"Louisiana\",\"Maine\",\"Maine\",\"Maryland\",\"Maryland\",\"Massachusetts\",\"Massachusetts\",\"Michigan\",\"Michigan\",\"Minnesota\",\"Minnesota\",\"Mississippi\",\"Mississippi\",\"Missouri\",\"Missouri\",\"Montana\",\"Montana\",\"Nebraska\",\"Nebraska\",\"Nevada\",\"Nevada\",\"New Hampshire\",\"New Hampshire\",\"New Jersey\",\"New Jersey\",\"New Mexico\",\"New Mexico\",\"New York\",\"New York\",\"North Carolina\",\"North Carolina\",\"North Dakota\",\"North Dakota\",\"Ohio\",\"Ohio\",\"Oklahoma\",\"Oklahoma\",\"Oregon\",\"Oregon\",\"Pennsylvania\",\"Pennsylvania\",\"Rhode Island\",\"Rhode Island\",\"South Carolina\",\"South Carolina\",\"South Dakota\",\"South Dakota\",\"Tennessee\",\"Tennessee\",\"Texas\",\"Texas\",\"Utah\",\"Utah\",\"Vermont\",\"Vermont\",\"Virginia\",\"Virginia\",\"Washington\",\"Washington\",\"West Virginia\",\"West Virginia\",\"Wisconsin\",\"Wisconsin\",\"Wyoming\",\"Wyoming\",\"Puerto Rico\",\"Puerto Rico\",\"United States\",\"United States\"],\"state/region\":[\"AL\",\"AL\",\"AK\",\"AK\",\"AZ\",\"AZ\",\"AR\",\"AR\",\"CO\",\"CO\",\"CT\",\"CT\",\"DE\",\"DE\",\"DC\",\"DC\",\"FL\",\"FL\",\"GA\",\"GA\",\"HI\",\"HI\",\"ID\",\"ID\",\"IL\",\"IL\",\"IN\",\"IN\",\"IA\",\"IA\",\"KS\",\"KS\",\"KY\",\"KY\",\"LA\",\"LA\",\"ME\",\"ME\",\"MD\",\"MD\",\"MA\",\"MA\",\"MI\",\"MI\",\"MN\",\"MN\",\"MS\",\"MS\",\"MO\",\"MO\",\"MT\",\"MT\",\"NE\",\"NE\",\"NV\",\"NV\",\"NH\",\"NH\",\"NJ\",\"NJ\",\"NM\",\"NM\",\"NY\",\"NY\",\"NC\",\"NC\",\"ND\",\"ND\",\"OH\",\"OH\",\"OK\",\"OK\",\"OR\",\"OR\",\"PA\",\"PA\",\"RI\",\"RI\",\"SC\",\"SC\",\"SD\",\"SD\",\"TN\",\"TN\",\"TX\",\"TX\",\"UT\",\"UT\",\"VT\",\"VT\",\"VA\",\"VA\",\"WA\",\"WA\",\"WV\",\"WV\",\"WI\",\"WI\",\"WY\",\"WY\",\"PR\",\"PR\",\"USA\",\"USA\"],\"year\":[2010,2010,2010,2010,2010,2010,2010,2010,2010,2010,2010,2010,2010,2010,2010,2010,2010,2010,2010,2010,2010,2010,2010,2010,2010,2010,2010,2010,2010,2010,2010,2010,2010,2010,2010,2010,2010,2010,2010,2010,2010,2010,2010,2010,2010,2010,2010,2010,2010,2010,2010,2010,2010,2010,2010,2010,2010,2010,2010,2010,2010,2010,2010,2010,2010,2010,2010,2010,2010,2010,2010,2010,2010,2010,2010,2010,2010,2010,2010,2010,2010,2010,2010,2010,2010,2010,2010,2010,2010,2010,2010,2010,2010,2010,2010,2010,2010,2010,2010,2010,2010,2010,2010,2010]},\"selected\":{\"id\":\"1050\"},\"selection_policy\":{\"id\":\"1049\"}},\"id\":\"1034\",\"type\":\"ColumnDataSource\"},{\"attributes\":{},\"id\":\"1461\",\"type\":\"Selection\"},{\"attributes\":{\"coordinates\":null,\"data_source\":{\"id\":\"1034\"},\"glyph\":{\"id\":\"1036\"},\"group\":null,\"hover_glyph\":null,\"muted_glyph\":{\"id\":\"1038\"},\"nonselection_glyph\":{\"id\":\"1037\"},\"view\":{\"id\":\"1040\"}},\"id\":\"1039\",\"type\":\"GlyphRenderer\"},{\"attributes\":{\"source\":{\"id\":\"1107\"}},\"id\":\"1113\",\"type\":\"CDSView\"},{\"attributes\":{\"fill_alpha\":{\"value\":0.2},\"fill_color\":{\"value\":\"blue\"},\"hatch_alpha\":{\"value\":0.2},\"hatch_color\":{\"value\":\"blue\"},\"line_alpha\":{\"value\":0.2},\"line_color\":{\"value\":\"blue\"},\"x\":{\"field\":\"population\"},\"y\":{\"field\":\"area (sq. mi)\"}},\"id\":\"1564\",\"type\":\"Circle\"},{\"attributes\":{\"fill_alpha\":{\"value\":0.1},\"fill_color\":{\"value\":\"blue\"},\"hatch_alpha\":{\"value\":0.1},\"hatch_color\":{\"value\":\"blue\"},\"line_alpha\":{\"value\":0.1},\"line_color\":{\"value\":\"blue\"},\"x\":{\"field\":\"population\"},\"y\":{\"field\":\"area (sq. mi)\"}},\"id\":\"1444\",\"type\":\"Circle\"},{\"attributes\":{},\"id\":\"1125\",\"type\":\"Selection\"},{\"attributes\":{\"tools\":[{\"id\":\"1020\"},{\"id\":\"1021\"},{\"id\":\"1022\"},{\"id\":\"1023\"},{\"id\":\"1024\"},{\"id\":\"1025\"}]},\"id\":\"1027\",\"type\":\"Toolbar\"},{\"attributes\":{\"coordinates\":null,\"formatter\":{\"id\":\"1047\"},\"group\":null,\"major_label_policy\":{\"id\":\"1048\"},\"ticker\":{\"id\":\"1013\"}},\"id\":\"1012\",\"type\":\"LinearAxis\"},{\"attributes\":{\"coordinates\":null,\"data_source\":{\"id\":\"1107\"},\"glyph\":{\"id\":\"1109\"},\"group\":null,\"hover_glyph\":null,\"muted_glyph\":{\"id\":\"1111\"},\"nonselection_glyph\":{\"id\":\"1110\"},\"view\":{\"id\":\"1113\"}},\"id\":\"1112\",\"type\":\"GlyphRenderer\"},{\"attributes\":{\"coordinates\":null,\"group\":null},\"id\":\"1041\",\"type\":\"Title\"},{\"attributes\":{},\"id\":\"1460\",\"type\":\"UnionRenderers\"},{\"attributes\":{\"fill_color\":{\"value\":\"blue\"},\"hatch_color\":{\"value\":\"blue\"},\"line_color\":{\"value\":\"blue\"},\"x\":{\"field\":\"population\"},\"y\":{\"field\":\"area (sq. mi)\"}},\"id\":\"1036\",\"type\":\"Circle\"},{\"attributes\":{\"fill_alpha\":{\"value\":0.2},\"fill_color\":{\"value\":\"blue\"},\"hatch_alpha\":{\"value\":0.2},\"hatch_color\":{\"value\":\"blue\"},\"line_alpha\":{\"value\":0.2},\"line_color\":{\"value\":\"blue\"},\"x\":{\"field\":\"population\"},\"y\":{\"field\":\"area (sq. mi)\"}},\"id\":\"1111\",\"type\":\"Circle\"},{\"attributes\":{\"coordinates\":null,\"data_source\":{\"id\":\"1441\"},\"glyph\":{\"id\":\"1443\"},\"group\":null,\"hover_glyph\":null,\"muted_glyph\":{\"id\":\"1445\"},\"nonselection_glyph\":{\"id\":\"1444\"},\"view\":{\"id\":\"1447\"}},\"id\":\"1446\",\"type\":\"GlyphRenderer\"},{\"attributes\":{\"axis\":{\"id\":\"1012\"},\"coordinates\":null,\"group\":null,\"ticker\":null},\"id\":\"1015\",\"type\":\"Grid\"},{\"attributes\":{},\"id\":\"1045\",\"type\":\"AllLabels\"},{\"attributes\":{},\"id\":\"1006\",\"type\":\"DataRange1d\"},{\"attributes\":{\"coordinates\":null,\"data_source\":{\"id\":\"1560\"},\"glyph\":{\"id\":\"1562\"},\"group\":null,\"hover_glyph\":null,\"muted_glyph\":{\"id\":\"1564\"},\"nonselection_glyph\":{\"id\":\"1563\"},\"view\":{\"id\":\"1566\"}},\"id\":\"1565\",\"type\":\"GlyphRenderer\"},{\"attributes\":{\"source\":{\"id\":\"1034\"}},\"id\":\"1040\",\"type\":\"CDSView\"},{\"attributes\":{\"data\":{\"ages\":[\"under18\",\"total\",\"under18\",\"total\",\"under18\",\"total\",\"under18\",\"total\",\"under18\",\"total\",\"under18\",\"total\",\"under18\",\"total\",\"under18\",\"total\",\"under18\",\"total\",\"under18\",\"total\",\"under18\",\"total\",\"total\",\"under18\",\"under18\",\"total\",\"total\",\"under18\",\"under18\",\"total\",\"total\",\"under18\",\"under18\",\"total\",\"total\",\"under18\",\"under18\",\"total\",\"total\",\"under18\",\"under18\",\"total\",\"total\",\"under18\",\"under18\",\"total\",\"total\",\"under18\",\"under18\",\"total\",\"total\",\"under18\",\"under18\",\"total\",\"total\",\"under18\",\"under18\",\"total\",\"total\",\"under18\",\"under18\",\"total\",\"total\",\"under18\",\"under18\",\"total\",\"total\",\"under18\",\"under18\",\"total\",\"total\",\"under18\",\"under18\",\"total\",\"total\",\"under18\",\"under18\",\"total\",\"total\",\"under18\",\"under18\",\"total\",\"total\",\"under18\",\"under18\",\"total\",\"total\",\"under18\",\"under18\",\"total\",\"total\",\"under18\",\"under18\",\"total\",\"total\",\"under18\",\"under18\",\"total\",\"total\",\"under18\",\"under18\",\"total\",\"total\",\"under18\"],\"area (sq. mi)\":{\"__ndarray__\":\"AAAAAOCY6UAAAAAA4JjpQAAAAABSCCRBAAAAAFIIJEEAAAAAYNX7QAAAAABg1ftAAAAAAMD36UAAAAAAwPfpQAAAAADY+wNBAAAAANj7A0EAAAAAQGr5QAAAAABAavlAAAAAAACotUAAAAAAAKi1QAAAAAAAiJ5AAAAAAACInkAAAAAAAABRQAAAAAAAAFFAAAAAAOAN8EAAAAAA4A3wQAAAAAAgBu1AAAAAACAG7UAAAAAAAFrFQAAAAAAAWsVAAAAAAGBn9EAAAAAAYGf0QAAAAADAR+xAAAAAAMBH7EAAAAAAgMjhQAAAAACAyOFAAAAAAIB660AAAAAAgHrrQAAAAACgFvRAAAAAAKAW9EAAAAAAYLvjQAAAAABgu+NAAAAAAGBQ6UAAAAAAYFDpQAAAAABgR+FAAAAAAGBH4UAAAAAAgDvIQAAAAACAO8hAAAAAAICdxEAAAAAAgJ3EQAAAAACgovdAAAAAAKCi90AAAAAA8Dn1QAAAAADwOfVAAAAAAECm50AAAAAAQKbnQAAAAADQBPFAAAAAANAE8UAAAAAAMPMBQQAAAAAw8wFBAAAAAODi8kAAAAAA4OLyQAAAAABw/vpAAAAAAHD++kAAAAAAgEPCQAAAAACAQ8JAAAAAAAAJwUAAAAAAAAnBQAAAAACQr/1AAAAAAJCv/UAAAAAAYJnqQAAAAABgmepAAAAAAKBH6kAAAAAAoEfqQAAAAAAAQ/FAAAAAAABD8UAAAAAAgOPlQAAAAACA4+VAAAAAAPAQ8UAAAAAA8BDxQAAAAAAgBfhAAAAAACAF+EAAAAAAQH3mQAAAAABAfeZAAAAAAAAkmEAAAAAAACSYQAAAAADAQd9AAAAAAMBB30AAAAAAENTyQAAAAAAQ1PJAAAAAAECU5EAAAAAAQJTkQAAAAADkZBBBAAAAAORkEEEAAAAAgLr0QAAAAACAuvRAAAAAAIDHwkAAAAAAgMfCQAAAAAAg4uRAAAAAACDi5EAAAAAAcGjxQAAAAABwaPFAAAAAAMCp10AAAAAAwKnXQAAAAADg++9AAAAAAOD770AAAAAAoOH3QAAAAACg4fdAAAAAAAB2q0AAAAAAAHarQA==\",\"dtype\":\"float64\",\"order\":\"little\",\"shape\":[104]},\"index\":[2,3,90,91,100,101,188,189,196,197,282,283,292,293,378,379,388,389,474,475,484,485,570,571,580,581,666,667,676,677,762,763,772,773,858,859,868,869,954,955,964,965,1050,1051,1060,1061,1146,1147,1156,1157,1242,1243,1252,1253,1338,1339,1348,1349,1434,1435,1444,1445,1530,1531,1540,1541,1626,1627,1636,1637,1722,1723,1732,1733,1818,1819,1828,1829,1914,1915,1924,1925,2010,2011,2020,2021,2106,2107,2116,2117,2202,2203,2212,2213,2298,2299,2308,2309,2394,2395,2404,2405,2490,2491],\"population\":{\"__ndarray__\":\"AAAAANZBMUEAAACAaEFSQQAAAADw7wZBAAAAABjJJUEAAAAAk9k4QQAAAICVclhBAAAAABa6JUEAAAAAlEtGQQAAAMA/tWFBAAAACFPNgUEAAAAAe7cyQQAAAADhQVNBAAAAANbYKEEAAAAApU5LQQAAAAAwFQlBAAAAAP50K0EAAAAA0Lv4QAAAAACKdyJBAAAAAJaDTkEAAABgFvlxQQAAAAACAUNBAAAAAMyGYkEAAAAAE880QQAAAAAQixJBAAAAAIQuGkEAAAAAnvc3QQAAAOBhfWhBAAAAANbRR0EAAAAA+4A4QQAAAEDbwVhBAAAAAKVFR0EAAAAASjUmQQAAAABiNSZBAAAAAM/PRUEAAACAzJVQQQAAAAB+PS9BAAAAAHARMUEAAAAA3FZRQQAAAAAGQTRBAAAAAJSqEEEAAAAAL6E0QQAAAECOE1ZBAAAAwG8JWUEAAAAAGps1QQAAAIDgzEFBAAAAoFbWYkEAAABA4EFUQQAAAACFkjNBAAAAAH4DJ0EAAACA36hGQQAAAMCH31ZBAAAAAKq6NUEAAAAA4EELQQAAAAB+Oi5BAAAAAM7rO0EAAAAAlA0cQQAAAAAYPSRBAAAAAL+fREEAAAAABhc0QQAAAAAYcBFBAAAAAL12P0EAAABgMspgQQAAAABWgj9BAAAAAKypH0EAAABA1HhQQQAAAEDlf3JBAAAAoL07YkEAAAAAmGlBQQAAAAAYVQJBAAAAAFCUJEEAAABgawVmQQAAAICOxURBAAAAADZtLEEAAACAT65MQQAAAACMRk1BAAAAANJmKkEAAAAAEkBFQQAAAABJPmhBAAAAAP0PMEEAAAAAgDsLQQAAAACqejBBAAAAQLKvUUEAAAAApugoQQAAAABIzAhBAAAAADLQNkEAAADAsj9YQQAAAKBfE3hBAAAAgMk9WkEAAAAAdqQqQQAAAADMKkVBAAAAAAIZI0EAAAAAkGX/QAAAAAAxTjxBAAAAQFicXkEAAAAAPLhZQQAAAAB8IThBAAAAAGCiF0EAAAAAwko8QQAAAAC5s1VBAAAAAB5jNEEAAAAAuIUAQQAAAAD8NyFBAAAAAPxjTEEAAAAAYl8rQQ==\",\"dtype\":\"float64\",\"order\":\"little\",\"shape\":[104]},\"state\":[\"Alabama\",\"Alabama\",\"Alaska\",\"Alaska\",\"Arizona\",\"Arizona\",\"Arkansas\",\"Arkansas\",\"California\",\"California\",\"Colorado\",\"Colorado\",\"Connecticut\",\"Connecticut\",\"Delaware\",\"Delaware\",\"District of Columbia\",\"District of Columbia\",\"Florida\",\"Florida\",\"Georgia\",\"Georgia\",\"Hawaii\",\"Hawaii\",\"Idaho\",\"Idaho\",\"Illinois\",\"Illinois\",\"Indiana\",\"Indiana\",\"Iowa\",\"Iowa\",\"Kansas\",\"Kansas\",\"Kentucky\",\"Kentucky\",\"Louisiana\",\"Louisiana\",\"Maine\",\"Maine\",\"Maryland\",\"Maryland\",\"Massachusetts\",\"Massachusetts\",\"Michigan\",\"Michigan\",\"Minnesota\",\"Minnesota\",\"Mississippi\",\"Mississippi\",\"Missouri\",\"Missouri\",\"Montana\",\"Montana\",\"Nebraska\",\"Nebraska\",\"Nevada\",\"Nevada\",\"New Hampshire\",\"New Hampshire\",\"New Jersey\",\"New Jersey\",\"New Mexico\",\"New Mexico\",\"New York\",\"New York\",\"North Carolina\",\"North Carolina\",\"North Dakota\",\"North Dakota\",\"Ohio\",\"Ohio\",\"Oklahoma\",\"Oklahoma\",\"Oregon\",\"Oregon\",\"Pennsylvania\",\"Pennsylvania\",\"Rhode Island\",\"Rhode Island\",\"South Carolina\",\"South Carolina\",\"South Dakota\",\"South Dakota\",\"Tennessee\",\"Tennessee\",\"Texas\",\"Texas\",\"Utah\",\"Utah\",\"Vermont\",\"Vermont\",\"Virginia\",\"Virginia\",\"Washington\",\"Washington\",\"West Virginia\",\"West Virginia\",\"Wisconsin\",\"Wisconsin\",\"Wyoming\",\"Wyoming\",\"Puerto Rico\",\"Puerto Rico\"],\"state/region\":[\"AL\",\"AL\",\"AK\",\"AK\",\"AZ\",\"AZ\",\"AR\",\"AR\",\"CA\",\"CA\",\"CO\",\"CO\",\"CT\",\"CT\",\"DE\",\"DE\",\"DC\",\"DC\",\"FL\",\"FL\",\"GA\",\"GA\",\"HI\",\"HI\",\"ID\",\"ID\",\"IL\",\"IL\",\"IN\",\"IN\",\"IA\",\"IA\",\"KS\",\"KS\",\"KY\",\"KY\",\"LA\",\"LA\",\"ME\",\"ME\",\"MD\",\"MD\",\"MA\",\"MA\",\"MI\",\"MI\",\"MN\",\"MN\",\"MS\",\"MS\",\"MO\",\"MO\",\"MT\",\"MT\",\"NE\",\"NE\",\"NV\",\"NV\",\"NH\",\"NH\",\"NJ\",\"NJ\",\"NM\",\"NM\",\"NY\",\"NY\",\"NC\",\"NC\",\"ND\",\"ND\",\"OH\",\"OH\",\"OK\",\"OK\",\"OR\",\"OR\",\"PA\",\"PA\",\"RI\",\"RI\",\"SC\",\"SC\",\"SD\",\"SD\",\"TN\",\"TN\",\"TX\",\"TX\",\"UT\",\"UT\",\"VT\",\"VT\",\"VA\",\"VA\",\"WA\",\"WA\",\"WV\",\"WV\",\"WI\",\"WI\",\"WY\",\"WY\",\"PR\",\"PR\"],\"year\":[2010,2010,2010,2010,2010,2010,2010,2010,2010,2010,2010,2010,2010,2010,2010,2010,2010,2010,2010,2010,2010,2010,2010,2010,2010,2010,2010,2010,2010,2010,2010,2010,2010,2010,2010,2010,2010,2010,2010,2010,2010,2010,2010,2010,2010,2010,2010,2010,2010,2010,2010,2010,2010,2010,2010,2010,2010,2010,2010,2010,2010,2010,2010,2010,2010,2010,2010,2010,2010,2010,2010,2010,2010,2010,2010,2010,2010,2010,2010,2010,2010,2010,2010,2010,2010,2010,2010,2010,2010,2010,2010,2010,2010,2010,2010,2010,2010,2010,2010,2010,2010,2010,2010,2010]},\"selected\":{\"id\":\"1125\"},\"selection_policy\":{\"id\":\"1124\"}},\"id\":\"1107\",\"type\":\"ColumnDataSource\"},{\"attributes\":{},\"id\":\"1049\",\"type\":\"UnionRenderers\"},{\"attributes\":{},\"id\":\"1050\",\"type\":\"Selection\"},{\"attributes\":{\"coordinates\":null,\"formatter\":{\"id\":\"1044\"},\"group\":null,\"major_label_policy\":{\"id\":\"1045\"},\"ticker\":{\"id\":\"1017\"}},\"id\":\"1016\",\"type\":\"LinearAxis\"},{\"attributes\":{},\"id\":\"1008\",\"type\":\"LinearScale\"}],\"root_ids\":[\"1003\"]},\"title\":\"Bokeh Application\",\"version\":\"2.4.3\"}};\n",
       "  const render_items = [{\"docid\":\"8f0e846b-b80d-4c02-8b05-30a0c8040a84\",\"root_ids\":[\"1003\"],\"roots\":{\"1003\":\"68a917ba-087b-4c8a-b707-13f69a5a8445\"}}];\n",
       "  root.Bokeh.embed.embed_items_notebook(docs_json, render_items);\n",
       "  }\n",
       "  if (root.Bokeh !== undefined) {\n",
       "    embed_document(root);\n",
       "  } else {\n",
       "    let attempts = 0;\n",
       "    const timer = setInterval(function(root) {\n",
       "      if (root.Bokeh !== undefined) {\n",
       "        clearInterval(timer);\n",
       "        embed_document(root);\n",
       "      } else {\n",
       "        attempts++;\n",
       "        if (attempts > 100) {\n",
       "          clearInterval(timer);\n",
       "          console.log(\"Bokeh: ERROR: Unable to run BokehJS code because BokehJS library is missing\");\n",
       "        }\n",
       "      }\n",
       "    }, 10, root)\n",
       "  }\n",
       "})(window);"
      ],
      "application/vnd.bokehjs_exec.v0+json": ""
     },
     "metadata": {
      "application/vnd.bokehjs_exec.v0+json": {
       "id": "1003"
      }
     },
     "output_type": "display_data"
    }
   ],
   "source": [
    "p.circle(source=data2010, x='population', y='area (sq. mi)',color='blue')\n",
    "bokeh.io.show(p)"
   ]
  },
  {
   "cell_type": "code",
   "execution_count": 41,
   "metadata": {
    "colab": {
     "base_uri": "https://localhost:8080/",
     "height": 317
    },
    "executionInfo": {
     "elapsed": 2670,
     "status": "ok",
     "timestamp": 1652178822262,
     "user": {
      "displayName": "Daniel Strzelecki",
      "userId": "04998061441867974797"
     },
     "user_tz": -120
    },
    "id": "2GPDiW0eWaN4",
    "outputId": "980c20f9-f051-443c-8d37-1de893458f60"
   },
   "outputs": [
    {
     "data": {
      "text/html": [
       "\n",
       "  <div class=\"bk-root\" id=\"e6678a60-004c-41f9-b800-5dacf43b2406\" data-root-id=\"1691\"></div>\n"
      ]
     },
     "metadata": {},
     "output_type": "display_data"
    },
    {
     "data": {
      "application/javascript": [
       "(function(root) {\n",
       "  function embed_document(root) {\n",
       "  const docs_json = {\"04666bf7-aa4f-49f4-a722-40ac68fcc42d\":{\"defs\":[],\"roots\":{\"references\":[{\"attributes\":{\"below\":[{\"id\":\"1700\"}],\"center\":[{\"id\":\"1703\"},{\"id\":\"1707\"}],\"height\":300,\"left\":[{\"id\":\"1704\"}],\"renderers\":[{\"id\":\"1729\"}],\"title\":{\"id\":\"1770\"},\"toolbar\":{\"id\":\"1716\"},\"width\":400,\"x_range\":{\"id\":\"1692\"},\"x_scale\":{\"id\":\"1696\"},\"y_range\":{\"id\":\"1694\"},\"y_scale\":{\"id\":\"1698\"}},\"id\":\"1691\",\"subtype\":\"Figure\",\"type\":\"Plot\"},{\"attributes\":{},\"id\":\"1692\",\"type\":\"DataRange1d\"},{\"attributes\":{\"fill_alpha\":{\"value\":0.2},\"fill_color\":{\"value\":\"blue\"},\"hatch_alpha\":{\"value\":0.2},\"hatch_color\":{\"value\":\"blue\"},\"line_alpha\":{\"value\":0.2},\"line_color\":{\"value\":\"blue\"},\"x\":{\"field\":\"population\"},\"y\":{\"field\":\"area (sq. mi)\"}},\"id\":\"1728\",\"type\":\"Circle\"},{\"attributes\":{},\"id\":\"1709\",\"type\":\"WheelZoomTool\"},{\"attributes\":{\"tools\":[{\"id\":\"1708\"},{\"id\":\"1709\"},{\"id\":\"1710\"},{\"id\":\"1711\"},{\"id\":\"1712\"},{\"id\":\"1713\"},{\"id\":\"1715\"}]},\"id\":\"1716\",\"type\":\"Toolbar\"},{\"attributes\":{},\"id\":\"1701\",\"type\":\"BasicTicker\"},{\"attributes\":{},\"id\":\"1778\",\"type\":\"UnionRenderers\"},{\"attributes\":{\"axis\":{\"id\":\"1700\"},\"coordinates\":null,\"group\":null,\"ticker\":null},\"id\":\"1703\",\"type\":\"Grid\"},{\"attributes\":{},\"id\":\"1774\",\"type\":\"AllLabels\"},{\"attributes\":{},\"id\":\"1713\",\"type\":\"HelpTool\"},{\"attributes\":{},\"id\":\"1712\",\"type\":\"ResetTool\"},{\"attributes\":{\"overlay\":{\"id\":\"1714\"}},\"id\":\"1710\",\"type\":\"BoxZoomTool\"},{\"attributes\":{},\"id\":\"1779\",\"type\":\"Selection\"},{\"attributes\":{},\"id\":\"1705\",\"type\":\"BasicTicker\"},{\"attributes\":{\"source\":{\"id\":\"1724\"}},\"id\":\"1730\",\"type\":\"CDSView\"},{\"attributes\":{\"coordinates\":null,\"data_source\":{\"id\":\"1724\"},\"glyph\":{\"id\":\"1726\"},\"group\":null,\"hover_glyph\":null,\"muted_glyph\":{\"id\":\"1728\"},\"nonselection_glyph\":{\"id\":\"1727\"},\"view\":{\"id\":\"1730\"}},\"id\":\"1729\",\"type\":\"GlyphRenderer\"},{\"attributes\":{\"callback\":null,\"tooltips\":[[\"stan\",\"@state\"]]},\"id\":\"1715\",\"type\":\"HoverTool\"},{\"attributes\":{\"bottom_units\":\"screen\",\"coordinates\":null,\"fill_alpha\":0.5,\"fill_color\":\"lightgrey\",\"group\":null,\"left_units\":\"screen\",\"level\":\"overlay\",\"line_alpha\":1.0,\"line_color\":\"black\",\"line_dash\":[4,4],\"line_width\":2,\"right_units\":\"screen\",\"syncable\":false,\"top_units\":\"screen\"},\"id\":\"1714\",\"type\":\"BoxAnnotation\"},{\"attributes\":{},\"id\":\"1773\",\"type\":\"BasicTickFormatter\"},{\"attributes\":{},\"id\":\"1708\",\"type\":\"PanTool\"},{\"attributes\":{},\"id\":\"1696\",\"type\":\"LinearScale\"},{\"attributes\":{\"axis\":{\"id\":\"1704\"},\"coordinates\":null,\"dimension\":1,\"group\":null,\"ticker\":null},\"id\":\"1707\",\"type\":\"Grid\"},{\"attributes\":{\"fill_color\":{\"value\":\"blue\"},\"hatch_color\":{\"value\":\"blue\"},\"line_color\":{\"value\":\"blue\"},\"x\":{\"field\":\"population\"},\"y\":{\"field\":\"area (sq. mi)\"}},\"id\":\"1726\",\"type\":\"Circle\"},{\"attributes\":{\"coordinates\":null,\"formatter\":{\"id\":\"1773\"},\"group\":null,\"major_label_policy\":{\"id\":\"1774\"},\"ticker\":{\"id\":\"1705\"}},\"id\":\"1704\",\"type\":\"LinearAxis\"},{\"attributes\":{\"coordinates\":null,\"formatter\":{\"id\":\"1776\"},\"group\":null,\"major_label_policy\":{\"id\":\"1777\"},\"ticker\":{\"id\":\"1701\"}},\"id\":\"1700\",\"type\":\"LinearAxis\"},{\"attributes\":{},\"id\":\"1711\",\"type\":\"SaveTool\"},{\"attributes\":{\"data\":{\"ages\":[\"total\",\"total\",\"total\",\"total\",\"total\",\"total\",\"total\",\"total\",\"total\",\"total\",\"total\",\"total\",\"total\",\"total\",\"total\",\"total\",\"total\",\"total\",\"total\",\"total\",\"total\",\"total\",\"total\",\"total\",\"total\",\"total\",\"total\",\"total\",\"total\",\"total\",\"total\",\"total\",\"total\",\"total\",\"total\",\"total\",\"total\",\"total\",\"total\",\"total\",\"total\",\"total\",\"total\",\"total\",\"total\",\"total\",\"total\",\"total\",\"total\",\"total\",\"total\",\"total\"],\"area (sq. mi)\":{\"__ndarray__\":\"AAAAAOCY6UAAAAAAUggkQQAAAABg1ftAAAAAAMD36UAAAAAA2PsDQQAAAABAavlAAAAAAACotUAAAAAAAIieQAAAAAAAAFFAAAAAAOAN8EAAAAAAIAbtQAAAAAAAWsVAAAAAAGBn9EAAAAAAwEfsQAAAAACAyOFAAAAAAIB660AAAAAAoBb0QAAAAABgu+NAAAAAAGBQ6UAAAAAAYEfhQAAAAACAO8hAAAAAAICdxEAAAAAAoKL3QAAAAADwOfVAAAAAAECm50AAAAAA0ATxQAAAAAAw8wFBAAAAAODi8kAAAAAAcP76QAAAAACAQ8JAAAAAAAAJwUAAAAAAkK/9QAAAAABgmepAAAAAAKBH6kAAAAAAAEPxQAAAAACA4+VAAAAAAPAQ8UAAAAAAIAX4QAAAAABAfeZAAAAAAAAkmEAAAAAAwEHfQAAAAAAQ1PJAAAAAAECU5EAAAAAA5GQQQQAAAACAuvRAAAAAAIDHwkAAAAAAIOLkQAAAAABwaPFAAAAAAMCp10AAAAAA4PvvQAAAAACg4fdAAAAAAAB2q0A=\",\"dtype\":\"float64\",\"order\":\"little\",\"shape\":[52]},\"index\":[3,91,101,189,197,283,293,379,389,475,485,570,581,666,677,762,773,858,869,954,965,1050,1061,1146,1157,1242,1253,1338,1349,1434,1445,1530,1541,1626,1637,1722,1733,1818,1829,1914,1925,2010,2021,2106,2117,2202,2213,2298,2309,2394,2405,2490],\"population\":{\"__ndarray__\":\"AAAAgGhBUkEAAAAAGMklQQAAAICVclhBAAAAAJRLRkEAAAAIU82BQQAAAADhQVNBAAAAAKVOS0EAAAAA/nQrQQAAAACKdyJBAAAAYBb5cUEAAAAAzIZiQQAAAAATzzRBAAAAAJ73N0EAAADgYX1oQQAAAEDbwVhBAAAAAKVFR0EAAAAAz89FQQAAAIDMlVBBAAAAANxWUUEAAAAABkE0QQAAAECOE1ZBAAAAwG8JWUEAAACgVtZiQQAAAEDgQVRBAAAAgN+oRkEAAADAh99WQQAAAAB+Oi5BAAAAAM7rO0EAAAAAv59EQQAAAAAGFzRBAAAAYDLKYEEAAAAAVoI/QQAAAEDlf3JBAAAAoL07YkEAAAAAUJQkQQAAAGBrBWZBAAAAgE+uTEEAAAAAjEZNQQAAAABJPmhBAAAAAP0PMEEAAABAsq9RQQAAAACm6ChBAAAAwLI/WEEAAACgXxN4QQAAAADMKkVBAAAAAAIZI0EAAABAWJxeQQAAAAA8uFlBAAAAAMJKPEEAAAAAubNVQQAAAAD8NyFBAAAAAPxjTEE=\",\"dtype\":\"float64\",\"order\":\"little\",\"shape\":[52]},\"state\":[\"Alabama\",\"Alaska\",\"Arizona\",\"Arkansas\",\"California\",\"Colorado\",\"Connecticut\",\"Delaware\",\"District of Columbia\",\"Florida\",\"Georgia\",\"Hawaii\",\"Idaho\",\"Illinois\",\"Indiana\",\"Iowa\",\"Kansas\",\"Kentucky\",\"Louisiana\",\"Maine\",\"Maryland\",\"Massachusetts\",\"Michigan\",\"Minnesota\",\"Mississippi\",\"Missouri\",\"Montana\",\"Nebraska\",\"Nevada\",\"New Hampshire\",\"New Jersey\",\"New Mexico\",\"New York\",\"North Carolina\",\"North Dakota\",\"Ohio\",\"Oklahoma\",\"Oregon\",\"Pennsylvania\",\"Rhode Island\",\"South Carolina\",\"South Dakota\",\"Tennessee\",\"Texas\",\"Utah\",\"Vermont\",\"Virginia\",\"Washington\",\"West Virginia\",\"Wisconsin\",\"Wyoming\",\"Puerto Rico\"],\"state/region\":[\"AL\",\"AK\",\"AZ\",\"AR\",\"CA\",\"CO\",\"CT\",\"DE\",\"DC\",\"FL\",\"GA\",\"HI\",\"ID\",\"IL\",\"IN\",\"IA\",\"KS\",\"KY\",\"LA\",\"ME\",\"MD\",\"MA\",\"MI\",\"MN\",\"MS\",\"MO\",\"MT\",\"NE\",\"NV\",\"NH\",\"NJ\",\"NM\",\"NY\",\"NC\",\"ND\",\"OH\",\"OK\",\"OR\",\"PA\",\"RI\",\"SC\",\"SD\",\"TN\",\"TX\",\"UT\",\"VT\",\"VA\",\"WA\",\"WV\",\"WI\",\"WY\",\"PR\"],\"year\":[2010,2010,2010,2010,2010,2010,2010,2010,2010,2010,2010,2010,2010,2010,2010,2010,2010,2010,2010,2010,2010,2010,2010,2010,2010,2010,2010,2010,2010,2010,2010,2010,2010,2010,2010,2010,2010,2010,2010,2010,2010,2010,2010,2010,2010,2010,2010,2010,2010,2010,2010,2010]},\"selected\":{\"id\":\"1779\"},\"selection_policy\":{\"id\":\"1778\"}},\"id\":\"1724\",\"type\":\"ColumnDataSource\"},{\"attributes\":{},\"id\":\"1694\",\"type\":\"DataRange1d\"},{\"attributes\":{},\"id\":\"1698\",\"type\":\"LinearScale\"},{\"attributes\":{\"fill_alpha\":{\"value\":0.1},\"fill_color\":{\"value\":\"blue\"},\"hatch_alpha\":{\"value\":0.1},\"hatch_color\":{\"value\":\"blue\"},\"line_alpha\":{\"value\":0.1},\"line_color\":{\"value\":\"blue\"},\"x\":{\"field\":\"population\"},\"y\":{\"field\":\"area (sq. mi)\"}},\"id\":\"1727\",\"type\":\"Circle\"},{\"attributes\":{},\"id\":\"1777\",\"type\":\"AllLabels\"},{\"attributes\":{\"coordinates\":null,\"group\":null},\"id\":\"1770\",\"type\":\"Title\"},{\"attributes\":{},\"id\":\"1776\",\"type\":\"BasicTickFormatter\"}],\"root_ids\":[\"1691\"]},\"title\":\"Bokeh Application\",\"version\":\"2.4.3\"}};\n",
       "  const render_items = [{\"docid\":\"04666bf7-aa4f-49f4-a722-40ac68fcc42d\",\"root_ids\":[\"1691\"],\"roots\":{\"1691\":\"e6678a60-004c-41f9-b800-5dacf43b2406\"}}];\n",
       "  root.Bokeh.embed.embed_items_notebook(docs_json, render_items);\n",
       "  }\n",
       "  if (root.Bokeh !== undefined) {\n",
       "    embed_document(root);\n",
       "  } else {\n",
       "    let attempts = 0;\n",
       "    const timer = setInterval(function(root) {\n",
       "      if (root.Bokeh !== undefined) {\n",
       "        clearInterval(timer);\n",
       "        embed_document(root);\n",
       "      } else {\n",
       "        attempts++;\n",
       "        if (attempts > 100) {\n",
       "          clearInterval(timer);\n",
       "          console.log(\"Bokeh: ERROR: Unable to run BokehJS code because BokehJS library is missing\");\n",
       "        }\n",
       "      }\n",
       "    }, 10, root)\n",
       "  }\n",
       "})(window);"
      ],
      "application/vnd.bokehjs_exec.v0+json": ""
     },
     "metadata": {
      "application/vnd.bokehjs_exec.v0+json": {
       "id": "1691"
      }
     },
     "output_type": "display_data"
    }
   ],
   "source": [
    "# po najechaniu na kropkę widzimy 'podpowiedź'\n",
    "\n",
    "p2 = bokeh.plotting.figure(\n",
    "    width=400,\n",
    "    height=300,\n",
    "    tooltips=[('stan','@state')]\n",
    "    )\n",
    "p2.circle(source=data2010, x='population', y='area (sq. mi)',color='blue')\n",
    "bokeh.io.show(p2)"
   ]
  },
  {
   "cell_type": "markdown",
   "metadata": {
    "id": "dAc3uAylQ5kA"
   },
   "source": [
    "# Wykresy w Seaborn"
   ]
  },
  {
   "cell_type": "code",
   "execution_count": 42,
   "metadata": {
    "id": "Me9T7lr-dyaX"
   },
   "outputs": [],
   "source": [
    "import seaborn as sns\n",
    "sns.set()"
   ]
  },
  {
   "cell_type": "code",
   "execution_count": 43,
   "metadata": {},
   "outputs": [
    {
     "data": {
      "text/html": [
       "<div>\n",
       "<style scoped>\n",
       "    .dataframe tbody tr th:only-of-type {\n",
       "        vertical-align: middle;\n",
       "    }\n",
       "\n",
       "    .dataframe tbody tr th {\n",
       "        vertical-align: top;\n",
       "    }\n",
       "\n",
       "    .dataframe thead th {\n",
       "        text-align: right;\n",
       "    }\n",
       "</style>\n",
       "<table border=\"1\" class=\"dataframe\">\n",
       "  <thead>\n",
       "    <tr style=\"text-align: right;\">\n",
       "      <th></th>\n",
       "      <th>imie</th>\n",
       "      <th>wiek</th>\n",
       "    </tr>\n",
       "  </thead>\n",
       "  <tbody>\n",
       "    <tr>\n",
       "      <th>0</th>\n",
       "      <td>Ania</td>\n",
       "      <td>22</td>\n",
       "    </tr>\n",
       "    <tr>\n",
       "      <th>1</th>\n",
       "      <td>Tomek</td>\n",
       "      <td>25</td>\n",
       "    </tr>\n",
       "    <tr>\n",
       "      <th>2</th>\n",
       "      <td>Karol</td>\n",
       "      <td>23</td>\n",
       "    </tr>\n",
       "    <tr>\n",
       "      <th>3</th>\n",
       "      <td>Marek</td>\n",
       "      <td>27</td>\n",
       "    </tr>\n",
       "    <tr>\n",
       "      <th>4</th>\n",
       "      <td>Kuba</td>\n",
       "      <td>22</td>\n",
       "    </tr>\n",
       "    <tr>\n",
       "      <th>5</th>\n",
       "      <td>Kasia</td>\n",
       "      <td>26</td>\n",
       "    </tr>\n",
       "    <tr>\n",
       "      <th>6</th>\n",
       "      <td>Mikołaj</td>\n",
       "      <td>23</td>\n",
       "    </tr>\n",
       "  </tbody>\n",
       "</table>\n",
       "</div>"
      ],
      "text/plain": [
       "      imie  wiek\n",
       "0     Ania    22\n",
       "1    Tomek    25\n",
       "2    Karol    23\n",
       "3    Marek    27\n",
       "4     Kuba    22\n",
       "5    Kasia    26\n",
       "6  Mikołaj    23"
      ]
     },
     "execution_count": 43,
     "metadata": {},
     "output_type": "execute_result"
    }
   ],
   "source": [
    "dane2_dict={'Ania':22,'Tomek':25,'Karol':23,'Marek':27, 'Kuba':22, 'Kasia':26, 'Mikołaj':23}\n",
    "dane2=pd.Series(dane2_dict)\n",
    "dane2DF=pd.DataFrame(dane2)\n",
    "dane2DF=dane2DF.reset_index().rename(columns={'index':'imie',0:'wiek'})\n",
    "dane2DF"
   ]
  },
  {
   "cell_type": "code",
   "execution_count": 44,
   "metadata": {},
   "outputs": [
    {
     "data": {
      "text/plain": [
       "<Axes: xlabel='imie', ylabel='wiek'>"
      ]
     },
     "execution_count": 44,
     "metadata": {},
     "output_type": "execute_result"
    },
    {
     "data": {
      "image/png": "[encoded data removed]",
      "text/plain": [
       "<Figure size 640x480 with 1 Axes>"
      ]
     },
     "metadata": {},
     "output_type": "display_data"
    }
   ],
   "source": [
    "sns.barplot(data=dane2DF,x='imie',y='wiek')"
   ]
  },
  {
   "cell_type": "markdown",
   "metadata": {},
   "source": [
    "Mamy dostępne wiele ciekawych wykresów statystycznych"
   ]
  },
  {
   "cell_type": "code",
   "execution_count": 45,
   "metadata": {
    "id": "jkgkUO8bX1cP"
   },
   "outputs": [],
   "source": [
    "data = np.random.multivariate_normal([0, 0], [[5, 2], [2, 2]], size=2000)\n",
    "data = pd.DataFrame(data, columns=['x', 'y'])"
   ]
  },
  {
   "cell_type": "code",
   "execution_count": 47,
   "metadata": {
    "colab": {
     "base_uri": "https://localhost:8080/",
     "height": 285
    },
    "executionInfo": {
     "elapsed": 533,
     "status": "ok",
     "timestamp": 1652179673659,
     "user": {
      "displayName": "Daniel Strzelecki",
      "userId": "04998061441867974797"
     },
     "user_tz": -120
    },
    "id": "Mc2CphqDYdI7",
    "outputId": "98f98a86-bd42-41bc-a523-56f24a10c2e2"
   },
   "outputs": [
    {
     "data": {
      "text/plain": [
       "<Axes: xlabel='x', ylabel='Density'>"
      ]
     },
     "execution_count": 47,
     "metadata": {},
     "output_type": "execute_result"
    },
    {
     "data": {
      "image/png": "[encoded data removed]",
      "text/plain": [
       "<Figure size 640x480 with 1 Axes>"
      ]
     },
     "metadata": {},
     "output_type": "display_data"
    }
   ],
   "source": [
    "sns.kdeplot(data,x='x',fill=True)\n",
    "sns.kdeplot(data,x='y',fill=True)"
   ]
  },
  {
   "cell_type": "code",
   "execution_count": 48,
   "metadata": {},
   "outputs": [
    {
     "data": {
      "text/plain": [
       "<Axes: ylabel='Count'>"
      ]
     },
     "execution_count": 48,
     "metadata": {},
     "output_type": "execute_result"
    },
    {
     "data": {
      "image/png": "[encoded data removed]",
      "text/plain": [
       "<Figure size 640x480 with 1 Axes>"
      ]
     },
     "metadata": {},
     "output_type": "display_data"
    }
   ],
   "source": [
    "sns.histplot(data)"
   ]
  },
  {
   "cell_type": "code",
   "execution_count": 226,
   "metadata": {
    "colab": {
     "base_uri": "https://localhost:8080/",
     "height": 492
    },
    "executionInfo": {
     "elapsed": 1413,
     "status": "ok",
     "timestamp": 1652179676270,
     "user": {
      "displayName": "Daniel Strzelecki",
      "userId": "04998061441867974797"
     },
     "user_tz": -120
    },
    "id": "D7tpgeUvYmlA",
    "outputId": "693cb055-957a-4664-89f3-be8306131270"
   },
   "outputs": [
    {
     "data": {
      "image/png": "[encoded data removed]",
      "text/plain": [
       "<Figure size 600x600 with 3 Axes>"
      ]
     },
     "metadata": {},
     "output_type": "display_data"
    }
   ],
   "source": [
    "#piękny wykres rozrzutu\n",
    "sns.jointplot(data=data,x='x',y='y', kind='hex');"
   ]
  },
  {
   "cell_type": "code",
   "execution_count": 236,
   "metadata": {},
   "outputs": [
    {
     "name": "stdout",
     "output_type": "stream",
     "text": [
      "<class 'pandas.core.frame.DataFrame'>\n",
      "RangeIndex: 244 entries, 0 to 243\n",
      "Data columns (total 7 columns):\n",
      " #   Column      Non-Null Count  Dtype   \n",
      "---  ------      --------------  -----   \n",
      " 0   total_bill  244 non-null    float64 \n",
      " 1   tip         244 non-null    float64 \n",
      " 2   sex         244 non-null    category\n",
      " 3   smoker      244 non-null    category\n",
      " 4   day         244 non-null    category\n",
      " 5   time        244 non-null    category\n",
      " 6   size        244 non-null    int64   \n",
      "dtypes: category(4), float64(2), int64(1)\n",
      "memory usage: 7.4 KB\n"
     ]
    }
   ],
   "source": [
    "#przykładowy zbior danych\n",
    "tips = sns.load_dataset(\"tips\")\n",
    "tips.info()"
   ]
  },
  {
   "cell_type": "code",
   "execution_count": 237,
   "metadata": {
    "scrolled": true
   },
   "outputs": [
    {
     "data": {
      "text/plain": [
       "<seaborn.axisgrid.FacetGrid at 0x20d1b605e50>"
      ]
     },
     "execution_count": 237,
     "metadata": {},
     "output_type": "execute_result"
    },
    {
     "data": {
      "image/png": "[encoded data removed]",
      "text/plain": [
       "<Figure size 1080x500 with 2 Axes>"
      ]
     },
     "metadata": {},
     "output_type": "display_data"
    }
   ],
   "source": [
    "sns.relplot(\n",
    "    data=tips,\n",
    "    x=\"total_bill\", y=\"tip\", col=\"time\",\n",
    "    hue=\"smoker\", style=\"smoker\", size=\"size\",\n",
    ")"
   ]
  },
  {
   "cell_type": "markdown",
   "metadata": {},
   "source": [
    "<a id='z5'></a>\n",
    "\n",
    "### Zadanie 5\n",
    "Załaduj dane `'titanic'` z zasobów przykładów seaborn. \n",
    "* znajdź dwie kolumny, które zawierają identyczne dane (być może w innym formacie) i usuń zbędne kolumny (przynajmniej jedną)\n",
    "* stwórz wykres (seaborn), którym przeanalizujesz zależność przeżycia katastrofy od ceny biletu (fare)\n",
    "* policz ile było kobiet i ilu mężczyzn z poszczególnych klas, którzy nie przeżyli\n",
    "\n",
    "[rozwiązanie](#r5)"
   ]
  },
  {
   "cell_type": "code",
   "execution_count": null,
   "metadata": {},
   "outputs": [],
   "source": [
    "titanic = sns.load_dataset(\"titanic\")"
   ]
  }
 ],
 "metadata": {
  "colab": {
   "authorship_tag": "ABX9TyM0HDqjsT2AraGreITUdISW",
   "collapsed_sections": [],
   "name": "Pandas.ipynb",
   "provenance": []
  },
  "kernelspec": {
   "display_name": "Python 3 (ipykernel)",
   "language": "python",
   "name": "python3"
  },
  "language_info": {
   "codemirror_mode": {
    "name": "ipython",
    "version": 3
   },
   "file_extension": ".py",
   "mimetype": "text/x-python",
   "name": "python",
   "nbconvert_exporter": "python",
   "pygments_lexer": "ipython3",
   "version": "3.9.16"
  }
 },
 "nbformat": 4,
 "nbformat_minor": 1
}
