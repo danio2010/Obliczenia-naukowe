{
 "cells": [
  {
   "cell_type": "markdown",
   "id": "a8d8e1dd",
   "metadata": {},
   "source": [
    "\n",
    "# <center> Zajęcia nr 5 </center>"
   ]
  },
  {
   "cell_type": "markdown",
   "id": "477c5441",
   "metadata": {},
   "source": [
    "## Plan\n",
    "* jeszcze trochę o numpy (dokończenie poprzedniego notatnika)\n",
    "* rysowanie prostych wykresów\n",
    "* numeryczne przybliżanie pochodnych\n",
    "* całkowanie numeryczne\n",
    "* numeryczne rozwiązywanie równań"
   ]
  },
  {
   "cell_type": "code",
   "execution_count": 15,
   "id": "2960f9ff",
   "metadata": {},
   "outputs": [],
   "source": [
    "import numpy as np\n",
    "import random\n",
    "import matplotlib.pyplot as plt\n",
    "\n",
    "from IPython.core.interactiveshell import InteractiveShell\n",
    "InteractiveShell.ast_node_interactivity = \"last_expr_or_assign\""
   ]
  },
  {
   "cell_type": "markdown",
   "id": "8f30d8ef",
   "metadata": {},
   "source": [
    "## <center> Dokończenie poprzedniego notatnika </center>"
   ]
  },
  {
   "cell_type": "markdown",
   "id": "4d9dc9a2",
   "metadata": {},
   "source": [
    "## Operacje na tablicach\n",
    "\n",
    "**Najważniejsze do zapamiętania**: operacje wykonywane są element po elemencie\n",
    "\n",
    "Kilka nieoczywistych funkcji:\n",
    "\n",
    "* ```np.remainder``` - reszta z dzielenia\n",
    "* ```np.floor``` - część całkowita\n",
    "* ```np.round``` - zaokrąglanie\n",
    "* ```np.sort``` - sortowanie\n",
    "* ```np.abs``` - wartośc bezwzględna\n",
    "\n",
    "\n",
    "* ```np.where``` - wybiera elementy z jednej lub drugiej tablicy, zależnie od (nie)spełnienia warunku\n",
    "* ```np.select``` - rozbudowane ```where```\n",
    "* ```np.nonzero``` - zwraca indeksy niezerowych elementów w tablicy\n",
    "\n",
    "**Uwaga** Żeby stworzyć własne funkcje działające po elementach tablicy trzeba je utworzyć za pomocą ```np.vectorize```\n"
   ]
  },
  {
   "cell_type": "code",
   "execution_count": null,
   "id": "6851b7a8",
   "metadata": {},
   "outputs": [],
   "source": []
  },
  {
   "cell_type": "markdown",
   "id": "70abd0aa",
   "metadata": {},
   "source": [
    "## Broadcasting (!)\n",
    "Macierze zmieniają swoje wymiary by dopasować się do innych macierzy w danej operacji."
   ]
  },
  {
   "cell_type": "code",
   "execution_count": null,
   "id": "78e21e6d",
   "metadata": {},
   "outputs": [],
   "source": []
  },
  {
   "attachments": {
    "image.png": {
     "image/png": "[encoded data removed]"
    }
   },
   "cell_type": "markdown",
   "id": "e2a11c68",
   "metadata": {},
   "source": [
    "![image.png](attachment:image.png)"
   ]
  },
  {
   "cell_type": "markdown",
   "id": "3175a9a0",
   "metadata": {},
   "source": [
    "## Funkcje agregujące\n",
    "* ```np.mean``` - średnia\n",
    "* ```np.std``` - odchylenie standardowe\n",
    "* ```np.var``` - wariancja $var=std^2$\n",
    "* ```np.median```\n",
    "* ```np.sum```\n",
    "* ```np.prod```\n",
    "* ```np.cumsum``` - skomulowana suma\n",
    "* ```np.cumprod```\n",
    "* ```np.min, np.max```\n",
    "* ```np.argmin, np.argmax```\n",
    "* ```np.all, np.any``` - sprawdza czy wszystkie lub którykolwiek są True (np. różne od zera)\n",
    "\n",
    "**Uwaga** dla wielowymiarowych tablic możemy określić wzdłuż której z osi chcemy agregować"
   ]
  },
  {
   "cell_type": "markdown",
   "id": "070e5459",
   "metadata": {},
   "source": [
    "### Zadanie 9\n",
    "Przypuśćmy, że masz 3 chomiki i każdy z nich może jeść z 10 różnych pojemników. Zliczasz ile razy każdy z nich jadł z danego pojemnika. Dla każdego chomika oblicz prawdopodobieństwo z jakim je on z danego pojemnika.\n",
    "\n"
   ]
  },
  {
   "cell_type": "code",
   "execution_count": 18,
   "id": "03e91ae5",
   "metadata": {},
   "outputs": [
    {
     "data": {
      "text/plain": [
       "array([[2, 0, 6, 2, 4, 2, 0, 5, 0, 0],\n",
       "       [2, 6, 0, 2, 6, 2, 4, 5, 5, 3],\n",
       "       [1, 0, 0, 1, 4, 0, 6, 6, 6, 0]])"
      ]
     },
     "execution_count": 18,
     "metadata": {},
     "output_type": "execute_result"
    }
   ],
   "source": [
    "dane=np.random.randint(0,7,size=(3,10))"
   ]
  },
  {
   "cell_type": "code",
   "execution_count": null,
   "id": "1954b7d0",
   "metadata": {},
   "outputs": [],
   "source": []
  },
  {
   "cell_type": "markdown",
   "id": "25e8f499",
   "metadata": {},
   "source": [
    "### Zadanie 10\n",
    "\n",
    "Wygeneruj losową tablicę L(100x10) liczb całkowitych z przedziału [0,10] generatorem=12345 (```np.random.seed(12345)``` przed użyciem ```np.random.random_integers```. Sprawdź:\n",
    "* ile jest w niej liczb większych od 3\n",
    "* jaka jest średnia w każdej kolumnie\n",
    "* określ w których wierszach co najmniej połowa liczb jest $\\geq 5$\n",
    "* wypisz kolejno (wierszami) wsyzsktie elementy tablicy z przedziału [2,5]. \n",
    "* stwórz nową talibcę, zerując w L wszysktie elementy spoza przedziału [2,5].\n",
    "* znajdź wiersze, które nie zawierają żadnego zera"
   ]
  },
  {
   "cell_type": "code",
   "execution_count": null,
   "id": "df0330df",
   "metadata": {},
   "outputs": [],
   "source": []
  },
  {
   "cell_type": "markdown",
   "id": "2f6445fb",
   "metadata": {},
   "source": [
    "## <center> Nowy notatnik </center>"
   ]
  },
  {
   "cell_type": "markdown",
   "id": "d93e9abf",
   "metadata": {},
   "source": [
    "## Proste wykresy"
   ]
  },
  {
   "cell_type": "code",
   "execution_count": null,
   "id": "5bdde4a3",
   "metadata": {},
   "outputs": [],
   "source": []
  },
  {
   "cell_type": "markdown",
   "id": "59a13634",
   "metadata": {},
   "source": [
    "### Zadanie 1\n",
    "Stwórz wykres funkcji $e^x$ na przedziale $(-10,10)$ korzystając z 50 obliczonych punktów."
   ]
  },
  {
   "cell_type": "code",
   "execution_count": null,
   "id": "9c73a0de",
   "metadata": {},
   "outputs": [],
   "source": []
  },
  {
   "cell_type": "markdown",
   "id": "10d419d8",
   "metadata": {},
   "source": [
    "---\n",
    "### Zadanie 2\n",
    "Narysuj wykres i znajdź w przybliżeniu najmniejszą wartość funkcji $f(x)=\\sin(x)\\cdot e^x$ na przedziale $[0,6]$. W jakim (mniej więcej) punkcie to minimum jest przyjmowane?\n",
    "\n",
    "---"
   ]
  },
  {
   "cell_type": "code",
   "execution_count": null,
   "id": "86eb82c1",
   "metadata": {},
   "outputs": [],
   "source": []
  },
  {
   "cell_type": "markdown",
   "id": "d4beb3f1",
   "metadata": {},
   "source": [
    "## Dlaczego warto korzystać z numpy?\n",
    "Zbadajmy jak szybkie błądzenie losowe możemy uzyskać klasycznie (z użyciem list), a jakie z użyciem numpy"
   ]
  },
  {
   "cell_type": "code",
   "execution_count": 28,
   "id": "5cb8cff0",
   "metadata": {},
   "outputs": [],
   "source": [
    "def random_walk(n):\n",
    "    position = 0\n",
    "    walk = [position]\n",
    "    for i in range(n):\n",
    "        position += np.random.choice([-1, 1])\n",
    "        walk.append(position)\n",
    "    return walk"
   ]
  },
  {
   "cell_type": "code",
   "execution_count": 30,
   "id": "388b4d48",
   "metadata": {},
   "outputs": [],
   "source": [
    "def random_walk_fastest(n=1000):\n",
    "    steps = np.random.choice([-1,+1], n)\n",
    "    return np.cumsum(steps)"
   ]
  },
  {
   "cell_type": "markdown",
   "id": "0152a9f5",
   "metadata": {},
   "source": [
    "### Zadanie dla osób chętnych\n",
    "Z wykorzystaniem tablic numpy zaimplementuj \"grę w życie\" :\n",
    "1) każde pole (komórka) planszy $n\\times m$ może być komórką martwą (0) lub żywą (1)\n",
    "2) Komórka, która ma 2 lub 3 żywych sąsiadów przetrwa do kolejnej generacji. Pozostałe umierają (z samotności lub przeludnienia)\n",
    "3) Martwa komórka ożyje gdy ma dokładnie 3 sąsiadów.\n",
    "\n",
    "Wylosuj początkowe rozstawienie żywych komórek i zasymuluj ewolucję."
   ]
  },
  {
   "cell_type": "markdown",
   "id": "91fb747a",
   "metadata": {},
   "source": [
    "## Numeryczne pochodne\n",
    "\n",
    "#### Pierwsza pochodna\n",
    "$\\frac{f(x+h)-f(x)}{h} \\approx f'(x)$\n",
    "\n",
    "**Twierdzenie:** Jeśli $f$ jest funkcją dwukrotnie różniczkowalną (z ciagłą drugą pochodną) to błąd powyższego oszacowania jest nie większy niż $\\frac{hM}{2}$, gdzie $M=\\sup_{y\\in [x,x+h]} |f''(y)|$\n",
    "\n",
    "#### Druga pochodna\n",
    "\n",
    "$f''(x)=\\frac{f(x+h)-2f(x)+f(x-h)}{h^2}-\\frac{h^2}{6}f^{(4)}(\\xi)$, gdzie $\\xi\\in [x-h,x+h]$."
   ]
  },
  {
   "cell_type": "markdown",
   "id": "c7471911",
   "metadata": {},
   "source": [
    "---\n",
    "### Zadanie 3A\n",
    "Zaimplementuj funkcję ```dfdx(f,x,h)``` obliczającą numeryczną pochodną funkcji $f$ w punktach `x` ze skokiem `h` domyślnie ustawionym na $0.0001$. Np. ```dfdx(np.sin,x,h=0.001)```\n",
    "\n",
    "---"
   ]
  },
  {
   "cell_type": "code",
   "execution_count": null,
   "id": "2ecd9c6d",
   "metadata": {},
   "outputs": [],
   "source": []
  },
  {
   "cell_type": "markdown",
   "id": "d0219686",
   "metadata": {},
   "source": [
    "---\n",
    "### Zadanie 3B\n",
    "Zaimplementuj funkcję ```dydx(y,x)``` obliczającą numeryczną pochodną funkcji o wartościach `y` w punktach `x`. Np. ```dydx(np.sin(x),x)```\n",
    "\n",
    "---"
   ]
  },
  {
   "cell_type": "code",
   "execution_count": null,
   "id": "ec89817d",
   "metadata": {},
   "outputs": [],
   "source": []
  },
  {
   "cell_type": "markdown",
   "id": "7b471a77",
   "metadata": {},
   "source": [
    "---\n",
    "### Zadanie 4\n",
    "* Korzystając z wyżej zdefiniowanej funkcji (z 2A lub 2B) oblicz pochodną funkcji $y=e^{-x/10}\\sin(x)$ rozważając $10000$ punktów $x$ w przedziale $[0,10]$.\n",
    "* Zlokalizuj (oczywiście w przybliżeniu) ekstrema badanej funkcji.\n",
    "* Narysuj na jednym wykresie funkcję i jej pochodną; zaznacz ekstrema.\n",
    "---"
   ]
  },
  {
   "cell_type": "code",
   "execution_count": null,
   "id": "fb3e4c82",
   "metadata": {},
   "outputs": [],
   "source": []
  },
  {
   "cell_type": "markdown",
   "id": "d0675cf8",
   "metadata": {},
   "source": [
    "---\n",
    "---\n",
    "---\n"
   ]
  },
  {
   "cell_type": "markdown",
   "id": "23c4c925",
   "metadata": {},
   "source": [
    "Funkcje do liczenia numerycznej pochodnej są oczywiście zaimplementowane:\n",
    "* `np.gradient()` - oblicza pochodną centralną\n",
    "* cały pakiet `numdifftools` z funkcjami:\n",
    "    - `Derivative`\n",
    "    - `Gradient`\n",
    "    - `Hessian`\n",
    "    - `Jacobian`\n",
    "* `scipy.misc.derivative` - oblicza pochodną dowolnego rzędu w punkcie"
   ]
  },
  {
   "cell_type": "markdown",
   "id": "2d4bed13",
   "metadata": {},
   "source": [
    "## Całkowanie numeryczne\n",
    "\n",
    "$$\\int_a^b f(x)\\,dx=\\lim_{n\\to\\infty} \\sum_{i=1}^n f(x_i^*) (x_i-x_{i-1})$$\n",
    "gdzie $x_i^*\\in[x_{i-1},x_i]$, oraz $a=x_0<\\ldots<x_n=b$\n",
    "\n",
    "**Twierdzenie** \n",
    "$$ \\left| \\int_a^b f(x)\\,dx - L_N(f)\\right|\\leq\\frac{(b-a)^2}{2N}M, $$\n",
    "gdzie $L_N(f)$ jest lewą sumą Riemanna, a $M=\\sup_{y\\in[a,b]} |f'(y)|$."
   ]
  },
  {
   "cell_type": "markdown",
   "id": "8fdf1d9b",
   "metadata": {},
   "source": [
    "Całkowanie też jest oczywiście zaimplementowane w `numpy` i innych bibliotekach.\n",
    "* `np.trapz` - całkowanie metodą trapezów\n",
    "* `np.cumsum` - zwraca \"funkcję\" pierwotną\n",
    "* `scipy.integrate.quad` - dokładne całkowanie w 1d\n",
    "* `scipy.integrate.nquad` - całki wielokrotne\n",
    "* `scipy.integrate.solve_ivp` - całkowanie równań różniczkowych"
   ]
  },
  {
   "cell_type": "markdown",
   "id": "25c43cec",
   "metadata": {},
   "source": [
    "Przykład: $f(x)=|\\sin x|$"
   ]
  },
  {
   "cell_type": "code",
   "execution_count": null,
   "id": "39d26666",
   "metadata": {},
   "outputs": [],
   "source": []
  },
  {
   "cell_type": "markdown",
   "id": "1364690f",
   "metadata": {},
   "source": [
    "### Zadanie 5 \n",
    "Znajdź numerycznie funkcję pierwotną funkcji $f(x)=|\\sin (x)|$ z powyższego przykładu. Narysuj wykres. Obliczając numeryczną pochodną zweryfikuj wynik."
   ]
  },
  {
   "cell_type": "code",
   "execution_count": null,
   "id": "22d67b22",
   "metadata": {},
   "outputs": [],
   "source": []
  },
  {
   "cell_type": "markdown",
   "id": "67370d87",
   "metadata": {},
   "source": [
    "## Numeryczne rozwiązywanie równań\n"
   ]
  },
  {
   "cell_type": "markdown",
   "id": "3585d6f9",
   "metadata": {},
   "source": [
    "### Zadanie 6\n",
    "Korzystając z funkcji ```scipy.optimize.fsolve``` znajdź rozwiązanie równania $\\cos x - x=0$ w pobliżu $x=-2$. Sprawdź, że jest to rozwiązanie."
   ]
  },
  {
   "cell_type": "code",
   "execution_count": null,
   "id": "9517c67c",
   "metadata": {},
   "outputs": [],
   "source": []
  },
  {
   "cell_type": "markdown",
   "id": "537a0ddc",
   "metadata": {},
   "source": [
    "### Zadanie 7\n",
    "Zaimplementuj rekurencyjną metodę bisekcji dla funkcji $f$ na przedziale $[a,b]$ z tolerancją err: ```bisekcja(f,a,b,err)```"
   ]
  },
  {
   "cell_type": "code",
   "execution_count": null,
   "id": "285674d1",
   "metadata": {},
   "outputs": [],
   "source": []
  },
  {
   "cell_type": "markdown",
   "id": "6afbca78",
   "metadata": {},
   "source": [
    "# Zadanie domowe\n",
    "\n",
    "* Napisz metodę `calka(f,a,b,N)`, która oblicza **pole powierzchni ograniczonej osią OX i wykresem funkcji** na danym przedziale za pomocą lewych sum Riemanna (przybliżeń prostokątami).\n",
    "* Sprawdź działanie swojej metody na wybranej przez siebie funkcji **porównując** z wynikiem całkownia symbolicznego, a także całkowania z użyciem `scipy.integrate.quad`\n",
    "* Dobierz takie parametry do swojej funkcji, aby błąd całkowania był mniejszy niż $10^{-5}$. Możesz korzystać z przybliżenia pochodnej.\n"
   ]
  },
  {
   "cell_type": "code",
   "execution_count": null,
   "id": "632fc7cb",
   "metadata": {},
   "outputs": [],
   "source": []
  }
 ],
 "metadata": {
  "kernelspec": {
   "display_name": "Python 3 (ipykernel)",
   "language": "python",
   "name": "python3"
  },
  "language_info": {
   "codemirror_mode": {
    "name": "ipython",
    "version": 3
   },
   "file_extension": ".py",
   "mimetype": "text/x-python",
   "name": "python",
   "nbconvert_exporter": "python",
   "pygments_lexer": "ipython3",
   "version": "3.9.13"
  }
 },
 "nbformat": 4,
 "nbformat_minor": 5
}
