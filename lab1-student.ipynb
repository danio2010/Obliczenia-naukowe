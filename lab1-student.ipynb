{
 "cells": [
  {
   "cell_type": "markdown",
   "metadata": {
    "id": "hQX8-Lc3R9Cg"
   },
   "source": [
    "# <center>Zajęcia nr 1</center>"
   ]
  },
  {
   "cell_type": "markdown",
   "metadata": {
    "id": "3CLdRpXMSPhQ"
   },
   "source": [
    "## Plan:\n",
    "\n",
    "* IPython\n",
    "* Wprowadzenie do Jupyter/Colab\n",
    "* Przypomnienie pythona"
   ]
  },
  {
   "cell_type": "markdown",
   "metadata": {},
   "source": [
    "## Używanie Pythona jako kalkulatora (i nie tylko) - IPython"
   ]
  },
  {
   "cell_type": "markdown",
   "metadata": {
    "id": "V1GAMcShn01R"
   },
   "source": [
    "## Jupyter Notebook/CoLab\n",
    "\n",
    "\n",
    "\n",
    "\n"
   ]
  },
  {
   "cell_type": "markdown",
   "metadata": {
    "id": "EY8O9bBQwkn6"
   },
   "source": [
    "### Możliwości pól komentarza (Markdown)\n",
    "\n",
    "* ### Nagłówki\n",
    "```markdown\n",
    "# Sekcja 1\n",
    "# Sekcja 2\n",
    "## Podskecja sekcji 2\n",
    "# Sekcja 3\n",
    "```\n",
    "\n",
    "* ### Wyróżnianie tekstu\n",
    "\n",
    "Składnia | Efekt\n",
    "--- | ---\n",
    "`**bold text**` | **bold text**\n",
    "`*italicized text*` or `_italicized text_` | *italicized text*\n",
    "`~~strikethrough~~` | ~~strikethrough~~\n",
    "\n",
    "* ### Bloki z kodem python\n",
    "\n",
    "składnia:\n",
    "````\n",
    "```python\n",
    "print(\"a\")\n",
    "```\n",
    "````\n",
    "efekt:\n",
    "```python\n",
    "print(\"a\")\n",
    "```\n",
    "\n",
    "* ### Listy\n",
    "\n",
    "składnia:\n",
    "````\n",
    "1. pierwszy\n",
    "1. drugi\n",
    "1. trzeci\n",
    "````\n",
    "efekt:\n",
    "1. pierwszy\n",
    "1. drugi\n",
    "1. trzeci\n",
    "\n",
    "* ### LaTeX\n",
    "składnia:\n",
    "````\n",
    "$x^2+5x+6=\\int_{0}^{\\infty} e^{-x}$\n",
    "````\n",
    "efekt:\n",
    "$x^2+5x+6=\\int_{0}^{\\infty} e^{-x}$\n",
    "\n",
    "* ### Tabelki\n",
    "\n",
    "składnia:\n",
    "````\n",
    "C1  | C2\n",
    "--- | ---\n",
    "a|b\n",
    "c|d\n",
    "````\n",
    "efekt:\n",
    "\n",
    "C1  | C2\n",
    "--- | ---\n",
    "a|b\n",
    "c|d\n",
    "\n",
    "\n",
    "\n",
    "\n"
   ]
  },
  {
   "cell_type": "markdown",
   "metadata": {
    "id": "NBD8Bt8HSThI"
   },
   "source": [
    "## Nawigacja i skróty\n",
    "\n",
    "+ tryb edycji - zielona krawędź - wejście przez enter\n",
    "+ tryb komend - niebieska krawędź - wejście przez Esc\n",
    "\n",
    "#### <center>w trybie komend</center>\n",
    "\n",
    "skrót | działanie\n",
    "---|---\n",
    "strzałki góra/dół | przechodzenie między komórkami\n",
    "h | pokaż wszystkie skóry\n",
    "p | pokaż dostępne komendy\n",
    "Spacja lub shift+spacja | przewijanie notatnika\n",
    "dd | podwójne d usuwa komórkę\n",
    "a | wstaw komórkę powyżej\n",
    "b | wstaw komórkę poniżej\n",
    "m | zmiana trybu komórki na markdown\n",
    "y | zmiana trybu komórki na kod\n",
    "x | wycinanie komórki\n",
    "v | wklejenie komórki pod bieżącą\n",
    "\n",
    "\n",
    "#### <center>w trybie edycji</center>\n",
    "skrót | działanie\n",
    "---|---\n",
    "shift+tab | podpowiedzi kodu\n",
    "ctrl+shit+p | paleta komend\n",
    "\n",
    "#### <center>wspólne</center>\n",
    "skrót | działanie\n",
    "---|---\n",
    "alt+enter | wykonaj komórkę **i wstaw** dodatkową niżej\n",
    "shift+enter | wykonaj komórkę\n",
    "ctrl+enter | wykonaj komórkę i pozostań w niej"
   ]
  },
  {
   "cell_type": "markdown",
   "metadata": {},
   "source": [
    "## Inne przydatne funkcje\n",
    "- ostatni wynik przechowywany jest w zmiennej ```_```, a każdy inny w zmiennej ```_N``` oraz ```Out[N]```\n",
    "- użycie Tab uzupełnia składnię, np. użycie na obiekcie pokazuje dostępne metody\n",
    "- użycie Shift+Tab zapewnia podpowiedzi np. do składni używanej funkcji\n",
    "- ```?``` generuje pomoc, a polecenie ```obiekt?``` zapewnia informacje o obiekcie\n",
    "- polecenie ```!name``` powoduje działanie jak w systemie operacyjnym (jak w terminalu)\n",
    "- komendy magiczne ```%magic```\n",
    "    * ```%``` działają na jedną linię\n",
    "    * ```%%``` działają na całą komórkę\n",
    "    * ```%time``` - sprawdza czas działania\n",
    "    * ```%timeit``` - sprawdza średni czas działania w wielu interacjach\n",
    "    * ```%%writefile name.txt``` - zapisuje wszystko co dalej do pliku\n",
    "    * ```%whos``` - spis zdefiniowanych zmiennych"
   ]
  },
  {
   "cell_type": "markdown",
   "metadata": {},
   "source": [
    "## Inne notatniki:\n",
    "* Google Colab\n",
    "* VS Code"
   ]
  },
  {
   "cell_type": "markdown",
   "metadata": {
    "id": "SQb8m1WRSghV"
   },
   "source": [
    "## Podstawy pythona\n"
   ]
  },
  {
   "cell_type": "markdown",
   "metadata": {
    "id": "F6YRT9S_UOnq"
   },
   "source": [
    "### Python jako kalkulator"
   ]
  },
  {
   "cell_type": "markdown",
   "metadata": {
    "id": "fcbEnrICO_x6"
   },
   "source": [
    "### Pętle i instrukcja warunkowa, funkcje"
   ]
  },
  {
   "cell_type": "markdown",
   "metadata": {
    "id": "DqX7c5e5USTL"
   },
   "source": [
    "### Podstawowe typy danych"
   ]
  },
  {
   "cell_type": "markdown",
   "metadata": {},
   "source": [
    "#### Napisy"
   ]
  },
  {
   "cell_type": "markdown",
   "metadata": {},
   "source": [
    "#### Wyświetlanie napisów sformatowanych"
   ]
  },
  {
   "cell_type": "markdown",
   "metadata": {},
   "source": [
    "#### Łączenie napisów"
   ]
  },
  {
   "cell_type": "markdown",
   "metadata": {
    "id": "eChDEYDgX8Dn"
   },
   "source": [
    "#### Listy"
   ]
  },
  {
   "cell_type": "markdown",
   "metadata": {},
   "source": [
    "#### Przydatne metody obiektu typu ```list```"
   ]
  },
  {
   "cell_type": "markdown",
   "metadata": {},
   "source": [
    "#### Cięcie listy"
   ]
  },
  {
   "cell_type": "markdown",
   "metadata": {},
   "source": [
    "#### List comprehension\n",
    "```newlist = [[wyrażenie] for [elem] in [coś iterowalnego] if [waruenk logiczny]]```"
   ]
  },
  {
   "cell_type": "markdown",
   "metadata": {},
   "source": [
    "#### Krotki\n",
    "Są uporządkowane, ale niezmienialne!\n",
    "\n",
    "```moja_krotka=('pies','kot',1234)```\n",
    "\n",
    "**Uwaga:** składnia ```('coś')``` nie utworzy krotki jednoelementowej. Jeśli w jakimś miejscu wymaganym typem danych jest krotka, a chcemy tam użyć krotki jednoelementowej, to konstruujemy ją ```('coś',)```"
   ]
  },
  {
   "cell_type": "markdown",
   "metadata": {},
   "source": [
    "#### Przewaga krotki nad listą"
   ]
  },
  {
   "cell_type": "markdown",
   "metadata": {
    "id": "B5LNMjoqEy1T"
   },
   "source": [
    "### Zadanie domowe lab1\n",
    "Przygotuj w jupyterze plik, który będzie zawierał tytuł oraz cztery sekcje (nazwij je dowolnie).\n",
    "\n",
    "+ W pierwszej sekcji umieść skrypt, który zapyta Cię o imię, a następnie przywita Cię po imieniu.\n",
    "+ W drugiej skecji wstaw (w polu komentarza) kod tego skryptu.\n",
    "+ W trzeciej umieść dowolny obrazek.\n",
    "+ W czwartej sekcji napisz funkcję bezargumentową o nazwie listownik(), która\n",
    "    - zapyta o długość listy, która musi znaleźć się w przedziale [10,20] (przypilnuj użytkownika)\n",
    "    - wygeneruje i wydrukuje listę o odpowiedniej długości z liczbami losowymi przedziału [0,10]\n",
    "    - **zwróci** liczbę unikalnych wartości w wygenerowanej liście\n",
    "W rozwiązaniu można korzystać z funkcji pomocniczych.\n",
    "\n",
    "Pobierz plik .html, nazwij go zad_domowe1.html i umieść na moodle."
   ]
  }
 ],
 "metadata": {
  "colab": {
   "provenance": []
  },
  "kernelspec": {
   "display_name": "Python 3 (ipykernel)",
   "language": "python",
   "name": "python3"
  },
  "language_info": {
   "codemirror_mode": {
    "name": "ipython",
    "version": 3
   },
   "file_extension": ".py",
   "mimetype": "text/x-python",
   "name": "python",
   "nbconvert_exporter": "python",
   "pygments_lexer": "ipython3",
   "version": "3.9.13"
  }
 },
 "nbformat": 4,
 "nbformat_minor": 1
}
