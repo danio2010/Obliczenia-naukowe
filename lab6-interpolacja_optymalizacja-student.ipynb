{
 "cells": [
  {
   "cell_type": "markdown",
   "id": "20ba245e",
   "metadata": {},
   "source": [
    "# <center> Zajęcia nr 6 </center>"
   ]
  },
  {
   "cell_type": "markdown",
   "id": "8cad9882",
   "metadata": {},
   "source": [
    "## Plan:\n",
    "* metoda najmniejszych kwadratów\n",
    "* dopasowywanie krzywych do danych\n",
    "* interpolacja wielomianowa"
   ]
  },
  {
   "cell_type": "code",
   "execution_count": 5,
   "id": "3dfc3a5a",
   "metadata": {},
   "outputs": [],
   "source": [
    "import numpy as np\n",
    "import matplotlib.pyplot as plt\n",
    "from scipy import optimize\n"
   ]
  },
  {
   "cell_type": "markdown",
   "id": "8c5355d1",
   "metadata": {},
   "source": [
    "## Regresja liniowa"
   ]
  },
  {
   "cell_type": "code",
   "execution_count": null,
   "id": "f0939221",
   "metadata": {},
   "outputs": [],
   "source": []
  },
  {
   "cell_type": "markdown",
   "id": "1b0c5182",
   "metadata": {},
   "source": [
    "---\n",
    "### Zadanie 1\n",
    "Napisz funkcję `suma_kwadratow`, która dla danych $(x,y)$ (tablice tego samego wymiaru) i parametrów $(a,b)$ obliczy sumę kwadratów różnic wartości $y$ od wartości funkcji $f(x)=ax+b$ na danych $x$.\n",
    "\n",
    "---"
   ]
  },
  {
   "cell_type": "code",
   "execution_count": null,
   "id": "c2092dfe",
   "metadata": {},
   "outputs": [],
   "source": []
  },
  {
   "cell_type": "markdown",
   "id": "3f7fa502",
   "metadata": {},
   "source": [
    "Spróbujmy znaleźć $a$ i $b$, dla których suma kwadratów jest najmniejsza, dla wygenerowanch wyżej danych $x,y$. Skorzystamy z funkcji `scipy.optimize.minimize`"
   ]
  },
  {
   "cell_type": "code",
   "execution_count": null,
   "id": "ca9d364a",
   "metadata": {},
   "outputs": [],
   "source": []
  },
  {
   "cell_type": "markdown",
   "id": "3090e67d",
   "metadata": {},
   "source": [
    "## Dopasowywanie krzywych do danych\n",
    "\n",
    "Przypuśćmy, że mamy dane $x_{dane}$ i $y_{dane}$ i szukamy parametru (zestawu parametrów) $\\beta$ by funkcja postaci $f(x,\\beta)$ najlepiej dopasowywała się do danych. Korzystamy z funkcji `scipy.optimize.curve_fit` - wymaga ona podania wstępnego 'szacowania'"
   ]
  },
  {
   "cell_type": "code",
   "execution_count": 6,
   "id": "34e1fc72",
   "metadata": {},
   "outputs": [],
   "source": [
    "from scipy.optimize import curve_fit"
   ]
  },
  {
   "cell_type": "markdown",
   "id": "d2a2fc0c",
   "metadata": {},
   "source": [
    "Dopasujmy krzywą postaci $f(x,a,p,q)=a(x-p)^2+q$ do poniższych danych."
   ]
  },
  {
   "cell_type": "code",
   "execution_count": 31,
   "id": "365a29af",
   "metadata": {},
   "outputs": [],
   "source": [
    "x_data = np.array([0.        , 0.15789474, 0.31578947, 0.47368421, 0.63157895,\n",
    "       0.78947368, 0.94736842, 1.10526316, 1.26315789, 1.42105263,\n",
    "       1.57894737, 1.73684211, 1.89473684, 2.05263158, 2.21052632,\n",
    "       2.36842105, 2.52631579, 2.68421053, 2.84210526, 3.        ])\n",
    "y_data = np.array([  2.95258285,   2.49719803,  -2.1984975 ,  -4.88744346,\n",
    "        -7.41326345,  -8.44574157, -10.01878504, -13.83743553,\n",
    "       -12.91548145, -15.41149046, -14.93516299, -13.42514157,\n",
    "       -14.12110495, -17.6412464 , -16.1275509 , -16.11533771,\n",
    "       -15.66076021, -13.48938865, -11.33918701, -11.70467566])"
   ]
  },
  {
   "cell_type": "code",
   "execution_count": null,
   "id": "5a38bc8b",
   "metadata": {},
   "outputs": [],
   "source": []
  },
  {
   "cell_type": "markdown",
   "id": "ee18ef05",
   "metadata": {},
   "source": [
    "---\n",
    "### Zadanie 2\n",
    "Wiadomo, że ruch ciała o masie $m$ na sprężynie o współczynniku sprężystości $k$ opisuje się wzorem $y(t)=A\\cos(\\omega t+\\phi)$, gdzie $\\omega=\\sqrt{k/m}$ jest częstotliwością ruchów (jeśli $T$ jest okresem ruchu, to $\\omega=\\frac{2\\pi}{T}$).\n",
    "\n",
    "Na nieopisanej sprężynie zawieszono obiekt o masie $0.1$kg i dokonano poniższych pomiarów. \n",
    "\n",
    "1. Na podstawie wykresu dokonaj wstępnego przybliżenia parametrów.\n",
    "1. Określ współczynnik sprężystości $k$.\n",
    "\n",
    "---"
   ]
  },
  {
   "cell_type": "code",
   "execution_count": 41,
   "id": "a10a50be",
   "metadata": {},
   "outputs": [],
   "source": [
    "t_data = np.array([ 0.   ,  0.34482759,  0.68965517,  1.03448276,  1.37931034,\n",
    "        1.72413793,  2.06896552,  2.4137931 ,  2.75862069,  3.10344828,\n",
    "        3.44827586,  3.79310345,  4.13793103,  4.48275862,  4.82758621,\n",
    "        5.17241379,  5.51724138,  5.86206897,  6.20689655,  6.55172414,\n",
    "        6.89655172,  7.24137931,  7.5862069 ,  7.93103448,  8.27586207,\n",
    "        8.62068966,  8.96551724,  9.31034483,  9.65517241, 10.        ])\n",
    "y_data = np.array([ 4.3303953 ,  1.61137995, -2.15418696, -3.90137249, -1.67259042,\n",
    "        2.16884383,  3.86635998,  1.85194506, -1.8489224 , -3.96560495,\n",
    "       -2.13385255,  1.59425817,  4.06145238,  1.89300594, -1.76870297,\n",
    "       -4.26791226, -2.46874133,  1.37019912,  4.24945607,  2.27038039,\n",
    "       -1.50299303, -3.46774049, -2.50845488,  1.20022052,  3.81633703,\n",
    "        2.91511556, -1.24569189, -3.72716214, -2.54549857,  0.87262548])"
   ]
  },
  {
   "cell_type": "code",
   "execution_count": null,
   "id": "b9708fc6",
   "metadata": {},
   "outputs": [],
   "source": []
  },
  {
   "cell_type": "markdown",
   "id": "a346ab23",
   "metadata": {},
   "source": [
    "### Zadanie 3\n",
    "\n",
    "Liczba ludności w Polsce w poszczególnych latach od 1946 do 2021 dana jest w poniższej liście `ludnosc`. Przyjmując logistyczny model populacji wiemy, że liczba ludności wyraża się wzorem:\n",
    "$$\n",
    "P(t)=\\frac{P_0 K e^{rt}}{(K-P_0)+P_0e^{rt}},\n",
    "$$\n",
    "gdzie $P_0$ jest populacją początkową, $K$ - limitem populacji, $r$ - tempem wzrostu. Na podstawie danych określ $K$ i $r$ dla Polski. \n",
    "\n",
    "Ile ludności było w Polsce w roku 1930 według przyjętego modelu?\n"
   ]
  },
  {
   "cell_type": "code",
   "execution_count": 7,
   "id": "ccb7edff",
   "metadata": {},
   "outputs": [],
   "source": [
    "ludnosc=np.array([23640, 25035, 25507, 25999, 26511, 27012, 27550, 28080, 28540,29000,\n",
    "         29480,29795,30133,30484,30940,31339,31551,31811,32163,32426,32671,\n",
    "         32658,32909,33202,33512,33846,34185,34528,34850,35081,35414,35735,\n",
    "         36062,36399,36745,37063,37341,37572,37764,37885,37988,38073,38144,\n",
    "         38203,38239,38265,38284,38294,38290,38277,38263,38254,38242,38219,\n",
    "         38191,38174,38157,38125,38116,38136,38167,38530,38538,38533,38496,\n",
    "         38479,38437,38433,38434,38411,38383,38089, 37908])"
   ]
  },
  {
   "cell_type": "code",
   "execution_count": null,
   "id": "ee9bcf6e",
   "metadata": {},
   "outputs": [],
   "source": []
  },
  {
   "cell_type": "markdown",
   "id": "593a94cb",
   "metadata": {},
   "source": [
    "## Interpolacja\n",
    "\n",
    "Dla danych $x_{data}=[\\ldots]$ oraz $y_{data}=[\\ldots]$ chcemy znaleźć funkcję, która w punktach $x_{data}$ przyjmuje **dokładnie** wartości $y_{data}$. Dzięki uzyskanej funkcji możemy liczyć (interpolować lub ekstrapolować) wartości w punktach spoza zbioru $x_{data}$."
   ]
  },
  {
   "cell_type": "code",
   "execution_count": null,
   "id": "eb32be29",
   "metadata": {},
   "outputs": [],
   "source": []
  },
  {
   "cell_type": "code",
   "execution_count": null,
   "id": "000ac1b7",
   "metadata": {},
   "outputs": [],
   "source": []
  },
  {
   "cell_type": "code",
   "execution_count": null,
   "id": "cf9466df",
   "metadata": {},
   "outputs": [],
   "source": []
  },
  {
   "cell_type": "markdown",
   "id": "3915a6e5",
   "metadata": {},
   "source": [
    "Do interpolowania posłuży nam `scipy.interpolate.interp1d`, która interpoluje funkcjami sklejonymi."
   ]
  },
  {
   "cell_type": "code",
   "execution_count": null,
   "id": "504c5a3f",
   "metadata": {},
   "outputs": [],
   "source": []
  },
  {
   "cell_type": "code",
   "execution_count": null,
   "id": "89d61fb8",
   "metadata": {},
   "outputs": [],
   "source": []
  },
  {
   "cell_type": "markdown",
   "id": "4b276baa",
   "metadata": {},
   "source": [
    "Bardzej gładkie aproksymacje uzyskamy dodając argument `kind=\"cubic\"`"
   ]
  },
  {
   "cell_type": "code",
   "execution_count": null,
   "id": "04b33003",
   "metadata": {},
   "outputs": [],
   "source": []
  },
  {
   "cell_type": "code",
   "execution_count": null,
   "id": "b048d027",
   "metadata": {},
   "outputs": [],
   "source": []
  },
  {
   "cell_type": "markdown",
   "id": "6e416997",
   "metadata": {},
   "source": [
    "---\n",
    "### Zadanie 4\n",
    "16 kwietnia o godz. 13:00 znaleziono w lesie zwłoki. Temperatura zwłok wynosiła 22.2 stopnia Celcjusza. Pomiar po godzinie wykazał 21.9 stopnia. W celu określenia czasu zgonu pobrano dane z pobliskiej stacji pogodowej z ostatnich 24h (od 14:00 15 kwietnia do 14:00 16 kwietnia). Oszacuj godzinę śmierci.\n",
    "\n",
    "*Przypomnienie*: zmiana temperatury jest proporcjonalna do różnicy temperatur. Jeśli temperatura otoczenia jest stała, to rozwiązanie równania $T'(t)=k(T(t)-T_{ot})$ jest postaci $T(t)=T_{ot}+(T(0)-T_{ot})e^{kt}$.\n",
    "\n",
    "---"
   ]
  },
  {
   "cell_type": "code",
   "execution_count": 61,
   "id": "a52ebf07",
   "metadata": {},
   "outputs": [
    {
     "data": {
      "text/plain": [
       "25"
      ]
     },
     "execution_count": 61,
     "metadata": {},
     "output_type": "execute_result"
    }
   ],
   "source": [
    "temperatury=np.array([17.5,18, 17.2,16.5,16, 15.2,13.8,12,11,9.8, 8, 7.2,6, 6.2, 6.4, 7.2,7.4,7.8, 9.5, 10.5, 12, 14.2, 15.5,16.1, 16.1])\n",
    "temperatury.size"
   ]
  },
  {
   "cell_type": "code",
   "execution_count": null,
   "id": "9734f4ac",
   "metadata": {},
   "outputs": [],
   "source": []
  },
  {
   "cell_type": "markdown",
   "id": "32465528",
   "metadata": {},
   "source": [
    "## Zadanie domowe dodatkowe\n",
    "\n",
    "Przez $n+1$ danych punktów przechodzi dokładnie jeden wielomian stopnia $n$. Jego wzór dla danych $X=[x_i]$ oraz $Y=[y_i]$ jest następujący (wielomian interpolacyjny Lagrange'a):\n",
    "\n",
    "$$\n",
    "P(x)=\\sum_{i=0}^n \\left[ y_i \\prod_{j\\neq i} \\frac{x-x_j}{x_i-x_j}\\right]\n",
    "$$\n",
    "\n",
    "### Zadanie punktowane\n",
    "*Liczba punktów będzie zależeć od szybkości działania kodu na wybranych przez prowadzącego danych. Osoba z najszybszym kodem dostanie 15 punktów, kolejne mniej proporcjonalnie do liczby zgłoszeń. Wszystkie osoby, których program będzie szybszy niż prowadzącego otrzymają dodatkowe 10 punktów.*\n",
    "\n",
    "Napisz funkcję `lagrange(X,Y,x0)` obliczającą wartość wielomianu interpolacyjnego Lagrange'a w zadanym punkcie. Funkcja powinna przyjmować następujące argumenty:\n",
    "\n",
    "* X - tablicę argumentów $x_i$,\n",
    "* Y - tablicę wartości $y_i$,\n",
    "* x0 - punkt, w którym liczymy wartość wielomianu.\n",
    "\n",
    "### Zadania dla własnej przyjemności\n",
    "b) wybierz dwie funkcje: wielomian stopnia 5 i inną funkcję niebędącą wielomianem. Sporządź ich aproksymacje za pomocą 4 wybranych punktów. Porównaj wykresy oryginalnych funkcji i ich przybliżeń. Sformułuj wnioski.\n",
    "\n",
    "c) napisz funkcję `lagrange_symb(X,Y)`, która wypisze symboliczny wzór na wielomian interpolacyjny Lagrange'a przez punkty $X,Y$."
   ]
  },
  {
   "cell_type": "code",
   "execution_count": null,
   "id": "f8701991",
   "metadata": {},
   "outputs": [],
   "source": []
  }
 ],
 "metadata": {
  "kernelspec": {
   "display_name": "Python 3 (ipykernel)",
   "language": "python",
   "name": "python3"
  },
  "language_info": {
   "codemirror_mode": {
    "name": "ipython",
    "version": 3
   },
   "file_extension": ".py",
   "mimetype": "text/x-python",
   "name": "python",
   "nbconvert_exporter": "python",
   "pygments_lexer": "ipython3",
   "version": "3.9.16"
  }
 },
 "nbformat": 4,
 "nbformat_minor": 5
}
